{
 "cells": [
  {
   "cell_type": "code",
   "execution_count": 1,
   "metadata": {},
   "outputs": [],
   "source": [
    "import transformers\n",
    "from transformers import (\n",
    "    pipeline,\n",
    "    set_seed,\n",
    "    AutoTokenizer,\n",
    "    AutoModelForSeq2SeqLM,\n",
    "    DataCollatorForSeq2Seq,\n",
    "    TrainingArguments,\n",
    "    Trainer,\n",
    ")\n",
    "import datasets\n",
    "from datasets import load_dataset, load_from_disk, load_metric\n",
    "\n",
    "import matplotlib.pyplot as plt\n",
    "import pandas as pd\n",
    "\n",
    "import nltk\n",
    "from nltk.tokenize import sent_tokenize\n",
    "\n",
    "from tqdm import tqdm\n",
    "import torch"
   ]
  },
  {
   "cell_type": "code",
   "execution_count": 2,
   "metadata": {},
   "outputs": [
    {
     "name": "stderr",
     "output_type": "stream",
     "text": [
      "[nltk_data] Downloading package punkt to /home/migue/nltk_data...\n",
      "[nltk_data]   Package punkt is already up-to-date!\n"
     ]
    },
    {
     "data": {
      "text/plain": [
       "True"
      ]
     },
     "execution_count": 2,
     "metadata": {},
     "output_type": "execute_result"
    }
   ],
   "source": [
    "nltk.download(\"punkt\")"
   ]
  },
  {
   "cell_type": "code",
   "execution_count": 3,
   "metadata": {},
   "outputs": [
    {
     "data": {
      "text/plain": [
       "'cuda'"
      ]
     },
     "execution_count": 3,
     "metadata": {},
     "output_type": "execute_result"
    }
   ],
   "source": [
    "device = \"cuda\" if torch.cuda.is_available() else \"cpu\"\n",
    "device"
   ]
  },
  {
   "cell_type": "code",
   "execution_count": 4,
   "metadata": {},
   "outputs": [
    {
     "name": "stderr",
     "output_type": "stream",
     "text": [
      "/home/migue/miniconda3/envs/pytorch/lib/python3.12/site-packages/transformers/tokenization_utils_base.py:1601: FutureWarning: `clean_up_tokenization_spaces` was not set. It will be set to `True` by default. This behavior will be depracted in transformers v4.45, and will be then set to `False` by default. For more details check this issue: https://github.com/huggingface/transformers/issues/31884\n",
      "  warnings.warn(\n",
      "Some weights of PegasusForConditionalGeneration were not initialized from the model checkpoint at google/pegasus-cnn_dailymail and are newly initialized: ['model.decoder.embed_positions.weight', 'model.encoder.embed_positions.weight']\n",
      "You should probably TRAIN this model on a down-stream task to be able to use it for predictions and inference.\n"
     ]
    }
   ],
   "source": [
    "model_ckpt = \"google/pegasus-cnn_dailymail\"\n",
    "tokenizer = AutoTokenizer.from_pretrained(model_ckpt)\n",
    "model_pegasus = AutoModelForSeq2SeqLM.from_pretrained(model_ckpt)"
   ]
  },
  {
   "cell_type": "code",
   "execution_count": 5,
   "metadata": {},
   "outputs": [
    {
     "data": {
      "text/plain": [
       "transformers.models.pegasus.modeling_pegasus.PegasusForConditionalGeneration"
      ]
     },
     "execution_count": 5,
     "metadata": {},
     "output_type": "execute_result"
    }
   ],
   "source": [
    "type(model_pegasus)"
   ]
  },
  {
   "cell_type": "code",
   "execution_count": 13,
   "metadata": {},
   "outputs": [],
   "source": [
    "# Original dataset\n",
    "# dataset_ckpt = \"Samsung/samsum\"\n",
    "\n",
    "dataset = load_from_disk(\"../data/samsum_dataset/\")"
   ]
  },
  {
   "cell_type": "code",
   "execution_count": 14,
   "metadata": {},
   "outputs": [
    {
     "data": {
      "text/plain": [
       "DatasetDict({\n",
       "    train: Dataset({\n",
       "        features: ['id', 'dialogue', 'summary'],\n",
       "        num_rows: 14732\n",
       "    })\n",
       "    test: Dataset({\n",
       "        features: ['id', 'dialogue', 'summary'],\n",
       "        num_rows: 819\n",
       "    })\n",
       "    validation: Dataset({\n",
       "        features: ['id', 'dialogue', 'summary'],\n",
       "        num_rows: 818\n",
       "    })\n",
       "})"
      ]
     },
     "execution_count": 14,
     "metadata": {},
     "output_type": "execute_result"
    }
   ],
   "source": [
    "dataset"
   ]
  },
  {
   "cell_type": "code",
   "execution_count": 7,
   "metadata": {},
   "outputs": [
    {
     "name": "stdout",
     "output_type": "stream",
     "text": [
      "\n",
      "Dialogue:\n",
      "Eric: MACHINE!\n",
      "Rob: That's so gr8!\n",
      "Eric: I know! And shows how Americans see Russian ;)\n",
      "Rob: And it's really funny!\n",
      "Eric: I know! I especially like the train part!\n",
      "Rob: Hahaha! No one talks to the machine like that!\n",
      "Eric: Is this his only stand-up?\n",
      "Rob: Idk. I'll check.\n",
      "Eric: Sure.\n",
      "Rob: Turns out no! There are some of his stand-ups on youtube.\n",
      "Eric: Gr8! I'll watch them now!\n",
      "Rob: Me too!\n",
      "Eric: MACHINE!\n",
      "Rob: MACHINE!\n",
      "Eric: TTYL?\n",
      "Rob: Sure :)\n",
      "\n",
      "Summary:\n",
      "Eric and Rob are going to watch a stand-up on youtube.\n"
     ]
    }
   ],
   "source": [
    "print(\"\\nDialogue:\")\n",
    "\n",
    "print(dataset[\"test\"][1][\"dialogue\"])\n",
    "\n",
    "print(\"\\nSummary:\")\n",
    "\n",
    "print(dataset[\"test\"][1][\"summary\"])"
   ]
  },
  {
   "cell_type": "code",
   "execution_count": 8,
   "metadata": {},
   "outputs": [],
   "source": [
    "def convert_examples_to_features(example_batch):\n",
    "    input_encodings = tokenizer(\n",
    "        example_batch[\"dialogue\"], max_length=1024, truncation=True\n",
    "    )\n",
    "\n",
    "    with tokenizer.as_target_tokenizer():\n",
    "        target_encodings = tokenizer(\n",
    "            example_batch[\"summary\"], max_length=128, truncation=True\n",
    "        )\n",
    "\n",
    "    return {\n",
    "        \"input_ids\": input_encodings[\"input_ids\"],\n",
    "        \"attention_mask\": input_encodings[\"attention_mask\"],\n",
    "        \"labels\": target_encodings[\"input_ids\"],\n",
    "    }"
   ]
  },
  {
   "cell_type": "code",
   "execution_count": 9,
   "metadata": {},
   "outputs": [],
   "source": [
    "dataset_pt = dataset.map(convert_examples_to_features, batched=True)"
   ]
  },
  {
   "cell_type": "code",
   "execution_count": 10,
   "metadata": {},
   "outputs": [
    {
     "data": {
      "text/plain": [
       "DatasetDict({\n",
       "    train: Dataset({\n",
       "        features: ['id', 'dialogue', 'summary', 'input_ids', 'attention_mask', 'labels'],\n",
       "        num_rows: 14732\n",
       "    })\n",
       "    test: Dataset({\n",
       "        features: ['id', 'dialogue', 'summary', 'input_ids', 'attention_mask', 'labels'],\n",
       "        num_rows: 819\n",
       "    })\n",
       "    validation: Dataset({\n",
       "        features: ['id', 'dialogue', 'summary', 'input_ids', 'attention_mask', 'labels'],\n",
       "        num_rows: 818\n",
       "    })\n",
       "})"
      ]
     },
     "execution_count": 10,
     "metadata": {},
     "output_type": "execute_result"
    }
   ],
   "source": [
    "dataset_pt"
   ]
  },
  {
   "cell_type": "markdown",
   "metadata": {},
   "source": [
    "## **Training**"
   ]
  },
  {
   "cell_type": "code",
   "execution_count": 10,
   "metadata": {},
   "outputs": [],
   "source": [
    "seq2seq_data_collator = DataCollatorForSeq2Seq(tokenizer, model=model_pegasus)"
   ]
  },
  {
   "cell_type": "code",
   "execution_count": 11,
   "metadata": {},
   "outputs": [
    {
     "name": "stderr",
     "output_type": "stream",
     "text": [
      "/home/migue/miniconda3/envs/pytorch/lib/python3.12/site-packages/transformers/training_args.py:1525: FutureWarning: `evaluation_strategy` is deprecated and will be removed in version 4.46 of 🤗 Transformers. Use `eval_strategy` instead\n",
      "  warnings.warn(\n"
     ]
    }
   ],
   "source": [
    "args = TrainingArguments(\n",
    "    output_dir=\"pegasus-samsum\",\n",
    "    num_train_epochs=1,\n",
    "    warmup_steps=500,\n",
    "    per_device_train_batch_size=1,\n",
    "    per_device_eval_batch_size=1,\n",
    "    weight_decay=0.01,\n",
    "    logging_steps=10,\n",
    "    evaluation_strategy=\"steps\",\n",
    "    eval_steps=500,\n",
    "    save_steps=1e6,\n",
    ")"
   ]
  },
  {
   "cell_type": "code",
   "execution_count": 14,
   "metadata": {},
   "outputs": [],
   "source": [
    "trainer = Trainer(\n",
    "    model=model_pegasus,\n",
    "    args=args,\n",
    "    tokenizer=tokenizer,\n",
    "    data_collator=seq2seq_data_collator,\n",
    "    train_dataset=dataset_pt[\"train\"],\n",
    "    eval_dataset=dataset_pt[\"validation\"],\n",
    ")"
   ]
  },
  {
   "cell_type": "code",
   "execution_count": 15,
   "metadata": {},
   "outputs": [
    {
     "data": {
      "application/vnd.jupyter.widget-view+json": {
       "model_id": "8ba01844729f4475855fdbd3d3521e47",
       "version_major": 2,
       "version_minor": 0
      },
      "text/plain": [
       "  0%|          | 0/14732 [00:00<?, ?it/s]"
      ]
     },
     "metadata": {},
     "output_type": "display_data"
    },
    {
     "name": "stdout",
     "output_type": "stream",
     "text": [
      "{'loss': 2.7604, 'grad_norm': 30.42899513244629, 'learning_rate': 1.0000000000000002e-06, 'epoch': 0.0}\n",
      "{'loss': 2.4426, 'grad_norm': 23.118608474731445, 'learning_rate': 2.0000000000000003e-06, 'epoch': 0.0}\n",
      "{'loss': 3.2571, 'grad_norm': 26.332117080688477, 'learning_rate': 3e-06, 'epoch': 0.0}\n",
      "{'loss': 2.3593, 'grad_norm': 23.13451385498047, 'learning_rate': 4.000000000000001e-06, 'epoch': 0.0}\n",
      "{'loss': 2.9409, 'grad_norm': 31.846843719482422, 'learning_rate': 5e-06, 'epoch': 0.0}\n",
      "{'loss': 2.8125, 'grad_norm': 24.13215446472168, 'learning_rate': 6e-06, 'epoch': 0.0}\n",
      "{'loss': 2.7213, 'grad_norm': 28.695457458496094, 'learning_rate': 7.000000000000001e-06, 'epoch': 0.0}\n",
      "{'loss': 2.3109, 'grad_norm': 62.47607421875, 'learning_rate': 8.000000000000001e-06, 'epoch': 0.01}\n",
      "{'loss': 3.5241, 'grad_norm': 81.56250762939453, 'learning_rate': 9e-06, 'epoch': 0.01}\n",
      "{'loss': 2.7298, 'grad_norm': 40.950252532958984, 'learning_rate': 1e-05, 'epoch': 0.01}\n",
      "{'loss': 2.4596, 'grad_norm': 18.904888153076172, 'learning_rate': 1.1000000000000001e-05, 'epoch': 0.01}\n",
      "{'loss': 2.5362, 'grad_norm': 23.85222053527832, 'learning_rate': 1.2e-05, 'epoch': 0.01}\n",
      "{'loss': 2.3924, 'grad_norm': 50.37208557128906, 'learning_rate': 1.3000000000000001e-05, 'epoch': 0.01}\n",
      "{'loss': 2.5447, 'grad_norm': 38.55198669433594, 'learning_rate': 1.4000000000000001e-05, 'epoch': 0.01}\n",
      "{'loss': 2.4542, 'grad_norm': 39.53385543823242, 'learning_rate': 1.5e-05, 'epoch': 0.01}\n",
      "{'loss': 3.1673, 'grad_norm': 22.59332847595215, 'learning_rate': 1.6000000000000003e-05, 'epoch': 0.01}\n",
      "{'loss': 2.3142, 'grad_norm': 161.19219970703125, 'learning_rate': 1.7000000000000003e-05, 'epoch': 0.01}\n",
      "{'loss': 2.6226, 'grad_norm': 46.13747787475586, 'learning_rate': 1.8e-05, 'epoch': 0.01}\n",
      "{'loss': 1.9995, 'grad_norm': 19.352243423461914, 'learning_rate': 1.9e-05, 'epoch': 0.01}\n",
      "{'loss': 2.0709, 'grad_norm': 31.8218994140625, 'learning_rate': 2e-05, 'epoch': 0.01}\n",
      "{'loss': 1.6113, 'grad_norm': 73.48777770996094, 'learning_rate': 2.1e-05, 'epoch': 0.01}\n",
      "{'loss': 2.1575, 'grad_norm': 19.726598739624023, 'learning_rate': 2.2000000000000003e-05, 'epoch': 0.01}\n",
      "{'loss': 2.4278, 'grad_norm': 12.96795654296875, 'learning_rate': 2.3000000000000003e-05, 'epoch': 0.02}\n",
      "{'loss': 2.1912, 'grad_norm': 25.799531936645508, 'learning_rate': 2.4e-05, 'epoch': 0.02}\n",
      "{'loss': 2.0003, 'grad_norm': 27.162609100341797, 'learning_rate': 2.5e-05, 'epoch': 0.02}\n",
      "{'loss': 1.9378, 'grad_norm': 14.0473051071167, 'learning_rate': 2.6000000000000002e-05, 'epoch': 0.02}\n",
      "{'loss': 2.2436, 'grad_norm': 18.753416061401367, 'learning_rate': 2.7000000000000002e-05, 'epoch': 0.02}\n",
      "{'loss': 2.5174, 'grad_norm': 31.855003356933594, 'learning_rate': 2.8000000000000003e-05, 'epoch': 0.02}\n",
      "{'loss': 2.8533, 'grad_norm': 14.427684783935547, 'learning_rate': 2.9e-05, 'epoch': 0.02}\n",
      "{'loss': 1.9244, 'grad_norm': 15.587105751037598, 'learning_rate': 3e-05, 'epoch': 0.02}\n",
      "{'loss': 2.3396, 'grad_norm': 15.90715503692627, 'learning_rate': 3.1e-05, 'epoch': 0.02}\n",
      "{'loss': 1.8155, 'grad_norm': 19.660213470458984, 'learning_rate': 3.2000000000000005e-05, 'epoch': 0.02}\n",
      "{'loss': 1.6787, 'grad_norm': 12.979090690612793, 'learning_rate': 3.3e-05, 'epoch': 0.02}\n",
      "{'loss': 1.9817, 'grad_norm': 13.722700119018555, 'learning_rate': 3.4000000000000007e-05, 'epoch': 0.02}\n",
      "{'loss': 1.8943, 'grad_norm': 33.28526306152344, 'learning_rate': 3.5e-05, 'epoch': 0.02}\n",
      "{'loss': 2.0974, 'grad_norm': 20.726749420166016, 'learning_rate': 3.6e-05, 'epoch': 0.02}\n",
      "{'loss': 1.6658, 'grad_norm': 16.495073318481445, 'learning_rate': 3.7e-05, 'epoch': 0.03}\n",
      "{'loss': 1.6246, 'grad_norm': 24.62222671508789, 'learning_rate': 3.8e-05, 'epoch': 0.03}\n",
      "{'loss': 2.0513, 'grad_norm': 14.045053482055664, 'learning_rate': 3.9000000000000006e-05, 'epoch': 0.03}\n",
      "{'loss': 2.1632, 'grad_norm': 22.91674041748047, 'learning_rate': 4e-05, 'epoch': 0.03}\n",
      "{'loss': 2.0841, 'grad_norm': 21.705366134643555, 'learning_rate': 4.1e-05, 'epoch': 0.03}\n",
      "{'loss': 1.9378, 'grad_norm': 10.898478507995605, 'learning_rate': 4.2e-05, 'epoch': 0.03}\n",
      "{'loss': 2.0056, 'grad_norm': 40.25940704345703, 'learning_rate': 4.3e-05, 'epoch': 0.03}\n",
      "{'loss': 1.9389, 'grad_norm': 13.91185188293457, 'learning_rate': 4.4000000000000006e-05, 'epoch': 0.03}\n",
      "{'loss': 1.8837, 'grad_norm': 32.524837493896484, 'learning_rate': 4.5e-05, 'epoch': 0.03}\n",
      "{'loss': 2.0771, 'grad_norm': 14.246132850646973, 'learning_rate': 4.600000000000001e-05, 'epoch': 0.03}\n",
      "{'loss': 1.9933, 'grad_norm': 50.536922454833984, 'learning_rate': 4.7e-05, 'epoch': 0.03}\n",
      "{'loss': 1.393, 'grad_norm': 12.18620491027832, 'learning_rate': 4.8e-05, 'epoch': 0.03}\n",
      "{'loss': 1.9031, 'grad_norm': 19.945411682128906, 'learning_rate': 4.9e-05, 'epoch': 0.03}\n",
      "{'loss': 2.2889, 'grad_norm': 11.322405815124512, 'learning_rate': 5e-05, 'epoch': 0.03}\n"
     ]
    },
    {
     "data": {
      "application/vnd.jupyter.widget-view+json": {
       "model_id": "d5e74a02207744d99d6796b223cf0a17",
       "version_major": 2,
       "version_minor": 0
      },
      "text/plain": [
       "  0%|          | 0/818 [00:00<?, ?it/s]"
      ]
     },
     "metadata": {},
     "output_type": "display_data"
    },
    {
     "name": "stdout",
     "output_type": "stream",
     "text": [
      "{'eval_loss': 1.6349713802337646, 'eval_runtime': 14.9862, 'eval_samples_per_second': 54.584, 'eval_steps_per_second': 54.584, 'epoch': 0.03}\n",
      "{'loss': 1.9238, 'grad_norm': 12.622907638549805, 'learning_rate': 4.996486790331647e-05, 'epoch': 0.03}\n",
      "{'loss': 1.8938, 'grad_norm': 9.204163551330566, 'learning_rate': 4.9929735806632945e-05, 'epoch': 0.04}\n",
      "{'loss': 1.8266, 'grad_norm': 31.66956901550293, 'learning_rate': 4.989460370994941e-05, 'epoch': 0.04}\n",
      "{'loss': 2.3382, 'grad_norm': 28.213336944580078, 'learning_rate': 4.985947161326589e-05, 'epoch': 0.04}\n",
      "{'loss': 1.8422, 'grad_norm': 9.633828163146973, 'learning_rate': 4.982433951658235e-05, 'epoch': 0.04}\n",
      "{'loss': 2.0922, 'grad_norm': 24.05801773071289, 'learning_rate': 4.978920741989882e-05, 'epoch': 0.04}\n",
      "{'loss': 2.3075, 'grad_norm': 19.188026428222656, 'learning_rate': 4.9754075323215294e-05, 'epoch': 0.04}\n",
      "{'loss': 1.8832, 'grad_norm': 12.737325668334961, 'learning_rate': 4.971894322653176e-05, 'epoch': 0.04}\n",
      "{'loss': 1.537, 'grad_norm': 39.22222137451172, 'learning_rate': 4.968381112984824e-05, 'epoch': 0.04}\n",
      "{'loss': 1.6537, 'grad_norm': 12.70226764678955, 'learning_rate': 4.96486790331647e-05, 'epoch': 0.04}\n",
      "{'loss': 1.7176, 'grad_norm': 17.36036491394043, 'learning_rate': 4.961354693648117e-05, 'epoch': 0.04}\n",
      "{'loss': 1.784, 'grad_norm': 7.653620719909668, 'learning_rate': 4.9578414839797644e-05, 'epoch': 0.04}\n",
      "{'loss': 1.6445, 'grad_norm': 29.236061096191406, 'learning_rate': 4.954328274311411e-05, 'epoch': 0.04}\n",
      "{'loss': 1.8897, 'grad_norm': 81.04552459716797, 'learning_rate': 4.950815064643058e-05, 'epoch': 0.04}\n",
      "{'loss': 1.954, 'grad_norm': 16.72102928161621, 'learning_rate': 4.947301854974705e-05, 'epoch': 0.04}\n",
      "{'loss': 1.7119, 'grad_norm': 11.985119819641113, 'learning_rate': 4.943788645306352e-05, 'epoch': 0.04}\n",
      "{'loss': 1.5752, 'grad_norm': 11.705205917358398, 'learning_rate': 4.940275435637999e-05, 'epoch': 0.05}\n",
      "{'loss': 1.9002, 'grad_norm': 9.267568588256836, 'learning_rate': 4.936762225969646e-05, 'epoch': 0.05}\n",
      "{'loss': 1.6617, 'grad_norm': 8.917341232299805, 'learning_rate': 4.933249016301293e-05, 'epoch': 0.05}\n",
      "{'loss': 1.8837, 'grad_norm': 15.117118835449219, 'learning_rate': 4.92973580663294e-05, 'epoch': 0.05}\n",
      "{'loss': 2.3519, 'grad_norm': 13.367746353149414, 'learning_rate': 4.926222596964587e-05, 'epoch': 0.05}\n",
      "{'loss': 1.7254, 'grad_norm': 17.28826141357422, 'learning_rate': 4.922709387296234e-05, 'epoch': 0.05}\n",
      "{'loss': 1.8015, 'grad_norm': 8.049114227294922, 'learning_rate': 4.9191961776278814e-05, 'epoch': 0.05}\n",
      "{'loss': 1.6244, 'grad_norm': 13.4157133102417, 'learning_rate': 4.915682967959528e-05, 'epoch': 0.05}\n",
      "{'loss': 1.6699, 'grad_norm': 20.762805938720703, 'learning_rate': 4.912169758291175e-05, 'epoch': 0.05}\n",
      "{'loss': 1.4187, 'grad_norm': 13.988170623779297, 'learning_rate': 4.908656548622822e-05, 'epoch': 0.05}\n",
      "{'loss': 2.0065, 'grad_norm': 12.26074504852295, 'learning_rate': 4.905143338954469e-05, 'epoch': 0.05}\n",
      "{'loss': 2.2353, 'grad_norm': 13.465002059936523, 'learning_rate': 4.9016301292861163e-05, 'epoch': 0.05}\n",
      "{'loss': 1.543, 'grad_norm': 11.802139282226562, 'learning_rate': 4.898116919617763e-05, 'epoch': 0.05}\n",
      "{'loss': 1.4725, 'grad_norm': 10.831531524658203, 'learning_rate': 4.89460370994941e-05, 'epoch': 0.05}\n",
      "{'loss': 1.696, 'grad_norm': 12.30757999420166, 'learning_rate': 4.891090500281057e-05, 'epoch': 0.05}\n",
      "{'loss': 1.9451, 'grad_norm': 29.250167846679688, 'learning_rate': 4.8875772906127035e-05, 'epoch': 0.06}\n",
      "{'loss': 1.6832, 'grad_norm': 14.269766807556152, 'learning_rate': 4.884064080944351e-05, 'epoch': 0.06}\n",
      "{'loss': 1.4005, 'grad_norm': 256.31842041015625, 'learning_rate': 4.880550871275998e-05, 'epoch': 0.06}\n",
      "{'loss': 1.5057, 'grad_norm': 8.85312557220459, 'learning_rate': 4.877037661607645e-05, 'epoch': 0.06}\n",
      "{'loss': 1.7996, 'grad_norm': 17.964109420776367, 'learning_rate': 4.873524451939292e-05, 'epoch': 0.06}\n",
      "{'loss': 2.3347, 'grad_norm': 12.498514175415039, 'learning_rate': 4.8700112422709384e-05, 'epoch': 0.06}\n",
      "{'loss': 1.722, 'grad_norm': 18.434242248535156, 'learning_rate': 4.866498032602586e-05, 'epoch': 0.06}\n",
      "{'loss': 1.7714, 'grad_norm': 64.59928894042969, 'learning_rate': 4.862984822934233e-05, 'epoch': 0.06}\n",
      "{'loss': 1.9553, 'grad_norm': 15.351325035095215, 'learning_rate': 4.8594716132658805e-05, 'epoch': 0.06}\n",
      "{'loss': 1.7602, 'grad_norm': 17.55167007446289, 'learning_rate': 4.855958403597527e-05, 'epoch': 0.06}\n",
      "{'loss': 1.6526, 'grad_norm': 13.035757064819336, 'learning_rate': 4.852445193929174e-05, 'epoch': 0.06}\n",
      "{'loss': 1.7178, 'grad_norm': 13.914349555969238, 'learning_rate': 4.848931984260821e-05, 'epoch': 0.06}\n",
      "{'loss': 1.6744, 'grad_norm': 10.784465789794922, 'learning_rate': 4.8454187745924676e-05, 'epoch': 0.06}\n",
      "{'loss': 2.2057, 'grad_norm': 8.429244995117188, 'learning_rate': 4.8419055649241154e-05, 'epoch': 0.06}\n",
      "{'loss': 1.7938, 'grad_norm': 11.950904846191406, 'learning_rate': 4.838392355255762e-05, 'epoch': 0.07}\n",
      "{'loss': 1.7274, 'grad_norm': 23.83091926574707, 'learning_rate': 4.834879145587409e-05, 'epoch': 0.07}\n",
      "{'loss': 1.7228, 'grad_norm': 9.256736755371094, 'learning_rate': 4.831365935919056e-05, 'epoch': 0.07}\n",
      "{'loss': 1.7314, 'grad_norm': 9.832154273986816, 'learning_rate': 4.8278527262507026e-05, 'epoch': 0.07}\n",
      "{'loss': 1.854, 'grad_norm': 8.705246925354004, 'learning_rate': 4.82433951658235e-05, 'epoch': 0.07}\n"
     ]
    },
    {
     "data": {
      "application/vnd.jupyter.widget-view+json": {
       "model_id": "3719a5675994441aa5d4be5e69c111aa",
       "version_major": 2,
       "version_minor": 0
      },
      "text/plain": [
       "  0%|          | 0/818 [00:00<?, ?it/s]"
      ]
     },
     "metadata": {},
     "output_type": "display_data"
    },
    {
     "name": "stdout",
     "output_type": "stream",
     "text": [
      "{'eval_loss': 1.5441570281982422, 'eval_runtime': 15.2013, 'eval_samples_per_second': 53.811, 'eval_steps_per_second': 53.811, 'epoch': 0.07}\n",
      "{'loss': 1.8958, 'grad_norm': 8.3252592086792, 'learning_rate': 4.820826306913997e-05, 'epoch': 0.07}\n",
      "{'loss': 1.7086, 'grad_norm': 18.545446395874023, 'learning_rate': 4.817313097245644e-05, 'epoch': 0.07}\n",
      "{'loss': 1.6737, 'grad_norm': 10.127016067504883, 'learning_rate': 4.813799887577291e-05, 'epoch': 0.07}\n",
      "{'loss': 2.2151, 'grad_norm': 10.360091209411621, 'learning_rate': 4.8102866779089375e-05, 'epoch': 0.07}\n",
      "{'loss': 1.707, 'grad_norm': 10.350958824157715, 'learning_rate': 4.8067734682405846e-05, 'epoch': 0.07}\n",
      "{'loss': 1.438, 'grad_norm': 8.002367973327637, 'learning_rate': 4.803260258572232e-05, 'epoch': 0.07}\n",
      "{'loss': 1.5571, 'grad_norm': 6.389379501342773, 'learning_rate': 4.799747048903879e-05, 'epoch': 0.07}\n",
      "{'loss': 1.5697, 'grad_norm': 12.060235023498535, 'learning_rate': 4.796233839235526e-05, 'epoch': 0.07}\n",
      "{'loss': 1.5546, 'grad_norm': 14.536956787109375, 'learning_rate': 4.792720629567173e-05, 'epoch': 0.07}\n",
      "{'loss': 1.5004, 'grad_norm': 8.181833267211914, 'learning_rate': 4.7892074198988196e-05, 'epoch': 0.07}\n",
      "{'loss': 1.9297, 'grad_norm': 28.036638259887695, 'learning_rate': 4.785694210230467e-05, 'epoch': 0.08}\n",
      "{'loss': 1.729, 'grad_norm': 8.739131927490234, 'learning_rate': 4.782181000562114e-05, 'epoch': 0.08}\n",
      "{'loss': 1.5145, 'grad_norm': 12.821885108947754, 'learning_rate': 4.778667790893761e-05, 'epoch': 0.08}\n",
      "{'loss': 1.7017, 'grad_norm': 6.857468605041504, 'learning_rate': 4.775154581225408e-05, 'epoch': 0.08}\n",
      "{'loss': 1.8563, 'grad_norm': 15.752004623413086, 'learning_rate': 4.7716413715570545e-05, 'epoch': 0.08}\n",
      "{'loss': 1.95, 'grad_norm': 24.1467342376709, 'learning_rate': 4.768128161888702e-05, 'epoch': 0.08}\n",
      "{'loss': 1.6122, 'grad_norm': 16.165573120117188, 'learning_rate': 4.764614952220349e-05, 'epoch': 0.08}\n",
      "{'loss': 1.5724, 'grad_norm': 12.53697395324707, 'learning_rate': 4.761101742551995e-05, 'epoch': 0.08}\n",
      "{'loss': 1.5797, 'grad_norm': 10.565048217773438, 'learning_rate': 4.757588532883643e-05, 'epoch': 0.08}\n",
      "{'loss': 1.7836, 'grad_norm': 13.2640962600708, 'learning_rate': 4.7540753232152895e-05, 'epoch': 0.08}\n",
      "{'loss': 1.2659, 'grad_norm': 7.085704803466797, 'learning_rate': 4.7505621135469366e-05, 'epoch': 0.08}\n",
      "{'loss': 1.4334, 'grad_norm': 24.63948631286621, 'learning_rate': 4.747048903878584e-05, 'epoch': 0.08}\n",
      "{'loss': 1.7397, 'grad_norm': 18.959144592285156, 'learning_rate': 4.74353569421023e-05, 'epoch': 0.08}\n",
      "{'loss': 1.4832, 'grad_norm': 7.786271095275879, 'learning_rate': 4.740022484541878e-05, 'epoch': 0.08}\n",
      "{'loss': 1.854, 'grad_norm': 17.684724807739258, 'learning_rate': 4.7365092748735244e-05, 'epoch': 0.08}\n",
      "{'loss': 1.9367, 'grad_norm': 7.856019973754883, 'learning_rate': 4.732996065205172e-05, 'epoch': 0.09}\n",
      "{'loss': 2.1036, 'grad_norm': 89.5352783203125, 'learning_rate': 4.729482855536819e-05, 'epoch': 0.09}\n",
      "{'loss': 1.6522, 'grad_norm': 16.375926971435547, 'learning_rate': 4.725969645868465e-05, 'epoch': 0.09}\n",
      "{'loss': 1.7281, 'grad_norm': 22.525379180908203, 'learning_rate': 4.722456436200113e-05, 'epoch': 0.09}\n",
      "{'loss': 2.2484, 'grad_norm': 10.194101333618164, 'learning_rate': 4.7189432265317594e-05, 'epoch': 0.09}\n",
      "{'loss': 1.9246, 'grad_norm': 31.918888092041016, 'learning_rate': 4.715430016863407e-05, 'epoch': 0.09}\n",
      "{'loss': 1.9193, 'grad_norm': 9.525901794433594, 'learning_rate': 4.7119168071950536e-05, 'epoch': 0.09}\n",
      "{'loss': 1.2901, 'grad_norm': 12.659847259521484, 'learning_rate': 4.708403597526701e-05, 'epoch': 0.09}\n",
      "{'loss': 1.5679, 'grad_norm': 36.0430908203125, 'learning_rate': 4.704890387858348e-05, 'epoch': 0.09}\n",
      "{'loss': 1.3853, 'grad_norm': 10.656938552856445, 'learning_rate': 4.701377178189994e-05, 'epoch': 0.09}\n",
      "{'loss': 1.7363, 'grad_norm': 868.1341552734375, 'learning_rate': 4.6978639685216415e-05, 'epoch': 0.09}\n",
      "{'loss': 1.9476, 'grad_norm': 9.705728530883789, 'learning_rate': 4.6943507588532886e-05, 'epoch': 0.09}\n",
      "{'loss': 1.7851, 'grad_norm': 8.316336631774902, 'learning_rate': 4.690837549184936e-05, 'epoch': 0.09}\n",
      "{'loss': 1.3593, 'grad_norm': 10.272966384887695, 'learning_rate': 4.687324339516583e-05, 'epoch': 0.09}\n",
      "{'loss': 1.8319, 'grad_norm': 9.118623733520508, 'learning_rate': 4.683811129848229e-05, 'epoch': 0.1}\n",
      "{'loss': 1.9552, 'grad_norm': 25.14944076538086, 'learning_rate': 4.6802979201798764e-05, 'epoch': 0.1}\n",
      "{'loss': 1.9529, 'grad_norm': 10.891996383666992, 'learning_rate': 4.6767847105115235e-05, 'epoch': 0.1}\n",
      "{'loss': 1.8129, 'grad_norm': 9.923795700073242, 'learning_rate': 4.6732715008431706e-05, 'epoch': 0.1}\n",
      "{'loss': 1.962, 'grad_norm': 14.998101234436035, 'learning_rate': 4.669758291174818e-05, 'epoch': 0.1}\n",
      "{'loss': 1.7045, 'grad_norm': 7.592482566833496, 'learning_rate': 4.666245081506464e-05, 'epoch': 0.1}\n",
      "{'loss': 1.5985, 'grad_norm': 9.559835433959961, 'learning_rate': 4.6627318718381113e-05, 'epoch': 0.1}\n",
      "{'loss': 1.6289, 'grad_norm': 23.15024757385254, 'learning_rate': 4.6592186621697585e-05, 'epoch': 0.1}\n",
      "{'loss': 1.9949, 'grad_norm': 12.129772186279297, 'learning_rate': 4.6557054525014056e-05, 'epoch': 0.1}\n",
      "{'loss': 1.462, 'grad_norm': 17.773452758789062, 'learning_rate': 4.652192242833053e-05, 'epoch': 0.1}\n",
      "{'loss': 1.6561, 'grad_norm': 9.134406089782715, 'learning_rate': 4.6486790331647e-05, 'epoch': 0.1}\n"
     ]
    },
    {
     "data": {
      "application/vnd.jupyter.widget-view+json": {
       "model_id": "6b7467f39159473eb6a60ddbb6c97211",
       "version_major": 2,
       "version_minor": 0
      },
      "text/plain": [
       "  0%|          | 0/818 [00:00<?, ?it/s]"
      ]
     },
     "metadata": {},
     "output_type": "display_data"
    },
    {
     "name": "stdout",
     "output_type": "stream",
     "text": [
      "{'eval_loss': 1.5153460502624512, 'eval_runtime': 15.1603, 'eval_samples_per_second': 53.957, 'eval_steps_per_second': 53.957, 'epoch': 0.1}\n",
      "{'loss': 1.488, 'grad_norm': 14.685419082641602, 'learning_rate': 4.645165823496346e-05, 'epoch': 0.1}\n",
      "{'loss': 1.829, 'grad_norm': 20.140226364135742, 'learning_rate': 4.6416526138279934e-05, 'epoch': 0.1}\n",
      "{'loss': 1.6868, 'grad_norm': 23.065492630004883, 'learning_rate': 4.6381394041596405e-05, 'epoch': 0.1}\n",
      "{'loss': 1.4778, 'grad_norm': 6.9647321701049805, 'learning_rate': 4.634626194491287e-05, 'epoch': 0.1}\n",
      "{'loss': 1.6592, 'grad_norm': 40.97032928466797, 'learning_rate': 4.631112984822935e-05, 'epoch': 0.11}\n",
      "{'loss': 1.4767, 'grad_norm': 12.060317039489746, 'learning_rate': 4.627599775154581e-05, 'epoch': 0.11}\n",
      "{'loss': 1.5791, 'grad_norm': 23.1408748626709, 'learning_rate': 4.6240865654862284e-05, 'epoch': 0.11}\n",
      "{'loss': 1.8688, 'grad_norm': 23.4527530670166, 'learning_rate': 4.6205733558178755e-05, 'epoch': 0.11}\n",
      "{'loss': 1.433, 'grad_norm': 13.981822967529297, 'learning_rate': 4.617060146149522e-05, 'epoch': 0.11}\n",
      "{'loss': 2.3781, 'grad_norm': 11.819977760314941, 'learning_rate': 4.61354693648117e-05, 'epoch': 0.11}\n",
      "{'loss': 1.825, 'grad_norm': 7.356594562530518, 'learning_rate': 4.610033726812816e-05, 'epoch': 0.11}\n",
      "{'loss': 1.5747, 'grad_norm': 31.223861694335938, 'learning_rate': 4.606520517144463e-05, 'epoch': 0.11}\n",
      "{'loss': 1.5001, 'grad_norm': 11.19077205657959, 'learning_rate': 4.6030073074761104e-05, 'epoch': 0.11}\n",
      "{'loss': 1.7954, 'grad_norm': 17.765058517456055, 'learning_rate': 4.599494097807757e-05, 'epoch': 0.11}\n",
      "{'loss': 1.625, 'grad_norm': 9.957947731018066, 'learning_rate': 4.595980888139405e-05, 'epoch': 0.11}\n",
      "{'loss': 1.8232, 'grad_norm': 11.714198112487793, 'learning_rate': 4.592467678471051e-05, 'epoch': 0.11}\n",
      "{'loss': 1.7004, 'grad_norm': 56.07324981689453, 'learning_rate': 4.588954468802699e-05, 'epoch': 0.11}\n",
      "{'loss': 1.5877, 'grad_norm': 15.553972244262695, 'learning_rate': 4.5854412591343454e-05, 'epoch': 0.11}\n",
      "{'loss': 1.7032, 'grad_norm': 34.77254867553711, 'learning_rate': 4.5819280494659925e-05, 'epoch': 0.11}\n",
      "{'loss': 1.4622, 'grad_norm': 12.571612358093262, 'learning_rate': 4.5784148397976396e-05, 'epoch': 0.12}\n",
      "{'loss': 1.5991, 'grad_norm': 13.092641830444336, 'learning_rate': 4.574901630129286e-05, 'epoch': 0.12}\n",
      "{'loss': 1.4842, 'grad_norm': 15.870864868164062, 'learning_rate': 4.571388420460933e-05, 'epoch': 0.12}\n",
      "{'loss': 1.3739, 'grad_norm': 12.930150032043457, 'learning_rate': 4.56787521079258e-05, 'epoch': 0.12}\n",
      "{'loss': 1.5298, 'grad_norm': 11.259923934936523, 'learning_rate': 4.5643620011242275e-05, 'epoch': 0.12}\n",
      "{'loss': 1.263, 'grad_norm': 17.534690856933594, 'learning_rate': 4.5608487914558746e-05, 'epoch': 0.12}\n",
      "{'loss': 1.6685, 'grad_norm': 14.119686126708984, 'learning_rate': 4.557335581787521e-05, 'epoch': 0.12}\n",
      "{'loss': 1.4226, 'grad_norm': 9.095169067382812, 'learning_rate': 4.553822372119168e-05, 'epoch': 0.12}\n",
      "{'loss': 1.7311, 'grad_norm': 17.864900588989258, 'learning_rate': 4.550309162450815e-05, 'epoch': 0.12}\n",
      "{'loss': 1.6124, 'grad_norm': 13.591206550598145, 'learning_rate': 4.5467959527824624e-05, 'epoch': 0.12}\n",
      "{'loss': 1.6593, 'grad_norm': 14.550971984863281, 'learning_rate': 4.5432827431141095e-05, 'epoch': 0.12}\n",
      "{'loss': 1.5712, 'grad_norm': 9.658438682556152, 'learning_rate': 4.539769533445756e-05, 'epoch': 0.12}\n",
      "{'loss': 2.2706, 'grad_norm': 20.75630760192871, 'learning_rate': 4.536256323777403e-05, 'epoch': 0.12}\n",
      "{'loss': 1.4633, 'grad_norm': 8.810688018798828, 'learning_rate': 4.53274311410905e-05, 'epoch': 0.12}\n",
      "{'loss': 1.6816, 'grad_norm': 15.66835880279541, 'learning_rate': 4.5292299044406973e-05, 'epoch': 0.12}\n",
      "{'loss': 1.0978, 'grad_norm': 14.027853012084961, 'learning_rate': 4.5257166947723445e-05, 'epoch': 0.13}\n",
      "{'loss': 1.7099, 'grad_norm': 10.907536506652832, 'learning_rate': 4.5222034851039916e-05, 'epoch': 0.13}\n",
      "{'loss': 1.4468, 'grad_norm': 14.423274993896484, 'learning_rate': 4.518690275435638e-05, 'epoch': 0.13}\n",
      "{'loss': 1.9952, 'grad_norm': 15.458904266357422, 'learning_rate': 4.515177065767285e-05, 'epoch': 0.13}\n",
      "{'loss': 1.6287, 'grad_norm': 20.401775360107422, 'learning_rate': 4.511663856098932e-05, 'epoch': 0.13}\n",
      "{'loss': 1.4534, 'grad_norm': 10.740218162536621, 'learning_rate': 4.508150646430579e-05, 'epoch': 0.13}\n",
      "{'loss': 1.7433, 'grad_norm': 54.92013931274414, 'learning_rate': 4.5046374367622265e-05, 'epoch': 0.13}\n",
      "{'loss': 1.788, 'grad_norm': 11.467208862304688, 'learning_rate': 4.501124227093873e-05, 'epoch': 0.13}\n",
      "{'loss': 1.8807, 'grad_norm': 13.872537612915039, 'learning_rate': 4.49761101742552e-05, 'epoch': 0.13}\n",
      "{'loss': 1.5914, 'grad_norm': 38.79331588745117, 'learning_rate': 4.494097807757167e-05, 'epoch': 0.13}\n",
      "{'loss': 1.7305, 'grad_norm': 23.631011962890625, 'learning_rate': 4.490584598088814e-05, 'epoch': 0.13}\n",
      "{'loss': 1.5757, 'grad_norm': 13.324788093566895, 'learning_rate': 4.4870713884204615e-05, 'epoch': 0.13}\n",
      "{'loss': 1.4445, 'grad_norm': 13.46208381652832, 'learning_rate': 4.483558178752108e-05, 'epoch': 0.13}\n",
      "{'loss': 1.4459, 'grad_norm': 18.243051528930664, 'learning_rate': 4.480044969083755e-05, 'epoch': 0.13}\n",
      "{'loss': 1.3808, 'grad_norm': 17.938047409057617, 'learning_rate': 4.476531759415402e-05, 'epoch': 0.14}\n",
      "{'loss': 1.9506, 'grad_norm': 12.046165466308594, 'learning_rate': 4.4730185497470486e-05, 'epoch': 0.14}\n"
     ]
    },
    {
     "data": {
      "application/vnd.jupyter.widget-view+json": {
       "model_id": "bd86f1a5e6e4402f8ecdeb7bf79341f0",
       "version_major": 2,
       "version_minor": 0
      },
      "text/plain": [
       "  0%|          | 0/818 [00:00<?, ?it/s]"
      ]
     },
     "metadata": {},
     "output_type": "display_data"
    },
    {
     "name": "stdout",
     "output_type": "stream",
     "text": [
      "{'eval_loss': 1.489164113998413, 'eval_runtime': 15.3858, 'eval_samples_per_second': 53.166, 'eval_steps_per_second': 53.166, 'epoch': 0.14}\n",
      "{'loss': 1.5097, 'grad_norm': 10.363081932067871, 'learning_rate': 4.4695053400786964e-05, 'epoch': 0.14}\n",
      "{'loss': 1.7075, 'grad_norm': 10.962052345275879, 'learning_rate': 4.465992130410343e-05, 'epoch': 0.14}\n",
      "{'loss': 1.6351, 'grad_norm': 5.936469554901123, 'learning_rate': 4.462478920741991e-05, 'epoch': 0.14}\n",
      "{'loss': 1.9064, 'grad_norm': 8.854714393615723, 'learning_rate': 4.458965711073637e-05, 'epoch': 0.14}\n",
      "{'loss': 1.5237, 'grad_norm': 7.240167617797852, 'learning_rate': 4.455452501405284e-05, 'epoch': 0.14}\n",
      "{'loss': 2.1152, 'grad_norm': 21.8745059967041, 'learning_rate': 4.4519392917369314e-05, 'epoch': 0.14}\n",
      "{'loss': 1.4136, 'grad_norm': 18.422801971435547, 'learning_rate': 4.448426082068578e-05, 'epoch': 0.14}\n",
      "{'loss': 2.1547, 'grad_norm': 7.512139320373535, 'learning_rate': 4.444912872400225e-05, 'epoch': 0.14}\n",
      "{'loss': 1.6908, 'grad_norm': 17.882654190063477, 'learning_rate': 4.441399662731872e-05, 'epoch': 0.14}\n",
      "{'loss': 2.0489, 'grad_norm': 15.493937492370605, 'learning_rate': 4.437886453063519e-05, 'epoch': 0.14}\n",
      "{'loss': 1.5922, 'grad_norm': 30.33302879333496, 'learning_rate': 4.434373243395166e-05, 'epoch': 0.14}\n",
      "{'loss': 1.7603, 'grad_norm': 9.449790000915527, 'learning_rate': 4.430860033726813e-05, 'epoch': 0.14}\n",
      "{'loss': 1.5893, 'grad_norm': 23.847244262695312, 'learning_rate': 4.42734682405846e-05, 'epoch': 0.14}\n",
      "{'loss': 1.5171, 'grad_norm': 12.983222007751465, 'learning_rate': 4.423833614390107e-05, 'epoch': 0.15}\n",
      "{'loss': 1.3913, 'grad_norm': 7.523078441619873, 'learning_rate': 4.420320404721754e-05, 'epoch': 0.15}\n",
      "{'loss': 1.7143, 'grad_norm': 11.27097225189209, 'learning_rate': 4.416807195053401e-05, 'epoch': 0.15}\n",
      "{'loss': 2.0114, 'grad_norm': 33.5189323425293, 'learning_rate': 4.413293985385048e-05, 'epoch': 0.15}\n",
      "{'loss': 1.4953, 'grad_norm': 9.364850044250488, 'learning_rate': 4.409780775716695e-05, 'epoch': 0.15}\n",
      "{'loss': 1.6832, 'grad_norm': 42.94820022583008, 'learning_rate': 4.406267566048342e-05, 'epoch': 0.15}\n",
      "{'loss': 1.8083, 'grad_norm': 20.331575393676758, 'learning_rate': 4.402754356379989e-05, 'epoch': 0.15}\n",
      "{'loss': 1.6861, 'grad_norm': 12.022810935974121, 'learning_rate': 4.399241146711636e-05, 'epoch': 0.15}\n",
      "{'loss': 1.5594, 'grad_norm': 11.946528434753418, 'learning_rate': 4.3957279370432833e-05, 'epoch': 0.15}\n",
      "{'loss': 1.4585, 'grad_norm': 11.50498104095459, 'learning_rate': 4.39221472737493e-05, 'epoch': 0.15}\n",
      "{'loss': 1.7307, 'grad_norm': 15.139699935913086, 'learning_rate': 4.388701517706577e-05, 'epoch': 0.15}\n",
      "{'loss': 1.9235, 'grad_norm': 11.20376205444336, 'learning_rate': 4.385188308038224e-05, 'epoch': 0.15}\n",
      "{'loss': 1.9335, 'grad_norm': 17.285932540893555, 'learning_rate': 4.3816750983698705e-05, 'epoch': 0.15}\n",
      "{'loss': 1.9941, 'grad_norm': 11.215600967407227, 'learning_rate': 4.378161888701518e-05, 'epoch': 0.15}\n",
      "{'loss': 1.4329, 'grad_norm': 10.079580307006836, 'learning_rate': 4.374648679033165e-05, 'epoch': 0.15}\n",
      "{'loss': 1.3287, 'grad_norm': 7.033270835876465, 'learning_rate': 4.371135469364812e-05, 'epoch': 0.16}\n",
      "{'loss': 1.5193, 'grad_norm': 13.194905281066895, 'learning_rate': 4.367622259696459e-05, 'epoch': 0.16}\n",
      "{'loss': 2.0397, 'grad_norm': 12.734855651855469, 'learning_rate': 4.3641090500281054e-05, 'epoch': 0.16}\n",
      "{'loss': 1.4936, 'grad_norm': 9.715237617492676, 'learning_rate': 4.360595840359753e-05, 'epoch': 0.16}\n",
      "{'loss': 1.5919, 'grad_norm': 12.499878883361816, 'learning_rate': 4.3570826306914e-05, 'epoch': 0.16}\n",
      "{'loss': 1.8213, 'grad_norm': 7.759970188140869, 'learning_rate': 4.353569421023047e-05, 'epoch': 0.16}\n",
      "{'loss': 1.7174, 'grad_norm': 12.637876510620117, 'learning_rate': 4.350056211354694e-05, 'epoch': 0.16}\n",
      "{'loss': 1.783, 'grad_norm': 10.47822093963623, 'learning_rate': 4.3465430016863404e-05, 'epoch': 0.16}\n",
      "{'loss': 1.8368, 'grad_norm': 29.350587844848633, 'learning_rate': 4.343029792017988e-05, 'epoch': 0.16}\n",
      "{'loss': 1.4953, 'grad_norm': 22.33122444152832, 'learning_rate': 4.3395165823496346e-05, 'epoch': 0.16}\n",
      "{'loss': 1.2429, 'grad_norm': 10.501912117004395, 'learning_rate': 4.3360033726812824e-05, 'epoch': 0.16}\n",
      "{'loss': 1.9145, 'grad_norm': 9.93884563446045, 'learning_rate': 4.332490163012929e-05, 'epoch': 0.16}\n",
      "{'loss': 1.5885, 'grad_norm': 7.2336225509643555, 'learning_rate': 4.328976953344575e-05, 'epoch': 0.16}\n",
      "{'loss': 1.5113, 'grad_norm': 8.903890609741211, 'learning_rate': 4.325463743676223e-05, 'epoch': 0.16}\n",
      "{'loss': 1.5933, 'grad_norm': 21.14204978942871, 'learning_rate': 4.3219505340078696e-05, 'epoch': 0.16}\n",
      "{'loss': 1.4281, 'grad_norm': 6.607023239135742, 'learning_rate': 4.318437324339517e-05, 'epoch': 0.17}\n",
      "{'loss': 1.644, 'grad_norm': 15.90272045135498, 'learning_rate': 4.314924114671164e-05, 'epoch': 0.17}\n",
      "{'loss': 1.7905, 'grad_norm': 9.580399513244629, 'learning_rate': 4.311410905002811e-05, 'epoch': 0.17}\n",
      "{'loss': 1.3408, 'grad_norm': 102.39118957519531, 'learning_rate': 4.307897695334458e-05, 'epoch': 0.17}\n",
      "{'loss': 1.6985, 'grad_norm': 10.910798072814941, 'learning_rate': 4.3043844856661045e-05, 'epoch': 0.17}\n",
      "{'loss': 1.641, 'grad_norm': 63.936920166015625, 'learning_rate': 4.3008712759977516e-05, 'epoch': 0.17}\n",
      "{'loss': 1.6914, 'grad_norm': 10.287297248840332, 'learning_rate': 4.297358066329399e-05, 'epoch': 0.17}\n"
     ]
    },
    {
     "data": {
      "application/vnd.jupyter.widget-view+json": {
       "model_id": "ccf407a5f8034c3a8d3c9a3cc577c4a2",
       "version_major": 2,
       "version_minor": 0
      },
      "text/plain": [
       "  0%|          | 0/818 [00:00<?, ?it/s]"
      ]
     },
     "metadata": {},
     "output_type": "display_data"
    },
    {
     "name": "stdout",
     "output_type": "stream",
     "text": [
      "{'eval_loss': 1.4754638671875, 'eval_runtime': 15.2132, 'eval_samples_per_second': 53.769, 'eval_steps_per_second': 53.769, 'epoch': 0.17}\n",
      "{'loss': 1.5502, 'grad_norm': 8.397332191467285, 'learning_rate': 4.293844856661046e-05, 'epoch': 0.17}\n",
      "{'loss': 1.5743, 'grad_norm': 12.338878631591797, 'learning_rate': 4.290331646992693e-05, 'epoch': 0.17}\n",
      "{'loss': 1.9107, 'grad_norm': 26.935522079467773, 'learning_rate': 4.2868184373243395e-05, 'epoch': 0.17}\n",
      "{'loss': 2.125, 'grad_norm': 15.31768798828125, 'learning_rate': 4.2833052276559866e-05, 'epoch': 0.17}\n",
      "{'loss': 1.7513, 'grad_norm': 10.279272079467773, 'learning_rate': 4.279792017987634e-05, 'epoch': 0.17}\n",
      "{'loss': 1.5514, 'grad_norm': 68.79483795166016, 'learning_rate': 4.276278808319281e-05, 'epoch': 0.17}\n",
      "{'loss': 1.6273, 'grad_norm': 12.721957206726074, 'learning_rate': 4.272765598650928e-05, 'epoch': 0.17}\n",
      "{'loss': 1.3809, 'grad_norm': 14.986957550048828, 'learning_rate': 4.2692523889825744e-05, 'epoch': 0.18}\n",
      "{'loss': 1.7273, 'grad_norm': 8.930230140686035, 'learning_rate': 4.2657391793142215e-05, 'epoch': 0.18}\n",
      "{'loss': 1.4928, 'grad_norm': 14.726957321166992, 'learning_rate': 4.262225969645869e-05, 'epoch': 0.18}\n",
      "{'loss': 1.8175, 'grad_norm': 14.464164733886719, 'learning_rate': 4.258712759977516e-05, 'epoch': 0.18}\n",
      "{'loss': 1.4504, 'grad_norm': 24.604761123657227, 'learning_rate': 4.255199550309162e-05, 'epoch': 0.18}\n",
      "{'loss': 1.9505, 'grad_norm': 23.648448944091797, 'learning_rate': 4.25168634064081e-05, 'epoch': 0.18}\n",
      "{'loss': 1.5408, 'grad_norm': 7.463227272033691, 'learning_rate': 4.2481731309724565e-05, 'epoch': 0.18}\n",
      "{'loss': 1.8597, 'grad_norm': 25.55244255065918, 'learning_rate': 4.2446599213041036e-05, 'epoch': 0.18}\n",
      "{'loss': 1.8513, 'grad_norm': 17.961124420166016, 'learning_rate': 4.241146711635751e-05, 'epoch': 0.18}\n",
      "{'loss': 1.6423, 'grad_norm': 14.164311408996582, 'learning_rate': 4.237633501967397e-05, 'epoch': 0.18}\n",
      "{'loss': 2.0191, 'grad_norm': 16.786718368530273, 'learning_rate': 4.234120292299045e-05, 'epoch': 0.18}\n",
      "{'loss': 1.5978, 'grad_norm': 13.045406341552734, 'learning_rate': 4.2306070826306914e-05, 'epoch': 0.18}\n",
      "{'loss': 1.6201, 'grad_norm': 13.496074676513672, 'learning_rate': 4.2270938729623386e-05, 'epoch': 0.18}\n",
      "{'loss': 1.5692, 'grad_norm': 8.163037300109863, 'learning_rate': 4.223580663293986e-05, 'epoch': 0.18}\n",
      "{'loss': 1.5566, 'grad_norm': 45.15034484863281, 'learning_rate': 4.220067453625632e-05, 'epoch': 0.18}\n",
      "{'loss': 1.4419, 'grad_norm': 7.552430152893066, 'learning_rate': 4.21655424395728e-05, 'epoch': 0.19}\n",
      "{'loss': 1.5408, 'grad_norm': 16.670625686645508, 'learning_rate': 4.2130410342889264e-05, 'epoch': 0.19}\n",
      "{'loss': 1.2811, 'grad_norm': 14.167778968811035, 'learning_rate': 4.2095278246205735e-05, 'epoch': 0.19}\n",
      "{'loss': 1.3942, 'grad_norm': 6.05165958404541, 'learning_rate': 4.2060146149522206e-05, 'epoch': 0.19}\n",
      "{'loss': 1.7697, 'grad_norm': 11.973116874694824, 'learning_rate': 4.202501405283867e-05, 'epoch': 0.19}\n",
      "{'loss': 1.5671, 'grad_norm': 11.270862579345703, 'learning_rate': 4.198988195615515e-05, 'epoch': 0.19}\n",
      "{'loss': 1.9053, 'grad_norm': 14.807193756103516, 'learning_rate': 4.195474985947161e-05, 'epoch': 0.19}\n",
      "{'loss': 1.3877, 'grad_norm': 14.709264755249023, 'learning_rate': 4.1919617762788084e-05, 'epoch': 0.19}\n",
      "{'loss': 1.5963, 'grad_norm': 11.210707664489746, 'learning_rate': 4.1884485666104556e-05, 'epoch': 0.19}\n",
      "{'loss': 1.5676, 'grad_norm': 19.586008071899414, 'learning_rate': 4.184935356942103e-05, 'epoch': 0.19}\n",
      "{'loss': 1.7558, 'grad_norm': 9.851442337036133, 'learning_rate': 4.18142214727375e-05, 'epoch': 0.19}\n",
      "{'loss': 1.4595, 'grad_norm': 29.119354248046875, 'learning_rate': 4.177908937605396e-05, 'epoch': 0.19}\n",
      "{'loss': 1.74, 'grad_norm': 9.174304962158203, 'learning_rate': 4.1743957279370434e-05, 'epoch': 0.19}\n",
      "{'loss': 1.7633, 'grad_norm': 6.067464351654053, 'learning_rate': 4.1708825182686905e-05, 'epoch': 0.19}\n",
      "{'loss': 1.4985, 'grad_norm': 14.586307525634766, 'learning_rate': 4.1673693086003376e-05, 'epoch': 0.19}\n",
      "{'loss': 1.733, 'grad_norm': 25.909223556518555, 'learning_rate': 4.163856098931985e-05, 'epoch': 0.2}\n",
      "{'loss': 1.5779, 'grad_norm': 7.157625198364258, 'learning_rate': 4.160342889263631e-05, 'epoch': 0.2}\n",
      "{'loss': 1.5973, 'grad_norm': 70.23573303222656, 'learning_rate': 4.1568296795952783e-05, 'epoch': 0.2}\n",
      "{'loss': 1.4301, 'grad_norm': 17.29734992980957, 'learning_rate': 4.1533164699269255e-05, 'epoch': 0.2}\n",
      "{'loss': 1.3336, 'grad_norm': 7.5544586181640625, 'learning_rate': 4.1498032602585726e-05, 'epoch': 0.2}\n",
      "{'loss': 1.3954, 'grad_norm': 9.479727745056152, 'learning_rate': 4.14629005059022e-05, 'epoch': 0.2}\n",
      "{'loss': 1.3549, 'grad_norm': 8.128188133239746, 'learning_rate': 4.142776840921866e-05, 'epoch': 0.2}\n",
      "{'loss': 1.4596, 'grad_norm': 10.681596755981445, 'learning_rate': 4.139263631253513e-05, 'epoch': 0.2}\n",
      "{'loss': 1.6272, 'grad_norm': 10.648776054382324, 'learning_rate': 4.1357504215851604e-05, 'epoch': 0.2}\n",
      "{'loss': 1.7821, 'grad_norm': 19.65251922607422, 'learning_rate': 4.1322372119168075e-05, 'epoch': 0.2}\n",
      "{'loss': 1.833, 'grad_norm': 13.982708930969238, 'learning_rate': 4.128724002248454e-05, 'epoch': 0.2}\n",
      "{'loss': 1.6347, 'grad_norm': 8.627696990966797, 'learning_rate': 4.125210792580102e-05, 'epoch': 0.2}\n",
      "{'loss': 1.5206, 'grad_norm': 31.566133499145508, 'learning_rate': 4.121697582911748e-05, 'epoch': 0.2}\n"
     ]
    },
    {
     "data": {
      "application/vnd.jupyter.widget-view+json": {
       "model_id": "1996042c39c64420b411d06cb5f74281",
       "version_major": 2,
       "version_minor": 0
      },
      "text/plain": [
       "  0%|          | 0/818 [00:00<?, ?it/s]"
      ]
     },
     "metadata": {},
     "output_type": "display_data"
    },
    {
     "name": "stdout",
     "output_type": "stream",
     "text": [
      "{'eval_loss': 1.4643809795379639, 'eval_runtime': 15.2129, 'eval_samples_per_second': 53.77, 'eval_steps_per_second': 53.77, 'epoch': 0.2}\n",
      "{'loss': 1.9122, 'grad_norm': 10.133795738220215, 'learning_rate': 4.1181843732433954e-05, 'epoch': 0.2}\n",
      "{'loss': 1.3269, 'grad_norm': 12.699210166931152, 'learning_rate': 4.1146711635750425e-05, 'epoch': 0.2}\n",
      "{'loss': 1.6998, 'grad_norm': 11.21117115020752, 'learning_rate': 4.111157953906689e-05, 'epoch': 0.21}\n",
      "{'loss': 1.5243, 'grad_norm': 8.12148666381836, 'learning_rate': 4.107644744238337e-05, 'epoch': 0.21}\n",
      "{'loss': 1.6248, 'grad_norm': 74.40716552734375, 'learning_rate': 4.104131534569983e-05, 'epoch': 0.21}\n",
      "{'loss': 1.6041, 'grad_norm': 15.573700904846191, 'learning_rate': 4.10061832490163e-05, 'epoch': 0.21}\n",
      "{'loss': 1.6096, 'grad_norm': 6.274730682373047, 'learning_rate': 4.0971051152332774e-05, 'epoch': 0.21}\n",
      "{'loss': 1.82, 'grad_norm': 7.892905235290527, 'learning_rate': 4.093591905564924e-05, 'epoch': 0.21}\n",
      "{'loss': 1.6378, 'grad_norm': 7.97129487991333, 'learning_rate': 4.090078695896572e-05, 'epoch': 0.21}\n",
      "{'loss': 1.4871, 'grad_norm': 17.068490982055664, 'learning_rate': 4.086565486228218e-05, 'epoch': 0.21}\n",
      "{'loss': 1.814, 'grad_norm': 9.760614395141602, 'learning_rate': 4.083052276559865e-05, 'epoch': 0.21}\n",
      "{'loss': 1.4064, 'grad_norm': 7.517478942871094, 'learning_rate': 4.0795390668915124e-05, 'epoch': 0.21}\n",
      "{'loss': 1.7784, 'grad_norm': 10.570610046386719, 'learning_rate': 4.076025857223159e-05, 'epoch': 0.21}\n",
      "{'loss': 1.4094, 'grad_norm': 14.275457382202148, 'learning_rate': 4.0725126475548066e-05, 'epoch': 0.21}\n",
      "{'loss': 1.791, 'grad_norm': 9.00046443939209, 'learning_rate': 4.068999437886453e-05, 'epoch': 0.21}\n",
      "{'loss': 1.2757, 'grad_norm': 13.926279067993164, 'learning_rate': 4.0654862282181e-05, 'epoch': 0.21}\n",
      "{'loss': 1.6049, 'grad_norm': 11.026463508605957, 'learning_rate': 4.061973018549747e-05, 'epoch': 0.22}\n",
      "{'loss': 1.3652, 'grad_norm': 15.916619300842285, 'learning_rate': 4.058459808881394e-05, 'epoch': 0.22}\n",
      "{'loss': 1.4783, 'grad_norm': 11.920886993408203, 'learning_rate': 4.0549465992130416e-05, 'epoch': 0.22}\n",
      "{'loss': 1.7752, 'grad_norm': 13.330638885498047, 'learning_rate': 4.051433389544688e-05, 'epoch': 0.22}\n",
      "{'loss': 1.6951, 'grad_norm': 6.179047107696533, 'learning_rate': 4.047920179876335e-05, 'epoch': 0.22}\n",
      "{'loss': 1.7468, 'grad_norm': 19.471851348876953, 'learning_rate': 4.044406970207982e-05, 'epoch': 0.22}\n",
      "{'loss': 1.5954, 'grad_norm': 11.939987182617188, 'learning_rate': 4.0408937605396294e-05, 'epoch': 0.22}\n",
      "{'loss': 1.7413, 'grad_norm': 20.347003936767578, 'learning_rate': 4.0373805508712765e-05, 'epoch': 0.22}\n",
      "{'loss': 1.5122, 'grad_norm': 8.86026668548584, 'learning_rate': 4.033867341202923e-05, 'epoch': 0.22}\n",
      "{'loss': 1.6021, 'grad_norm': 12.304973602294922, 'learning_rate': 4.03035413153457e-05, 'epoch': 0.22}\n",
      "{'loss': 1.609, 'grad_norm': 7.806864261627197, 'learning_rate': 4.026840921866217e-05, 'epoch': 0.22}\n",
      "{'loss': 1.6498, 'grad_norm': 11.297259330749512, 'learning_rate': 4.0233277121978643e-05, 'epoch': 0.22}\n",
      "{'loss': 1.3747, 'grad_norm': 23.034875869750977, 'learning_rate': 4.0198145025295115e-05, 'epoch': 0.22}\n",
      "{'loss': 1.2489, 'grad_norm': 10.368226051330566, 'learning_rate': 4.016301292861158e-05, 'epoch': 0.22}\n",
      "{'loss': 1.725, 'grad_norm': 11.408332824707031, 'learning_rate': 4.012788083192805e-05, 'epoch': 0.22}\n",
      "{'loss': 1.4062, 'grad_norm': 17.934707641601562, 'learning_rate': 4.009274873524452e-05, 'epoch': 0.23}\n",
      "{'loss': 1.3107, 'grad_norm': 5.949909210205078, 'learning_rate': 4.005761663856099e-05, 'epoch': 0.23}\n",
      "{'loss': 1.5498, 'grad_norm': 12.045270919799805, 'learning_rate': 4.002248454187746e-05, 'epoch': 0.23}\n",
      "{'loss': 1.6053, 'grad_norm': 2.640758991241455, 'learning_rate': 3.998735244519393e-05, 'epoch': 0.23}\n",
      "{'loss': 1.834, 'grad_norm': 14.562193870544434, 'learning_rate': 3.99522203485104e-05, 'epoch': 0.23}\n",
      "{'loss': 1.8259, 'grad_norm': 14.655247688293457, 'learning_rate': 3.991708825182687e-05, 'epoch': 0.23}\n",
      "{'loss': 1.9385, 'grad_norm': 18.832876205444336, 'learning_rate': 3.988195615514334e-05, 'epoch': 0.23}\n",
      "{'loss': 1.4635, 'grad_norm': 10.410014152526855, 'learning_rate': 3.984682405845981e-05, 'epoch': 0.23}\n",
      "{'loss': 1.6139, 'grad_norm': 12.045608520507812, 'learning_rate': 3.9811691961776285e-05, 'epoch': 0.23}\n",
      "{'loss': 1.1236, 'grad_norm': 9.774194717407227, 'learning_rate': 3.977655986509275e-05, 'epoch': 0.23}\n",
      "{'loss': 1.3823, 'grad_norm': 11.421051025390625, 'learning_rate': 3.974142776840922e-05, 'epoch': 0.23}\n",
      "{'loss': 1.42, 'grad_norm': 6.41366720199585, 'learning_rate': 3.970629567172569e-05, 'epoch': 0.23}\n",
      "{'loss': 1.1816, 'grad_norm': 11.652616500854492, 'learning_rate': 3.9671163575042156e-05, 'epoch': 0.23}\n",
      "{'loss': 1.2559, 'grad_norm': 6.60412073135376, 'learning_rate': 3.9636031478358634e-05, 'epoch': 0.23}\n",
      "{'loss': 1.8392, 'grad_norm': 13.343877792358398, 'learning_rate': 3.96008993816751e-05, 'epoch': 0.23}\n",
      "{'loss': 1.5282, 'grad_norm': 10.655670166015625, 'learning_rate': 3.956576728499157e-05, 'epoch': 0.24}\n",
      "{'loss': 1.4766, 'grad_norm': 8.97485637664795, 'learning_rate': 3.953063518830804e-05, 'epoch': 0.24}\n",
      "{'loss': 1.1862, 'grad_norm': 8.743709564208984, 'learning_rate': 3.9495503091624506e-05, 'epoch': 0.24}\n",
      "{'loss': 1.6471, 'grad_norm': 16.225723266601562, 'learning_rate': 3.9460370994940984e-05, 'epoch': 0.24}\n"
     ]
    },
    {
     "data": {
      "application/vnd.jupyter.widget-view+json": {
       "model_id": "1842f00b4e7849c391dba67aab4ddb0c",
       "version_major": 2,
       "version_minor": 0
      },
      "text/plain": [
       "  0%|          | 0/818 [00:00<?, ?it/s]"
      ]
     },
     "metadata": {},
     "output_type": "display_data"
    },
    {
     "name": "stdout",
     "output_type": "stream",
     "text": [
      "{'eval_loss': 1.4652093648910522, 'eval_runtime': 15.2714, 'eval_samples_per_second': 53.564, 'eval_steps_per_second': 53.564, 'epoch': 0.24}\n",
      "{'loss': 1.9424, 'grad_norm': 5.099242687225342, 'learning_rate': 3.942523889825745e-05, 'epoch': 0.24}\n",
      "{'loss': 1.3582, 'grad_norm': 13.760562896728516, 'learning_rate': 3.939010680157392e-05, 'epoch': 0.24}\n",
      "{'loss': 1.8747, 'grad_norm': 9.760041236877441, 'learning_rate': 3.935497470489039e-05, 'epoch': 0.24}\n",
      "{'loss': 1.4731, 'grad_norm': 16.74045753479004, 'learning_rate': 3.9319842608206855e-05, 'epoch': 0.24}\n",
      "{'loss': 1.6868, 'grad_norm': 29.130252838134766, 'learning_rate': 3.928471051152333e-05, 'epoch': 0.24}\n",
      "{'loss': 1.8924, 'grad_norm': 11.827229499816895, 'learning_rate': 3.92495784148398e-05, 'epoch': 0.24}\n",
      "{'loss': 1.134, 'grad_norm': 7.222215175628662, 'learning_rate': 3.921444631815627e-05, 'epoch': 0.24}\n",
      "{'loss': 1.1134, 'grad_norm': 11.198671340942383, 'learning_rate': 3.917931422147274e-05, 'epoch': 0.24}\n",
      "{'loss': 1.4352, 'grad_norm': 10.559061050415039, 'learning_rate': 3.914418212478921e-05, 'epoch': 0.24}\n",
      "{'loss': 1.8341, 'grad_norm': 6.398257732391357, 'learning_rate': 3.910905002810568e-05, 'epoch': 0.24}\n",
      "{'loss': 1.7698, 'grad_norm': 20.479690551757812, 'learning_rate': 3.907391793142215e-05, 'epoch': 0.25}\n",
      "{'loss': 1.9291, 'grad_norm': 17.76474380493164, 'learning_rate': 3.903878583473862e-05, 'epoch': 0.25}\n",
      "{'loss': 1.6265, 'grad_norm': 23.061965942382812, 'learning_rate': 3.900365373805509e-05, 'epoch': 0.25}\n",
      "{'loss': 1.5184, 'grad_norm': 9.27582836151123, 'learning_rate': 3.896852164137156e-05, 'epoch': 0.25}\n",
      "{'loss': 1.64, 'grad_norm': 16.11821746826172, 'learning_rate': 3.893338954468803e-05, 'epoch': 0.25}\n",
      "{'loss': 1.6819, 'grad_norm': 11.73491096496582, 'learning_rate': 3.88982574480045e-05, 'epoch': 0.25}\n",
      "{'loss': 1.8168, 'grad_norm': 8.100702285766602, 'learning_rate': 3.886312535132097e-05, 'epoch': 0.25}\n",
      "{'loss': 1.3819, 'grad_norm': 8.252534866333008, 'learning_rate': 3.882799325463744e-05, 'epoch': 0.25}\n",
      "{'loss': 1.4104, 'grad_norm': 9.652256965637207, 'learning_rate': 3.879286115795391e-05, 'epoch': 0.25}\n",
      "{'loss': 1.5279, 'grad_norm': 7.209164619445801, 'learning_rate': 3.8757729061270375e-05, 'epoch': 0.25}\n",
      "{'loss': 1.7707, 'grad_norm': 23.652257919311523, 'learning_rate': 3.8722596964586846e-05, 'epoch': 0.25}\n",
      "{'loss': 1.3962, 'grad_norm': 13.328880310058594, 'learning_rate': 3.868746486790332e-05, 'epoch': 0.25}\n",
      "{'loss': 1.6811, 'grad_norm': 11.147369384765625, 'learning_rate': 3.865233277121979e-05, 'epoch': 0.25}\n",
      "{'loss': 1.5508, 'grad_norm': 17.975255966186523, 'learning_rate': 3.861720067453626e-05, 'epoch': 0.25}\n",
      "{'loss': 1.6397, 'grad_norm': 37.481204986572266, 'learning_rate': 3.8582068577852724e-05, 'epoch': 0.25}\n",
      "{'loss': 1.953, 'grad_norm': 14.73627758026123, 'learning_rate': 3.85469364811692e-05, 'epoch': 0.26}\n",
      "{'loss': 1.5634, 'grad_norm': 21.934249877929688, 'learning_rate': 3.851180438448567e-05, 'epoch': 0.26}\n",
      "{'loss': 1.5531, 'grad_norm': 9.91586685180664, 'learning_rate': 3.847667228780214e-05, 'epoch': 0.26}\n",
      "{'loss': 1.6576, 'grad_norm': 7.919307231903076, 'learning_rate': 3.844154019111861e-05, 'epoch': 0.26}\n",
      "{'loss': 1.646, 'grad_norm': 18.67169761657715, 'learning_rate': 3.8406408094435074e-05, 'epoch': 0.26}\n",
      "{'loss': 1.5976, 'grad_norm': 16.290334701538086, 'learning_rate': 3.837127599775155e-05, 'epoch': 0.26}\n",
      "{'loss': 1.2009, 'grad_norm': 9.60086441040039, 'learning_rate': 3.8336143901068016e-05, 'epoch': 0.26}\n",
      "{'loss': 1.7029, 'grad_norm': 8.761809349060059, 'learning_rate': 3.830101180438449e-05, 'epoch': 0.26}\n",
      "{'loss': 1.4366, 'grad_norm': 24.089139938354492, 'learning_rate': 3.826587970770096e-05, 'epoch': 0.26}\n",
      "{'loss': 1.6423, 'grad_norm': 14.953316688537598, 'learning_rate': 3.823074761101742e-05, 'epoch': 0.26}\n",
      "{'loss': 1.625, 'grad_norm': 8.673684120178223, 'learning_rate': 3.81956155143339e-05, 'epoch': 0.26}\n",
      "{'loss': 1.3909, 'grad_norm': 19.736268997192383, 'learning_rate': 3.8160483417650366e-05, 'epoch': 0.26}\n",
      "{'loss': 1.5602, 'grad_norm': 8.483750343322754, 'learning_rate': 3.812535132096684e-05, 'epoch': 0.26}\n",
      "{'loss': 1.2265, 'grad_norm': 32.49685287475586, 'learning_rate': 3.809021922428331e-05, 'epoch': 0.26}\n",
      "{'loss': 1.8318, 'grad_norm': 6.824599266052246, 'learning_rate': 3.805508712759977e-05, 'epoch': 0.26}\n",
      "{'loss': 1.5293, 'grad_norm': 6.507089614868164, 'learning_rate': 3.801995503091625e-05, 'epoch': 0.27}\n",
      "{'loss': 1.5858, 'grad_norm': 7.2514472007751465, 'learning_rate': 3.7984822934232715e-05, 'epoch': 0.27}\n",
      "{'loss': 1.4752, 'grad_norm': 7.737970352172852, 'learning_rate': 3.7949690837549186e-05, 'epoch': 0.27}\n",
      "{'loss': 1.4779, 'grad_norm': 15.159786224365234, 'learning_rate': 3.791455874086566e-05, 'epoch': 0.27}\n",
      "{'loss': 1.5136, 'grad_norm': 12.031627655029297, 'learning_rate': 3.787942664418212e-05, 'epoch': 0.27}\n",
      "{'loss': 1.3377, 'grad_norm': 9.73273754119873, 'learning_rate': 3.78442945474986e-05, 'epoch': 0.27}\n",
      "{'loss': 1.5212, 'grad_norm': 10.2099609375, 'learning_rate': 3.7809162450815065e-05, 'epoch': 0.27}\n",
      "{'loss': 1.6393, 'grad_norm': 8.140007972717285, 'learning_rate': 3.7774030354131536e-05, 'epoch': 0.27}\n",
      "{'loss': 1.9799, 'grad_norm': 9.448090553283691, 'learning_rate': 3.773889825744801e-05, 'epoch': 0.27}\n",
      "{'loss': 1.6087, 'grad_norm': 643.8557739257812, 'learning_rate': 3.770376616076448e-05, 'epoch': 0.27}\n"
     ]
    },
    {
     "data": {
      "application/vnd.jupyter.widget-view+json": {
       "model_id": "1cece779355945a5858529191d49630b",
       "version_major": 2,
       "version_minor": 0
      },
      "text/plain": [
       "  0%|          | 0/818 [00:00<?, ?it/s]"
      ]
     },
     "metadata": {},
     "output_type": "display_data"
    },
    {
     "name": "stdout",
     "output_type": "stream",
     "text": [
      "{'eval_loss': 1.4400912523269653, 'eval_runtime': 15.3029, 'eval_samples_per_second': 53.454, 'eval_steps_per_second': 53.454, 'epoch': 0.27}\n",
      "{'loss': 1.7426, 'grad_norm': 13.437082290649414, 'learning_rate': 3.766863406408095e-05, 'epoch': 0.27}\n",
      "{'loss': 1.6323, 'grad_norm': 12.857672691345215, 'learning_rate': 3.7633501967397414e-05, 'epoch': 0.27}\n",
      "{'loss': 1.5561, 'grad_norm': 12.326480865478516, 'learning_rate': 3.7598369870713885e-05, 'epoch': 0.27}\n",
      "{'loss': 1.6477, 'grad_norm': 23.962385177612305, 'learning_rate': 3.7563237774030357e-05, 'epoch': 0.27}\n",
      "{'loss': 1.5348, 'grad_norm': 22.490114212036133, 'learning_rate': 3.752810567734683e-05, 'epoch': 0.27}\n",
      "{'loss': 1.4755, 'grad_norm': 7.795043468475342, 'learning_rate': 3.749297358066329e-05, 'epoch': 0.28}\n",
      "{'loss': 1.9718, 'grad_norm': 8.914705276489258, 'learning_rate': 3.7457841483979764e-05, 'epoch': 0.28}\n",
      "{'loss': 1.3207, 'grad_norm': 27.37921905517578, 'learning_rate': 3.7422709387296235e-05, 'epoch': 0.28}\n",
      "{'loss': 1.4846, 'grad_norm': 16.194276809692383, 'learning_rate': 3.7387577290612706e-05, 'epoch': 0.28}\n",
      "{'loss': 1.4603, 'grad_norm': 12.551552772521973, 'learning_rate': 3.735244519392918e-05, 'epoch': 0.28}\n",
      "{'loss': 1.3642, 'grad_norm': 9.336501121520996, 'learning_rate': 3.731731309724564e-05, 'epoch': 0.28}\n",
      "{'loss': 2.0478, 'grad_norm': 14.187560081481934, 'learning_rate': 3.728218100056211e-05, 'epoch': 0.28}\n",
      "{'loss': 1.9308, 'grad_norm': 9.924433708190918, 'learning_rate': 3.7247048903878584e-05, 'epoch': 0.28}\n",
      "{'loss': 1.6816, 'grad_norm': 14.181814193725586, 'learning_rate': 3.7211916807195056e-05, 'epoch': 0.28}\n",
      "{'loss': 1.387, 'grad_norm': 12.298961639404297, 'learning_rate': 3.717678471051153e-05, 'epoch': 0.28}\n",
      "{'loss': 1.3855, 'grad_norm': 11.126503944396973, 'learning_rate': 3.714165261382799e-05, 'epoch': 0.28}\n",
      "{'loss': 1.4938, 'grad_norm': 10.122359275817871, 'learning_rate': 3.710652051714447e-05, 'epoch': 0.28}\n",
      "{'loss': 1.7376, 'grad_norm': 18.03927993774414, 'learning_rate': 3.7071388420460934e-05, 'epoch': 0.28}\n",
      "{'loss': 1.3004, 'grad_norm': 9.44969654083252, 'learning_rate': 3.7036256323777405e-05, 'epoch': 0.28}\n",
      "{'loss': 1.4106, 'grad_norm': 16.3557186126709, 'learning_rate': 3.7001124227093876e-05, 'epoch': 0.29}\n",
      "{'loss': 1.2963, 'grad_norm': 10.807247161865234, 'learning_rate': 3.696599213041034e-05, 'epoch': 0.29}\n",
      "{'loss': 1.4048, 'grad_norm': 5.647999286651611, 'learning_rate': 3.693086003372682e-05, 'epoch': 0.29}\n",
      "{'loss': 1.6193, 'grad_norm': 24.753007888793945, 'learning_rate': 3.689572793704328e-05, 'epoch': 0.29}\n",
      "{'loss': 1.4788, 'grad_norm': 6.434492588043213, 'learning_rate': 3.6860595840359754e-05, 'epoch': 0.29}\n",
      "{'loss': 1.5989, 'grad_norm': 14.382584571838379, 'learning_rate': 3.6825463743676226e-05, 'epoch': 0.29}\n",
      "{'loss': 1.3391, 'grad_norm': 17.252578735351562, 'learning_rate': 3.679033164699269e-05, 'epoch': 0.29}\n",
      "{'loss': 1.5888, 'grad_norm': 12.554258346557617, 'learning_rate': 3.675519955030917e-05, 'epoch': 0.29}\n",
      "{'loss': 1.5876, 'grad_norm': 17.185426712036133, 'learning_rate': 3.672006745362563e-05, 'epoch': 0.29}\n",
      "{'loss': 1.5792, 'grad_norm': 14.420745849609375, 'learning_rate': 3.6684935356942104e-05, 'epoch': 0.29}\n",
      "{'loss': 1.2671, 'grad_norm': 14.403372764587402, 'learning_rate': 3.6649803260258575e-05, 'epoch': 0.29}\n",
      "{'loss': 1.5767, 'grad_norm': 44.711143493652344, 'learning_rate': 3.661467116357504e-05, 'epoch': 0.29}\n",
      "{'loss': 1.4404, 'grad_norm': 7.492989540100098, 'learning_rate': 3.657953906689152e-05, 'epoch': 0.29}\n",
      "{'loss': 1.4587, 'grad_norm': 10.010165214538574, 'learning_rate': 3.654440697020798e-05, 'epoch': 0.29}\n",
      "{'loss': 1.5369, 'grad_norm': 11.212562561035156, 'learning_rate': 3.650927487352445e-05, 'epoch': 0.29}\n",
      "{'loss': 1.6662, 'grad_norm': 8.644489288330078, 'learning_rate': 3.6474142776840925e-05, 'epoch': 0.3}\n",
      "{'loss': 1.4397, 'grad_norm': 17.08492660522461, 'learning_rate': 3.6439010680157396e-05, 'epoch': 0.3}\n",
      "{'loss': 1.6839, 'grad_norm': 9.697534561157227, 'learning_rate': 3.640387858347387e-05, 'epoch': 0.3}\n",
      "{'loss': 1.4621, 'grad_norm': 17.96190643310547, 'learning_rate': 3.636874648679033e-05, 'epoch': 0.3}\n",
      "{'loss': 1.4402, 'grad_norm': 13.286237716674805, 'learning_rate': 3.63336143901068e-05, 'epoch': 0.3}\n",
      "{'loss': 1.4513, 'grad_norm': 12.908575057983398, 'learning_rate': 3.6298482293423274e-05, 'epoch': 0.3}\n",
      "{'loss': 1.3959, 'grad_norm': 17.032081604003906, 'learning_rate': 3.6263350196739745e-05, 'epoch': 0.3}\n",
      "{'loss': 1.6221, 'grad_norm': 10.329590797424316, 'learning_rate': 3.622821810005621e-05, 'epoch': 0.3}\n",
      "{'loss': 1.5725, 'grad_norm': 116.46190643310547, 'learning_rate': 3.619308600337268e-05, 'epoch': 0.3}\n",
      "{'loss': 1.7721, 'grad_norm': 8.88579273223877, 'learning_rate': 3.615795390668915e-05, 'epoch': 0.3}\n",
      "{'loss': 1.6883, 'grad_norm': 9.090686798095703, 'learning_rate': 3.6122821810005624e-05, 'epoch': 0.3}\n",
      "{'loss': 1.5039, 'grad_norm': 10.268708229064941, 'learning_rate': 3.6087689713322095e-05, 'epoch': 0.3}\n",
      "{'loss': 1.6561, 'grad_norm': 8.64724349975586, 'learning_rate': 3.605255761663856e-05, 'epoch': 0.3}\n",
      "{'loss': 1.3939, 'grad_norm': 9.252006530761719, 'learning_rate': 3.601742551995503e-05, 'epoch': 0.3}\n",
      "{'loss': 1.437, 'grad_norm': 18.484485626220703, 'learning_rate': 3.59822934232715e-05, 'epoch': 0.3}\n",
      "{'loss': 2.1651, 'grad_norm': 136.3770294189453, 'learning_rate': 3.594716132658797e-05, 'epoch': 0.31}\n"
     ]
    },
    {
     "data": {
      "application/vnd.jupyter.widget-view+json": {
       "model_id": "d381c4585d5446e1bc2e9e9171f86db5",
       "version_major": 2,
       "version_minor": 0
      },
      "text/plain": [
       "  0%|          | 0/818 [00:00<?, ?it/s]"
      ]
     },
     "metadata": {},
     "output_type": "display_data"
    },
    {
     "name": "stdout",
     "output_type": "stream",
     "text": [
      "{'eval_loss': 1.434429407119751, 'eval_runtime': 15.7721, 'eval_samples_per_second': 51.864, 'eval_steps_per_second': 51.864, 'epoch': 0.31}\n",
      "{'loss': 1.668, 'grad_norm': 12.269704818725586, 'learning_rate': 3.5912029229904444e-05, 'epoch': 0.31}\n",
      "{'loss': 1.9484, 'grad_norm': 10.792440414428711, 'learning_rate': 3.587689713322091e-05, 'epoch': 0.31}\n",
      "{'loss': 1.6985, 'grad_norm': 12.232148170471191, 'learning_rate': 3.584176503653739e-05, 'epoch': 0.31}\n",
      "{'loss': 1.5197, 'grad_norm': 10.914689064025879, 'learning_rate': 3.580663293985385e-05, 'epoch': 0.31}\n",
      "{'loss': 1.6674, 'grad_norm': 10.936668395996094, 'learning_rate': 3.577150084317032e-05, 'epoch': 0.31}\n",
      "{'loss': 1.6202, 'grad_norm': 9.578076362609863, 'learning_rate': 3.5736368746486794e-05, 'epoch': 0.31}\n",
      "{'loss': 1.4341, 'grad_norm': 10.300699234008789, 'learning_rate': 3.570123664980326e-05, 'epoch': 0.31}\n",
      "{'loss': 1.7265, 'grad_norm': 16.56783103942871, 'learning_rate': 3.5666104553119736e-05, 'epoch': 0.31}\n",
      "{'loss': 1.757, 'grad_norm': 233.54664611816406, 'learning_rate': 3.56309724564362e-05, 'epoch': 0.31}\n",
      "{'loss': 1.5484, 'grad_norm': 8.24512767791748, 'learning_rate': 3.559584035975267e-05, 'epoch': 0.31}\n",
      "{'loss': 1.3449, 'grad_norm': 6.68843936920166, 'learning_rate': 3.556070826306914e-05, 'epoch': 0.31}\n",
      "{'loss': 1.4697, 'grad_norm': 10.818217277526855, 'learning_rate': 3.552557616638561e-05, 'epoch': 0.31}\n",
      "{'loss': 1.5242, 'grad_norm': 6.779683589935303, 'learning_rate': 3.5490444069702086e-05, 'epoch': 0.31}\n",
      "{'loss': 1.6787, 'grad_norm': 6.492972373962402, 'learning_rate': 3.545531197301855e-05, 'epoch': 0.31}\n",
      "{'loss': 1.5219, 'grad_norm': 21.388601303100586, 'learning_rate': 3.542017987633502e-05, 'epoch': 0.32}\n",
      "{'loss': 1.5625, 'grad_norm': 6.097652912139893, 'learning_rate': 3.538504777965149e-05, 'epoch': 0.32}\n",
      "{'loss': 1.1849, 'grad_norm': 9.959574699401855, 'learning_rate': 3.534991568296796e-05, 'epoch': 0.32}\n",
      "{'loss': 1.7837, 'grad_norm': 11.314824104309082, 'learning_rate': 3.5314783586284435e-05, 'epoch': 0.32}\n",
      "{'loss': 1.7609, 'grad_norm': 15.780024528503418, 'learning_rate': 3.52796514896009e-05, 'epoch': 0.32}\n",
      "{'loss': 1.4634, 'grad_norm': 16.82798194885254, 'learning_rate': 3.524451939291737e-05, 'epoch': 0.32}\n",
      "{'loss': 1.6449, 'grad_norm': 7.876340866088867, 'learning_rate': 3.520938729623384e-05, 'epoch': 0.32}\n",
      "{'loss': 1.3132, 'grad_norm': 7.454528331756592, 'learning_rate': 3.517425519955031e-05, 'epoch': 0.32}\n",
      "{'loss': 1.5482, 'grad_norm': 11.43066692352295, 'learning_rate': 3.5139123102866785e-05, 'epoch': 0.32}\n",
      "{'loss': 1.2888, 'grad_norm': 13.443883895874023, 'learning_rate': 3.510399100618325e-05, 'epoch': 0.32}\n",
      "{'loss': 1.9069, 'grad_norm': 13.82982349395752, 'learning_rate': 3.506885890949972e-05, 'epoch': 0.32}\n",
      "{'loss': 1.2606, 'grad_norm': 11.86144733428955, 'learning_rate': 3.503372681281619e-05, 'epoch': 0.32}\n",
      "{'loss': 1.3231, 'grad_norm': 10.260721206665039, 'learning_rate': 3.499859471613266e-05, 'epoch': 0.32}\n",
      "{'loss': 1.2758, 'grad_norm': 5.9966254234313965, 'learning_rate': 3.496346261944913e-05, 'epoch': 0.32}\n",
      "{'loss': 1.7215, 'grad_norm': 11.709084510803223, 'learning_rate': 3.49283305227656e-05, 'epoch': 0.33}\n",
      "{'loss': 1.407, 'grad_norm': 4.87856388092041, 'learning_rate': 3.489319842608207e-05, 'epoch': 0.33}\n",
      "{'loss': 1.8758, 'grad_norm': 10.45892333984375, 'learning_rate': 3.485806632939854e-05, 'epoch': 0.33}\n",
      "{'loss': 1.4956, 'grad_norm': 9.893608093261719, 'learning_rate': 3.482293423271501e-05, 'epoch': 0.33}\n",
      "{'loss': 1.5828, 'grad_norm': 7.7392778396606445, 'learning_rate': 3.478780213603148e-05, 'epoch': 0.33}\n",
      "{'loss': 1.2932, 'grad_norm': 19.52499771118164, 'learning_rate': 3.475267003934795e-05, 'epoch': 0.33}\n",
      "{'loss': 1.6494, 'grad_norm': 20.377702713012695, 'learning_rate': 3.471753794266442e-05, 'epoch': 0.33}\n",
      "{'loss': 1.7298, 'grad_norm': 14.622583389282227, 'learning_rate': 3.468240584598089e-05, 'epoch': 0.33}\n",
      "{'loss': 2.0392, 'grad_norm': 8.857378005981445, 'learning_rate': 3.464727374929736e-05, 'epoch': 0.33}\n",
      "{'loss': 1.87, 'grad_norm': 7.861682891845703, 'learning_rate': 3.4612141652613826e-05, 'epoch': 0.33}\n",
      "{'loss': 1.7482, 'grad_norm': 7.441355228424072, 'learning_rate': 3.4577009555930304e-05, 'epoch': 0.33}\n",
      "{'loss': 1.4804, 'grad_norm': 46.030696868896484, 'learning_rate': 3.454187745924677e-05, 'epoch': 0.33}\n",
      "{'loss': 1.6245, 'grad_norm': 11.566701889038086, 'learning_rate': 3.450674536256324e-05, 'epoch': 0.33}\n",
      "{'loss': 1.7255, 'grad_norm': 11.796497344970703, 'learning_rate': 3.447161326587971e-05, 'epoch': 0.33}\n",
      "{'loss': 1.5403, 'grad_norm': 11.476446151733398, 'learning_rate': 3.4436481169196176e-05, 'epoch': 0.33}\n",
      "{'loss': 1.69, 'grad_norm': 9.124865531921387, 'learning_rate': 3.4401349072512654e-05, 'epoch': 0.34}\n",
      "{'loss': 1.883, 'grad_norm': 6.898994445800781, 'learning_rate': 3.436621697582912e-05, 'epoch': 0.34}\n",
      "{'loss': 1.4967, 'grad_norm': 8.090484619140625, 'learning_rate': 3.433108487914559e-05, 'epoch': 0.34}\n",
      "{'loss': 1.8351, 'grad_norm': 8.314864158630371, 'learning_rate': 3.429595278246206e-05, 'epoch': 0.34}\n",
      "{'loss': 1.297, 'grad_norm': 16.648481369018555, 'learning_rate': 3.4260820685778525e-05, 'epoch': 0.34}\n",
      "{'loss': 2.0088, 'grad_norm': 26.537092208862305, 'learning_rate': 3.4225688589095e-05, 'epoch': 0.34}\n",
      "{'loss': 2.813, 'grad_norm': 9.883184432983398, 'learning_rate': 3.419055649241147e-05, 'epoch': 0.34}\n"
     ]
    },
    {
     "data": {
      "application/vnd.jupyter.widget-view+json": {
       "model_id": "fb3e213b87ce481c99c12287041bb833",
       "version_major": 2,
       "version_minor": 0
      },
      "text/plain": [
       "  0%|          | 0/818 [00:00<?, ?it/s]"
      ]
     },
     "metadata": {},
     "output_type": "display_data"
    },
    {
     "name": "stdout",
     "output_type": "stream",
     "text": [
      "{'eval_loss': 1.4216265678405762, 'eval_runtime': 15.4234, 'eval_samples_per_second': 53.036, 'eval_steps_per_second': 53.036, 'epoch': 0.34}\n",
      "{'loss': 1.3825, 'grad_norm': 20.852256774902344, 'learning_rate': 3.415542439572794e-05, 'epoch': 0.34}\n",
      "{'loss': 1.5356, 'grad_norm': 7.149177074432373, 'learning_rate': 3.412029229904441e-05, 'epoch': 0.34}\n",
      "{'loss': 1.8261, 'grad_norm': 11.773066520690918, 'learning_rate': 3.4085160202360875e-05, 'epoch': 0.34}\n",
      "{'loss': 1.8618, 'grad_norm': 10.29587173461914, 'learning_rate': 3.405002810567735e-05, 'epoch': 0.34}\n",
      "{'loss': 1.532, 'grad_norm': 8.864211082458496, 'learning_rate': 3.401489600899382e-05, 'epoch': 0.34}\n",
      "{'loss': 1.7081, 'grad_norm': 7.761197566986084, 'learning_rate': 3.397976391231029e-05, 'epoch': 0.34}\n",
      "{'loss': 1.76, 'grad_norm': 15.312347412109375, 'learning_rate': 3.394463181562676e-05, 'epoch': 0.34}\n",
      "{'loss': 1.3588, 'grad_norm': 11.107444763183594, 'learning_rate': 3.3909499718943224e-05, 'epoch': 0.34}\n",
      "{'loss': 1.8588, 'grad_norm': 9.91970157623291, 'learning_rate': 3.38743676222597e-05, 'epoch': 0.35}\n",
      "{'loss': 1.5141, 'grad_norm': 9.340744972229004, 'learning_rate': 3.3839235525576167e-05, 'epoch': 0.35}\n",
      "{'loss': 1.6059, 'grad_norm': 14.74128532409668, 'learning_rate': 3.380410342889264e-05, 'epoch': 0.35}\n",
      "{'loss': 1.4632, 'grad_norm': 12.237268447875977, 'learning_rate': 3.376897133220911e-05, 'epoch': 0.35}\n",
      "{'loss': 1.6836, 'grad_norm': 8.24038314819336, 'learning_rate': 3.373383923552558e-05, 'epoch': 0.35}\n",
      "{'loss': 1.5952, 'grad_norm': 5.263679027557373, 'learning_rate': 3.3698707138842045e-05, 'epoch': 0.35}\n",
      "{'loss': 1.8719, 'grad_norm': 11.407807350158691, 'learning_rate': 3.3663575042158516e-05, 'epoch': 0.35}\n",
      "{'loss': 1.6786, 'grad_norm': 52.99696731567383, 'learning_rate': 3.362844294547499e-05, 'epoch': 0.35}\n",
      "{'loss': 1.623, 'grad_norm': 23.567163467407227, 'learning_rate': 3.359331084879146e-05, 'epoch': 0.35}\n",
      "{'loss': 2.2376, 'grad_norm': 11.195302963256836, 'learning_rate': 3.355817875210793e-05, 'epoch': 0.35}\n",
      "{'loss': 1.3839, 'grad_norm': 11.047172546386719, 'learning_rate': 3.3523046655424394e-05, 'epoch': 0.35}\n",
      "{'loss': 1.5186, 'grad_norm': 18.319814682006836, 'learning_rate': 3.3487914558740866e-05, 'epoch': 0.35}\n",
      "{'loss': 1.5516, 'grad_norm': 11.253053665161133, 'learning_rate': 3.345278246205734e-05, 'epoch': 0.35}\n",
      "{'loss': 2.0818, 'grad_norm': 21.283967971801758, 'learning_rate': 3.341765036537381e-05, 'epoch': 0.35}\n",
      "{'loss': 1.4165, 'grad_norm': 10.63588809967041, 'learning_rate': 3.338251826869028e-05, 'epoch': 0.36}\n",
      "{'loss': 1.4759, 'grad_norm': 8.517462730407715, 'learning_rate': 3.3347386172006744e-05, 'epoch': 0.36}\n",
      "{'loss': 1.887, 'grad_norm': 13.199812889099121, 'learning_rate': 3.3312254075323215e-05, 'epoch': 0.36}\n",
      "{'loss': 1.6341, 'grad_norm': 24.132431030273438, 'learning_rate': 3.3277121978639686e-05, 'epoch': 0.36}\n",
      "{'loss': 1.5164, 'grad_norm': 17.73924446105957, 'learning_rate': 3.324198988195616e-05, 'epoch': 0.36}\n",
      "{'loss': 1.627, 'grad_norm': 12.627049446105957, 'learning_rate': 3.320685778527263e-05, 'epoch': 0.36}\n",
      "{'loss': 1.7084, 'grad_norm': 7.831927299499512, 'learning_rate': 3.317172568858909e-05, 'epoch': 0.36}\n",
      "{'loss': 1.2779, 'grad_norm': 6.368514537811279, 'learning_rate': 3.313659359190557e-05, 'epoch': 0.36}\n",
      "{'loss': 1.7265, 'grad_norm': 11.439592361450195, 'learning_rate': 3.3101461495222036e-05, 'epoch': 0.36}\n",
      "{'loss': 1.6686, 'grad_norm': 10.466825485229492, 'learning_rate': 3.306632939853851e-05, 'epoch': 0.36}\n",
      "{'loss': 1.4379, 'grad_norm': 8.400321006774902, 'learning_rate': 3.303119730185498e-05, 'epoch': 0.36}\n",
      "{'loss': 1.54, 'grad_norm': 13.917200088500977, 'learning_rate': 3.299606520517144e-05, 'epoch': 0.36}\n",
      "{'loss': 1.4945, 'grad_norm': 11.035247802734375, 'learning_rate': 3.296093310848792e-05, 'epoch': 0.36}\n",
      "{'loss': 1.5981, 'grad_norm': 11.650186538696289, 'learning_rate': 3.2925801011804385e-05, 'epoch': 0.36}\n",
      "{'loss': 1.6874, 'grad_norm': 17.005064010620117, 'learning_rate': 3.2890668915120856e-05, 'epoch': 0.36}\n",
      "{'loss': 1.8495, 'grad_norm': 37.5355339050293, 'learning_rate': 3.285553681843733e-05, 'epoch': 0.37}\n",
      "{'loss': 1.3579, 'grad_norm': 8.79980754852295, 'learning_rate': 3.282040472175379e-05, 'epoch': 0.37}\n",
      "{'loss': 1.5836, 'grad_norm': 15.729056358337402, 'learning_rate': 3.278527262507027e-05, 'epoch': 0.37}\n",
      "{'loss': 1.5129, 'grad_norm': 11.322141647338867, 'learning_rate': 3.2750140528386735e-05, 'epoch': 0.37}\n",
      "{'loss': 1.4509, 'grad_norm': 10.547273635864258, 'learning_rate': 3.2715008431703206e-05, 'epoch': 0.37}\n",
      "{'loss': 1.6923, 'grad_norm': 9.674737930297852, 'learning_rate': 3.267987633501968e-05, 'epoch': 0.37}\n",
      "{'loss': 1.575, 'grad_norm': 8.948440551757812, 'learning_rate': 3.264474423833614e-05, 'epoch': 0.37}\n",
      "{'loss': 1.5277, 'grad_norm': 12.308765411376953, 'learning_rate': 3.260961214165262e-05, 'epoch': 0.37}\n",
      "{'loss': 1.7487, 'grad_norm': 8.333645820617676, 'learning_rate': 3.2574480044969084e-05, 'epoch': 0.37}\n",
      "{'loss': 1.7906, 'grad_norm': 9.968226432800293, 'learning_rate': 3.2539347948285555e-05, 'epoch': 0.37}\n",
      "{'loss': 1.6128, 'grad_norm': 12.311747550964355, 'learning_rate': 3.2504215851602027e-05, 'epoch': 0.37}\n",
      "{'loss': 1.5545, 'grad_norm': 11.362739562988281, 'learning_rate': 3.24690837549185e-05, 'epoch': 0.37}\n",
      "{'loss': 1.6047, 'grad_norm': 13.587708473205566, 'learning_rate': 3.243395165823496e-05, 'epoch': 0.37}\n"
     ]
    },
    {
     "data": {
      "application/vnd.jupyter.widget-view+json": {
       "model_id": "ddee0ce5df8e4708b1dd0d1d07419182",
       "version_major": 2,
       "version_minor": 0
      },
      "text/plain": [
       "  0%|          | 0/818 [00:00<?, ?it/s]"
      ]
     },
     "metadata": {},
     "output_type": "display_data"
    },
    {
     "name": "stdout",
     "output_type": "stream",
     "text": [
      "{'eval_loss': 1.4167238473892212, 'eval_runtime': 17.129, 'eval_samples_per_second': 47.755, 'eval_steps_per_second': 47.755, 'epoch': 0.37}\n",
      "{'loss': 1.3667, 'grad_norm': 11.04692268371582, 'learning_rate': 3.2398819561551434e-05, 'epoch': 0.37}\n",
      "{'loss': 1.5846, 'grad_norm': 11.316242218017578, 'learning_rate': 3.2363687464867905e-05, 'epoch': 0.37}\n",
      "{'loss': 1.208, 'grad_norm': 11.631349563598633, 'learning_rate': 3.2328555368184376e-05, 'epoch': 0.38}\n",
      "{'loss': 1.6623, 'grad_norm': 24.077945709228516, 'learning_rate': 3.229342327150085e-05, 'epoch': 0.38}\n",
      "{'loss': 1.8121, 'grad_norm': 10.018412590026855, 'learning_rate': 3.225829117481731e-05, 'epoch': 0.38}\n",
      "{'loss': 1.6725, 'grad_norm': 7.872175693511963, 'learning_rate': 3.222315907813378e-05, 'epoch': 0.38}\n",
      "{'loss': 1.7335, 'grad_norm': 16.946468353271484, 'learning_rate': 3.2188026981450254e-05, 'epoch': 0.38}\n",
      "{'loss': 1.4057, 'grad_norm': 23.30373191833496, 'learning_rate': 3.2152894884766725e-05, 'epoch': 0.38}\n",
      "{'loss': 1.4763, 'grad_norm': 12.671887397766113, 'learning_rate': 3.21177627880832e-05, 'epoch': 0.38}\n",
      "{'loss': 1.3947, 'grad_norm': 12.766839981079102, 'learning_rate': 3.208263069139966e-05, 'epoch': 0.38}\n",
      "{'loss': 1.2202, 'grad_norm': 5.5123820304870605, 'learning_rate': 3.204749859471613e-05, 'epoch': 0.38}\n",
      "{'loss': 1.3437, 'grad_norm': 11.596348762512207, 'learning_rate': 3.2012366498032604e-05, 'epoch': 0.38}\n",
      "{'loss': 1.2974, 'grad_norm': 5.3015828132629395, 'learning_rate': 3.1977234401349075e-05, 'epoch': 0.38}\n",
      "{'loss': 1.5943, 'grad_norm': 11.533164978027344, 'learning_rate': 3.1942102304665546e-05, 'epoch': 0.38}\n",
      "{'loss': 1.6308, 'grad_norm': 22.302135467529297, 'learning_rate': 3.190697020798201e-05, 'epoch': 0.38}\n",
      "{'loss': 1.2351, 'grad_norm': 11.168940544128418, 'learning_rate': 3.187183811129849e-05, 'epoch': 0.38}\n",
      "{'loss': 1.7116, 'grad_norm': 9.290133476257324, 'learning_rate': 3.183670601461495e-05, 'epoch': 0.38}\n",
      "{'loss': 1.2661, 'grad_norm': 8.59599781036377, 'learning_rate': 3.180157391793142e-05, 'epoch': 0.39}\n",
      "{'loss': 1.9133, 'grad_norm': 16.606840133666992, 'learning_rate': 3.1766441821247896e-05, 'epoch': 0.39}\n",
      "{'loss': 1.5614, 'grad_norm': 8.304253578186035, 'learning_rate': 3.173130972456436e-05, 'epoch': 0.39}\n",
      "{'loss': 1.6892, 'grad_norm': 8.341349601745605, 'learning_rate': 3.169617762788084e-05, 'epoch': 0.39}\n",
      "{'loss': 1.6335, 'grad_norm': 6.122747898101807, 'learning_rate': 3.16610455311973e-05, 'epoch': 0.39}\n",
      "{'loss': 1.7092, 'grad_norm': 9.989409446716309, 'learning_rate': 3.1625913434513774e-05, 'epoch': 0.39}\n",
      "{'loss': 1.6605, 'grad_norm': 8.925578117370605, 'learning_rate': 3.1590781337830245e-05, 'epoch': 0.39}\n",
      "{'loss': 1.4962, 'grad_norm': 6.0623087882995605, 'learning_rate': 3.155564924114671e-05, 'epoch': 0.39}\n",
      "{'loss': 1.2349, 'grad_norm': 12.163273811340332, 'learning_rate': 3.152051714446319e-05, 'epoch': 0.39}\n",
      "{'loss': 1.5647, 'grad_norm': 12.314901351928711, 'learning_rate': 3.148538504777965e-05, 'epoch': 0.39}\n",
      "{'loss': 1.4243, 'grad_norm': 7.42560338973999, 'learning_rate': 3.145025295109612e-05, 'epoch': 0.39}\n",
      "{'loss': 1.6574, 'grad_norm': 9.70776081085205, 'learning_rate': 3.1415120854412595e-05, 'epoch': 0.39}\n",
      "{'loss': 1.5684, 'grad_norm': 19.47415542602539, 'learning_rate': 3.137998875772906e-05, 'epoch': 0.39}\n",
      "{'loss': 1.6099, 'grad_norm': 13.297968864440918, 'learning_rate': 3.134485666104554e-05, 'epoch': 0.39}\n",
      "{'loss': 1.6978, 'grad_norm': 6.1519880294799805, 'learning_rate': 3.1309724564362e-05, 'epoch': 0.4}\n",
      "{'loss': 1.694, 'grad_norm': 6.945367336273193, 'learning_rate': 3.127459246767847e-05, 'epoch': 0.4}\n",
      "{'loss': 1.512, 'grad_norm': 8.992953300476074, 'learning_rate': 3.1239460370994944e-05, 'epoch': 0.4}\n",
      "{'loss': 1.266, 'grad_norm': 9.033004760742188, 'learning_rate': 3.120432827431141e-05, 'epoch': 0.4}\n",
      "{'loss': 1.5911, 'grad_norm': 13.041402816772461, 'learning_rate': 3.116919617762788e-05, 'epoch': 0.4}\n",
      "{'loss': 1.2681, 'grad_norm': 16.349262237548828, 'learning_rate': 3.113406408094435e-05, 'epoch': 0.4}\n",
      "{'loss': 1.7035, 'grad_norm': 3.7540981769561768, 'learning_rate': 3.109893198426082e-05, 'epoch': 0.4}\n",
      "{'loss': 1.3754, 'grad_norm': 5.955550670623779, 'learning_rate': 3.1063799887577294e-05, 'epoch': 0.4}\n",
      "{'loss': 1.462, 'grad_norm': 11.58957576751709, 'learning_rate': 3.1028667790893765e-05, 'epoch': 0.4}\n",
      "{'loss': 1.3554, 'grad_norm': 8.97867488861084, 'learning_rate': 3.099353569421023e-05, 'epoch': 0.4}\n",
      "{'loss': 1.831, 'grad_norm': 13.324024200439453, 'learning_rate': 3.09584035975267e-05, 'epoch': 0.4}\n",
      "{'loss': 1.652, 'grad_norm': 6.4188361167907715, 'learning_rate': 3.092327150084317e-05, 'epoch': 0.4}\n",
      "{'loss': 1.6537, 'grad_norm': 13.769776344299316, 'learning_rate': 3.088813940415964e-05, 'epoch': 0.4}\n",
      "{'loss': 1.2165, 'grad_norm': 6.973626613616943, 'learning_rate': 3.0853007307476114e-05, 'epoch': 0.4}\n",
      "{'loss': 1.5553, 'grad_norm': 8.946868896484375, 'learning_rate': 3.081787521079258e-05, 'epoch': 0.4}\n",
      "{'loss': 1.3284, 'grad_norm': 10.6586275100708, 'learning_rate': 3.078274311410905e-05, 'epoch': 0.41}\n",
      "{'loss': 1.307, 'grad_norm': 9.770552635192871, 'learning_rate': 3.074761101742552e-05, 'epoch': 0.41}\n",
      "{'loss': 1.3185, 'grad_norm': 7.800455093383789, 'learning_rate': 3.071247892074199e-05, 'epoch': 0.41}\n",
      "{'loss': 1.4526, 'grad_norm': 17.725143432617188, 'learning_rate': 3.0677346824058464e-05, 'epoch': 0.41}\n"
     ]
    },
    {
     "data": {
      "application/vnd.jupyter.widget-view+json": {
       "model_id": "e17bdee4a8d142498dbfc98f7f7f7b97",
       "version_major": 2,
       "version_minor": 0
      },
      "text/plain": [
       "  0%|          | 0/818 [00:00<?, ?it/s]"
      ]
     },
     "metadata": {},
     "output_type": "display_data"
    },
    {
     "name": "stdout",
     "output_type": "stream",
     "text": [
      "{'eval_loss': 1.4330627918243408, 'eval_runtime': 15.7505, 'eval_samples_per_second': 51.935, 'eval_steps_per_second': 51.935, 'epoch': 0.41}\n",
      "{'loss': 1.6861, 'grad_norm': 7.492382526397705, 'learning_rate': 3.064221472737493e-05, 'epoch': 0.41}\n",
      "{'loss': 1.6569, 'grad_norm': 11.177184104919434, 'learning_rate': 3.06070826306914e-05, 'epoch': 0.41}\n",
      "{'loss': 1.8964, 'grad_norm': 8.1219482421875, 'learning_rate': 3.057195053400787e-05, 'epoch': 0.41}\n",
      "{'loss': 1.5939, 'grad_norm': 8.72666072845459, 'learning_rate': 3.0536818437324335e-05, 'epoch': 0.41}\n",
      "{'loss': 1.6982, 'grad_norm': 17.315235137939453, 'learning_rate': 3.0501686340640813e-05, 'epoch': 0.41}\n",
      "{'loss': 1.4355, 'grad_norm': 6.421512126922607, 'learning_rate': 3.0466554243957278e-05, 'epoch': 0.41}\n",
      "{'loss': 1.6188, 'grad_norm': 21.543493270874023, 'learning_rate': 3.0431422147273752e-05, 'epoch': 0.41}\n",
      "{'loss': 1.6937, 'grad_norm': 13.177926063537598, 'learning_rate': 3.039629005059022e-05, 'epoch': 0.41}\n",
      "{'loss': 1.6236, 'grad_norm': 11.910411834716797, 'learning_rate': 3.0361157953906688e-05, 'epoch': 0.41}\n",
      "{'loss': 1.7751, 'grad_norm': 9.42033576965332, 'learning_rate': 3.0326025857223163e-05, 'epoch': 0.41}\n",
      "{'loss': 1.6987, 'grad_norm': 9.598763465881348, 'learning_rate': 3.029089376053963e-05, 'epoch': 0.41}\n",
      "{'loss': 1.7002, 'grad_norm': 8.42969799041748, 'learning_rate': 3.0255761663856102e-05, 'epoch': 0.42}\n",
      "{'loss': 1.8967, 'grad_norm': 14.449453353881836, 'learning_rate': 3.022062956717257e-05, 'epoch': 0.42}\n",
      "{'loss': 1.7374, 'grad_norm': 30.637542724609375, 'learning_rate': 3.0185497470489037e-05, 'epoch': 0.42}\n",
      "{'loss': 1.6855, 'grad_norm': 15.414836883544922, 'learning_rate': 3.0150365373805512e-05, 'epoch': 0.42}\n",
      "{'loss': 1.4495, 'grad_norm': 9.301711082458496, 'learning_rate': 3.011523327712198e-05, 'epoch': 0.42}\n",
      "{'loss': 1.3801, 'grad_norm': 13.51476001739502, 'learning_rate': 3.008010118043845e-05, 'epoch': 0.42}\n",
      "{'loss': 1.3509, 'grad_norm': 8.079232215881348, 'learning_rate': 3.004496908375492e-05, 'epoch': 0.42}\n",
      "{'loss': 1.5905, 'grad_norm': 8.843608856201172, 'learning_rate': 3.0009836987071387e-05, 'epoch': 0.42}\n",
      "{'loss': 1.7425, 'grad_norm': 19.61115837097168, 'learning_rate': 2.997470489038786e-05, 'epoch': 0.42}\n",
      "{'loss': 1.3885, 'grad_norm': 10.420845985412598, 'learning_rate': 2.993957279370433e-05, 'epoch': 0.42}\n",
      "{'loss': 1.3664, 'grad_norm': 21.811067581176758, 'learning_rate': 2.9904440697020797e-05, 'epoch': 0.42}\n",
      "{'loss': 1.6363, 'grad_norm': 12.372893333435059, 'learning_rate': 2.986930860033727e-05, 'epoch': 0.42}\n",
      "{'loss': 1.5077, 'grad_norm': 12.895943641662598, 'learning_rate': 2.9834176503653736e-05, 'epoch': 0.42}\n",
      "{'loss': 1.6918, 'grad_norm': 8.398640632629395, 'learning_rate': 2.979904440697021e-05, 'epoch': 0.42}\n",
      "{'loss': 1.387, 'grad_norm': 51.0711555480957, 'learning_rate': 2.976391231028668e-05, 'epoch': 0.42}\n",
      "{'loss': 1.3487, 'grad_norm': 7.370623588562012, 'learning_rate': 2.9728780213603147e-05, 'epoch': 0.43}\n",
      "{'loss': 1.7255, 'grad_norm': 8.212063789367676, 'learning_rate': 2.969364811691962e-05, 'epoch': 0.43}\n",
      "{'loss': 1.6195, 'grad_norm': 19.127111434936523, 'learning_rate': 2.965851602023609e-05, 'epoch': 0.43}\n",
      "{'loss': 1.5417, 'grad_norm': 9.206310272216797, 'learning_rate': 2.962338392355256e-05, 'epoch': 0.43}\n",
      "{'loss': 1.4425, 'grad_norm': 7.356462478637695, 'learning_rate': 2.958825182686903e-05, 'epoch': 0.43}\n",
      "{'loss': 1.7244, 'grad_norm': 8.242761611938477, 'learning_rate': 2.9553119730185496e-05, 'epoch': 0.43}\n",
      "{'loss': 1.1637, 'grad_norm': 7.192724704742432, 'learning_rate': 2.951798763350197e-05, 'epoch': 0.43}\n",
      "{'loss': 1.6918, 'grad_norm': 11.28852367401123, 'learning_rate': 2.948285553681844e-05, 'epoch': 0.43}\n",
      "{'loss': 1.7935, 'grad_norm': 8.578453063964844, 'learning_rate': 2.944772344013491e-05, 'epoch': 0.43}\n",
      "{'loss': 1.8235, 'grad_norm': 19.604515075683594, 'learning_rate': 2.9412591343451378e-05, 'epoch': 0.43}\n",
      "{'loss': 1.3799, 'grad_norm': 7.736817359924316, 'learning_rate': 2.9377459246767846e-05, 'epoch': 0.43}\n",
      "{'loss': 1.5851, 'grad_norm': 8.279728889465332, 'learning_rate': 2.934232715008432e-05, 'epoch': 0.43}\n",
      "{'loss': 1.7868, 'grad_norm': 13.14403247833252, 'learning_rate': 2.9307195053400788e-05, 'epoch': 0.43}\n",
      "{'loss': 1.5461, 'grad_norm': 24.71265983581543, 'learning_rate': 2.9272062956717256e-05, 'epoch': 0.43}\n",
      "{'loss': 1.8476, 'grad_norm': 6.999526500701904, 'learning_rate': 2.9236930860033727e-05, 'epoch': 0.44}\n",
      "{'loss': 1.3807, 'grad_norm': 13.012155532836914, 'learning_rate': 2.9201798763350195e-05, 'epoch': 0.44}\n",
      "{'loss': 1.508, 'grad_norm': 9.250826835632324, 'learning_rate': 2.916666666666667e-05, 'epoch': 0.44}\n",
      "{'loss': 1.6796, 'grad_norm': 9.903787612915039, 'learning_rate': 2.9131534569983138e-05, 'epoch': 0.44}\n",
      "{'loss': 1.4398, 'grad_norm': 9.397225379943848, 'learning_rate': 2.9096402473299605e-05, 'epoch': 0.44}\n",
      "{'loss': 1.1076, 'grad_norm': 8.769387245178223, 'learning_rate': 2.906127037661608e-05, 'epoch': 0.44}\n",
      "{'loss': 1.4428, 'grad_norm': 12.39220142364502, 'learning_rate': 2.9026138279932548e-05, 'epoch': 0.44}\n",
      "{'loss': 1.5179, 'grad_norm': 23.015661239624023, 'learning_rate': 2.899100618324902e-05, 'epoch': 0.44}\n",
      "{'loss': 1.805, 'grad_norm': 5.896321773529053, 'learning_rate': 2.8955874086565487e-05, 'epoch': 0.44}\n",
      "{'loss': 1.4406, 'grad_norm': 10.997310638427734, 'learning_rate': 2.8920741989881955e-05, 'epoch': 0.44}\n"
     ]
    },
    {
     "data": {
      "application/vnd.jupyter.widget-view+json": {
       "model_id": "4616f4fb36d74396b0097262dcf35052",
       "version_major": 2,
       "version_minor": 0
      },
      "text/plain": [
       "  0%|          | 0/818 [00:00<?, ?it/s]"
      ]
     },
     "metadata": {},
     "output_type": "display_data"
    },
    {
     "name": "stdout",
     "output_type": "stream",
     "text": [
      "{'eval_loss': 1.4076288938522339, 'eval_runtime': 15.3605, 'eval_samples_per_second': 53.253, 'eval_steps_per_second': 53.253, 'epoch': 0.44}\n",
      "{'loss': 1.978, 'grad_norm': 9.941298484802246, 'learning_rate': 2.888560989319843e-05, 'epoch': 0.44}\n",
      "{'loss': 1.3771, 'grad_norm': 9.436005592346191, 'learning_rate': 2.8850477796514897e-05, 'epoch': 0.44}\n",
      "{'loss': 1.753, 'grad_norm': 5.62043571472168, 'learning_rate': 2.881534569983137e-05, 'epoch': 0.44}\n",
      "{'loss': 1.4757, 'grad_norm': 9.607549667358398, 'learning_rate': 2.8780213603147837e-05, 'epoch': 0.44}\n",
      "{'loss': 1.7556, 'grad_norm': 6.91405725479126, 'learning_rate': 2.8745081506464304e-05, 'epoch': 0.44}\n",
      "{'loss': 1.6836, 'grad_norm': 21.628114700317383, 'learning_rate': 2.870994940978078e-05, 'epoch': 0.45}\n",
      "{'loss': 1.528, 'grad_norm': 12.206637382507324, 'learning_rate': 2.8674817313097247e-05, 'epoch': 0.45}\n",
      "{'loss': 1.6192, 'grad_norm': 8.293185234069824, 'learning_rate': 2.8639685216413718e-05, 'epoch': 0.45}\n",
      "{'loss': 1.4817, 'grad_norm': 9.021269798278809, 'learning_rate': 2.8604553119730186e-05, 'epoch': 0.45}\n",
      "{'loss': 1.3623, 'grad_norm': 7.919520378112793, 'learning_rate': 2.8569421023046654e-05, 'epoch': 0.45}\n",
      "{'loss': 1.274, 'grad_norm': 22.1341609954834, 'learning_rate': 2.853428892636313e-05, 'epoch': 0.45}\n",
      "{'loss': 1.5867, 'grad_norm': 18.325489044189453, 'learning_rate': 2.8499156829679596e-05, 'epoch': 0.45}\n",
      "{'loss': 1.4718, 'grad_norm': 14.958168983459473, 'learning_rate': 2.8464024732996064e-05, 'epoch': 0.45}\n",
      "{'loss': 1.4924, 'grad_norm': 12.84287166595459, 'learning_rate': 2.842889263631254e-05, 'epoch': 0.45}\n",
      "{'loss': 1.4766, 'grad_norm': 5.3939971923828125, 'learning_rate': 2.8393760539629007e-05, 'epoch': 0.45}\n",
      "{'loss': 1.3396, 'grad_norm': 13.150688171386719, 'learning_rate': 2.8358628442945478e-05, 'epoch': 0.45}\n",
      "{'loss': 1.5017, 'grad_norm': 11.629243850708008, 'learning_rate': 2.8323496346261946e-05, 'epoch': 0.45}\n",
      "{'loss': 1.5375, 'grad_norm': 10.751803398132324, 'learning_rate': 2.8288364249578414e-05, 'epoch': 0.45}\n",
      "{'loss': 1.4922, 'grad_norm': 5.962425231933594, 'learning_rate': 2.825323215289489e-05, 'epoch': 0.45}\n",
      "{'loss': 1.1756, 'grad_norm': 7.088668346405029, 'learning_rate': 2.8218100056211356e-05, 'epoch': 0.45}\n",
      "{'loss': 1.7412, 'grad_norm': 23.88422966003418, 'learning_rate': 2.8182967959527827e-05, 'epoch': 0.46}\n",
      "{'loss': 1.7107, 'grad_norm': 9.889427185058594, 'learning_rate': 2.8147835862844295e-05, 'epoch': 0.46}\n",
      "{'loss': 1.6273, 'grad_norm': 10.165181159973145, 'learning_rate': 2.8112703766160763e-05, 'epoch': 0.46}\n",
      "{'loss': 1.4539, 'grad_norm': 12.195714950561523, 'learning_rate': 2.8077571669477238e-05, 'epoch': 0.46}\n",
      "{'loss': 1.2647, 'grad_norm': 5.983826637268066, 'learning_rate': 2.8042439572793706e-05, 'epoch': 0.46}\n",
      "{'loss': 1.1647, 'grad_norm': 9.69273853302002, 'learning_rate': 2.8007307476110177e-05, 'epoch': 0.46}\n",
      "{'loss': 1.5212, 'grad_norm': 8.159930229187012, 'learning_rate': 2.7972175379426645e-05, 'epoch': 0.46}\n",
      "{'loss': 2.6636, 'grad_norm': 15.795014381408691, 'learning_rate': 2.7937043282743113e-05, 'epoch': 0.46}\n",
      "{'loss': 1.7256, 'grad_norm': 7.296356678009033, 'learning_rate': 2.7901911186059587e-05, 'epoch': 0.46}\n",
      "{'loss': 1.2714, 'grad_norm': 13.155068397521973, 'learning_rate': 2.7866779089376055e-05, 'epoch': 0.46}\n",
      "{'loss': 1.7306, 'grad_norm': 9.637356758117676, 'learning_rate': 2.7831646992692523e-05, 'epoch': 0.46}\n",
      "{'loss': 1.5401, 'grad_norm': 8.902640342712402, 'learning_rate': 2.7796514896008998e-05, 'epoch': 0.46}\n",
      "{'loss': 1.9331, 'grad_norm': 11.646383285522461, 'learning_rate': 2.7761382799325465e-05, 'epoch': 0.46}\n",
      "{'loss': 1.7214, 'grad_norm': 7.313279151916504, 'learning_rate': 2.7726250702641937e-05, 'epoch': 0.46}\n",
      "{'loss': 1.5935, 'grad_norm': 9.877870559692383, 'learning_rate': 2.7691118605958405e-05, 'epoch': 0.46}\n",
      "{'loss': 1.4926, 'grad_norm': 9.410615921020508, 'learning_rate': 2.7655986509274872e-05, 'epoch': 0.47}\n",
      "{'loss': 1.4209, 'grad_norm': 11.990011215209961, 'learning_rate': 2.7620854412591347e-05, 'epoch': 0.47}\n",
      "{'loss': 2.0032, 'grad_norm': 14.757994651794434, 'learning_rate': 2.7585722315907815e-05, 'epoch': 0.47}\n",
      "{'loss': 1.6975, 'grad_norm': 8.787400245666504, 'learning_rate': 2.7550590219224286e-05, 'epoch': 0.47}\n",
      "{'loss': 1.6387, 'grad_norm': 8.009716033935547, 'learning_rate': 2.7515458122540754e-05, 'epoch': 0.47}\n",
      "{'loss': 1.274, 'grad_norm': 8.71992301940918, 'learning_rate': 2.7480326025857222e-05, 'epoch': 0.47}\n",
      "{'loss': 1.733, 'grad_norm': 14.517194747924805, 'learning_rate': 2.7445193929173697e-05, 'epoch': 0.47}\n",
      "{'loss': 1.3342, 'grad_norm': 14.994649887084961, 'learning_rate': 2.7410061832490164e-05, 'epoch': 0.47}\n",
      "{'loss': 1.7089, 'grad_norm': 6.227411270141602, 'learning_rate': 2.7374929735806636e-05, 'epoch': 0.47}\n",
      "{'loss': 1.5324, 'grad_norm': 10.392960548400879, 'learning_rate': 2.7339797639123103e-05, 'epoch': 0.47}\n",
      "{'loss': 1.5569, 'grad_norm': 6.5197601318359375, 'learning_rate': 2.730466554243957e-05, 'epoch': 0.47}\n",
      "{'loss': 1.5972, 'grad_norm': 11.289915084838867, 'learning_rate': 2.7269533445756046e-05, 'epoch': 0.47}\n",
      "{'loss': 1.4307, 'grad_norm': 10.677447319030762, 'learning_rate': 2.7234401349072514e-05, 'epoch': 0.47}\n",
      "{'loss': 1.3582, 'grad_norm': 25.251094818115234, 'learning_rate': 2.7199269252388982e-05, 'epoch': 0.47}\n",
      "{'loss': 1.6467, 'grad_norm': 8.743332862854004, 'learning_rate': 2.7164137155705456e-05, 'epoch': 0.48}\n"
     ]
    },
    {
     "data": {
      "application/vnd.jupyter.widget-view+json": {
       "model_id": "38d698f5db604ca491e595092c6c60fd",
       "version_major": 2,
       "version_minor": 0
      },
      "text/plain": [
       "  0%|          | 0/818 [00:00<?, ?it/s]"
      ]
     },
     "metadata": {},
     "output_type": "display_data"
    },
    {
     "name": "stdout",
     "output_type": "stream",
     "text": [
      "{'eval_loss': 1.4054217338562012, 'eval_runtime': 15.3048, 'eval_samples_per_second': 53.447, 'eval_steps_per_second': 53.447, 'epoch': 0.48}\n",
      "{'loss': 1.472, 'grad_norm': 8.095516204833984, 'learning_rate': 2.712900505902192e-05, 'epoch': 0.48}\n",
      "{'loss': 1.7549, 'grad_norm': 5.97124719619751, 'learning_rate': 2.7093872962338395e-05, 'epoch': 0.48}\n",
      "{'loss': 1.5485, 'grad_norm': 13.704919815063477, 'learning_rate': 2.7058740865654863e-05, 'epoch': 0.48}\n",
      "{'loss': 1.7952, 'grad_norm': 14.41912841796875, 'learning_rate': 2.702360876897133e-05, 'epoch': 0.48}\n",
      "{'loss': 1.2789, 'grad_norm': 8.733780860900879, 'learning_rate': 2.6988476672287806e-05, 'epoch': 0.48}\n",
      "{'loss': 1.2626, 'grad_norm': 9.614090919494629, 'learning_rate': 2.6953344575604274e-05, 'epoch': 0.48}\n",
      "{'loss': 1.4114, 'grad_norm': 6.823118209838867, 'learning_rate': 2.6918212478920745e-05, 'epoch': 0.48}\n",
      "{'loss': 1.689, 'grad_norm': 30.810956954956055, 'learning_rate': 2.6883080382237213e-05, 'epoch': 0.48}\n",
      "{'loss': 1.5879, 'grad_norm': 20.610021591186523, 'learning_rate': 2.684794828555368e-05, 'epoch': 0.48}\n",
      "{'loss': 1.5523, 'grad_norm': 15.116552352905273, 'learning_rate': 2.6812816188870155e-05, 'epoch': 0.48}\n",
      "{'loss': 1.7703, 'grad_norm': 6.018063068389893, 'learning_rate': 2.6777684092186623e-05, 'epoch': 0.48}\n",
      "{'loss': 1.3462, 'grad_norm': 9.359951972961426, 'learning_rate': 2.6742551995503094e-05, 'epoch': 0.48}\n",
      "{'loss': 1.5895, 'grad_norm': 8.904427528381348, 'learning_rate': 2.6707419898819562e-05, 'epoch': 0.48}\n",
      "{'loss': 1.6449, 'grad_norm': 19.18880271911621, 'learning_rate': 2.667228780213603e-05, 'epoch': 0.48}\n",
      "{'loss': 1.6579, 'grad_norm': 21.454256057739258, 'learning_rate': 2.6637155705452505e-05, 'epoch': 0.49}\n",
      "{'loss': 1.1773, 'grad_norm': 13.813136100769043, 'learning_rate': 2.6602023608768973e-05, 'epoch': 0.49}\n",
      "{'loss': 1.6891, 'grad_norm': 4.850246906280518, 'learning_rate': 2.656689151208544e-05, 'epoch': 0.49}\n",
      "{'loss': 1.4666, 'grad_norm': 15.844695091247559, 'learning_rate': 2.6531759415401912e-05, 'epoch': 0.49}\n",
      "{'loss': 1.4184, 'grad_norm': 9.801401138305664, 'learning_rate': 2.649662731871838e-05, 'epoch': 0.49}\n",
      "{'loss': 1.348, 'grad_norm': 8.61919116973877, 'learning_rate': 2.6461495222034854e-05, 'epoch': 0.49}\n",
      "{'loss': 1.63, 'grad_norm': 10.119547843933105, 'learning_rate': 2.6426363125351322e-05, 'epoch': 0.49}\n",
      "{'loss': 1.3965, 'grad_norm': 5.228556156158447, 'learning_rate': 2.639123102866779e-05, 'epoch': 0.49}\n",
      "{'loss': 1.9388, 'grad_norm': 10.445087432861328, 'learning_rate': 2.6356098931984265e-05, 'epoch': 0.49}\n",
      "{'loss': 0.9935, 'grad_norm': 5.016000270843506, 'learning_rate': 2.6320966835300732e-05, 'epoch': 0.49}\n",
      "{'loss': 1.682, 'grad_norm': 13.287786483764648, 'learning_rate': 2.6285834738617204e-05, 'epoch': 0.49}\n",
      "{'loss': 1.213, 'grad_norm': 28.222164154052734, 'learning_rate': 2.625070264193367e-05, 'epoch': 0.49}\n",
      "{'loss': 1.8228, 'grad_norm': 7.223846912384033, 'learning_rate': 2.621557054525014e-05, 'epoch': 0.49}\n",
      "{'loss': 1.7458, 'grad_norm': 6.693567276000977, 'learning_rate': 2.6180438448566614e-05, 'epoch': 0.49}\n",
      "{'loss': 1.3209, 'grad_norm': 16.96271324157715, 'learning_rate': 2.6145306351883082e-05, 'epoch': 0.49}\n",
      "{'loss': 1.1286, 'grad_norm': 10.109478950500488, 'learning_rate': 2.6110174255199553e-05, 'epoch': 0.5}\n",
      "{'loss': 2.0064, 'grad_norm': 9.008866310119629, 'learning_rate': 2.607504215851602e-05, 'epoch': 0.5}\n",
      "{'loss': 1.6219, 'grad_norm': 9.769511222839355, 'learning_rate': 2.603991006183249e-05, 'epoch': 0.5}\n",
      "{'loss': 1.6327, 'grad_norm': 9.136239051818848, 'learning_rate': 2.6004777965148963e-05, 'epoch': 0.5}\n",
      "{'loss': 1.6871, 'grad_norm': 12.582586288452148, 'learning_rate': 2.596964586846543e-05, 'epoch': 0.5}\n",
      "{'loss': 1.4635, 'grad_norm': 8.555768966674805, 'learning_rate': 2.59345137717819e-05, 'epoch': 0.5}\n",
      "{'loss': 1.4963, 'grad_norm': 18.037370681762695, 'learning_rate': 2.589938167509837e-05, 'epoch': 0.5}\n",
      "{'loss': 1.6011, 'grad_norm': 10.777155876159668, 'learning_rate': 2.586424957841484e-05, 'epoch': 0.5}\n",
      "{'loss': 1.6343, 'grad_norm': 13.911893844604492, 'learning_rate': 2.5829117481731313e-05, 'epoch': 0.5}\n",
      "{'loss': 1.0336, 'grad_norm': 9.260993957519531, 'learning_rate': 2.579398538504778e-05, 'epoch': 0.5}\n",
      "{'loss': 1.8814, 'grad_norm': 24.096805572509766, 'learning_rate': 2.575885328836425e-05, 'epoch': 0.5}\n",
      "{'loss': 1.5386, 'grad_norm': 18.0316219329834, 'learning_rate': 2.5723721191680723e-05, 'epoch': 0.5}\n",
      "{'loss': 1.5135, 'grad_norm': 12.47533130645752, 'learning_rate': 2.568858909499719e-05, 'epoch': 0.5}\n",
      "{'loss': 1.4412, 'grad_norm': 7.705255031585693, 'learning_rate': 2.5653456998313662e-05, 'epoch': 0.5}\n",
      "{'loss': 1.1831, 'grad_norm': 6.6826395988464355, 'learning_rate': 2.561832490163013e-05, 'epoch': 0.51}\n",
      "{'loss': 1.7088, 'grad_norm': 9.803587913513184, 'learning_rate': 2.5583192804946598e-05, 'epoch': 0.51}\n",
      "{'loss': 1.8414, 'grad_norm': 12.102143287658691, 'learning_rate': 2.5548060708263073e-05, 'epoch': 0.51}\n",
      "{'loss': 1.4887, 'grad_norm': 9.716437339782715, 'learning_rate': 2.551292861157954e-05, 'epoch': 0.51}\n",
      "{'loss': 1.6857, 'grad_norm': 7.19376802444458, 'learning_rate': 2.5477796514896012e-05, 'epoch': 0.51}\n",
      "{'loss': 1.7686, 'grad_norm': 7.88264274597168, 'learning_rate': 2.544266441821248e-05, 'epoch': 0.51}\n",
      "{'loss': 1.4784, 'grad_norm': 23.552623748779297, 'learning_rate': 2.5407532321528948e-05, 'epoch': 0.51}\n"
     ]
    },
    {
     "data": {
      "application/vnd.jupyter.widget-view+json": {
       "model_id": "20b3bfb28c004b97873d663ed3bbda53",
       "version_major": 2,
       "version_minor": 0
      },
      "text/plain": [
       "  0%|          | 0/818 [00:00<?, ?it/s]"
      ]
     },
     "metadata": {},
     "output_type": "display_data"
    },
    {
     "name": "stdout",
     "output_type": "stream",
     "text": [
      "{'eval_loss': 1.3934987783432007, 'eval_runtime': 15.754, 'eval_samples_per_second': 51.923, 'eval_steps_per_second': 51.923, 'epoch': 0.51}\n",
      "{'loss': 1.522, 'grad_norm': 22.175180435180664, 'learning_rate': 2.5372400224845422e-05, 'epoch': 0.51}\n",
      "{'loss': 1.5782, 'grad_norm': 6.322543144226074, 'learning_rate': 2.533726812816189e-05, 'epoch': 0.51}\n",
      "{'loss': 1.3704, 'grad_norm': 6.8664045333862305, 'learning_rate': 2.5302136031478358e-05, 'epoch': 0.51}\n",
      "{'loss': 1.4846, 'grad_norm': 8.210290908813477, 'learning_rate': 2.526700393479483e-05, 'epoch': 0.51}\n",
      "{'loss': 1.2819, 'grad_norm': 8.138832092285156, 'learning_rate': 2.5231871838111297e-05, 'epoch': 0.51}\n",
      "{'loss': 1.7226, 'grad_norm': 10.529825210571289, 'learning_rate': 2.5196739741427772e-05, 'epoch': 0.51}\n",
      "{'loss': 1.4228, 'grad_norm': 11.204374313354492, 'learning_rate': 2.516160764474424e-05, 'epoch': 0.51}\n",
      "{'loss': 1.3732, 'grad_norm': 8.66184139251709, 'learning_rate': 2.5126475548060707e-05, 'epoch': 0.51}\n",
      "{'loss': 1.5235, 'grad_norm': 6.773022651672363, 'learning_rate': 2.5091343451377182e-05, 'epoch': 0.52}\n",
      "{'loss': 1.5259, 'grad_norm': 13.252264976501465, 'learning_rate': 2.505621135469365e-05, 'epoch': 0.52}\n",
      "{'loss': 1.2714, 'grad_norm': 12.019301414489746, 'learning_rate': 2.502107925801012e-05, 'epoch': 0.52}\n",
      "{'loss': 1.7967, 'grad_norm': 11.663952827453613, 'learning_rate': 2.498594716132659e-05, 'epoch': 0.52}\n",
      "{'loss': 2.0005, 'grad_norm': 23.4002628326416, 'learning_rate': 2.495081506464306e-05, 'epoch': 0.52}\n",
      "{'loss': 1.4128, 'grad_norm': 8.677094459533691, 'learning_rate': 2.4915682967959528e-05, 'epoch': 0.52}\n",
      "{'loss': 1.4847, 'grad_norm': 8.508926391601562, 'learning_rate': 2.4880550871276e-05, 'epoch': 0.52}\n",
      "{'loss': 1.3668, 'grad_norm': 5.385004997253418, 'learning_rate': 2.4845418774592467e-05, 'epoch': 0.52}\n",
      "{'loss': 1.72, 'grad_norm': 13.783651351928711, 'learning_rate': 2.481028667790894e-05, 'epoch': 0.52}\n",
      "{'loss': 1.6371, 'grad_norm': 14.667858123779297, 'learning_rate': 2.477515458122541e-05, 'epoch': 0.52}\n",
      "{'loss': 1.5514, 'grad_norm': 7.975994110107422, 'learning_rate': 2.4740022484541878e-05, 'epoch': 0.52}\n",
      "{'loss': 1.1655, 'grad_norm': 9.631385803222656, 'learning_rate': 2.470489038785835e-05, 'epoch': 0.52}\n",
      "{'loss': 1.4128, 'grad_norm': 9.7821626663208, 'learning_rate': 2.466975829117482e-05, 'epoch': 0.52}\n",
      "{'loss': 1.5627, 'grad_norm': 17.717208862304688, 'learning_rate': 2.4634626194491288e-05, 'epoch': 0.52}\n",
      "{'loss': 1.5274, 'grad_norm': 12.75566291809082, 'learning_rate': 2.4599494097807756e-05, 'epoch': 0.52}\n",
      "{'loss': 1.4716, 'grad_norm': 9.743087768554688, 'learning_rate': 2.4564362001124227e-05, 'epoch': 0.53}\n",
      "{'loss': 1.5904, 'grad_norm': 9.684523582458496, 'learning_rate': 2.4529229904440698e-05, 'epoch': 0.53}\n",
      "{'loss': 2.0009, 'grad_norm': 11.635171890258789, 'learning_rate': 2.449409780775717e-05, 'epoch': 0.53}\n",
      "{'loss': 1.5366, 'grad_norm': 14.481313705444336, 'learning_rate': 2.445896571107364e-05, 'epoch': 0.53}\n",
      "{'loss': 1.4051, 'grad_norm': 6.772476673126221, 'learning_rate': 2.442383361439011e-05, 'epoch': 0.53}\n",
      "{'loss': 1.4446, 'grad_norm': 11.48022747039795, 'learning_rate': 2.4388701517706577e-05, 'epoch': 0.53}\n",
      "{'loss': 1.7295, 'grad_norm': 15.452788352966309, 'learning_rate': 2.4353569421023048e-05, 'epoch': 0.53}\n",
      "{'loss': 1.6633, 'grad_norm': 10.888049125671387, 'learning_rate': 2.431843732433952e-05, 'epoch': 0.53}\n",
      "{'loss': 1.4451, 'grad_norm': 8.937503814697266, 'learning_rate': 2.4283305227655987e-05, 'epoch': 0.53}\n",
      "{'loss': 1.4068, 'grad_norm': 6.7400007247924805, 'learning_rate': 2.4248173130972458e-05, 'epoch': 0.53}\n",
      "{'loss': 1.8312, 'grad_norm': 7.299288749694824, 'learning_rate': 2.4213041034288926e-05, 'epoch': 0.53}\n",
      "{'loss': 1.5771, 'grad_norm': 16.044757843017578, 'learning_rate': 2.4177908937605397e-05, 'epoch': 0.53}\n",
      "{'loss': 1.7897, 'grad_norm': 8.870013236999512, 'learning_rate': 2.414277684092187e-05, 'epoch': 0.53}\n",
      "{'loss': 1.8177, 'grad_norm': 12.594735145568848, 'learning_rate': 2.4107644744238336e-05, 'epoch': 0.53}\n",
      "{'loss': 1.7045, 'grad_norm': 14.837953567504883, 'learning_rate': 2.4072512647554808e-05, 'epoch': 0.53}\n",
      "{'loss': 1.5163, 'grad_norm': 8.087911605834961, 'learning_rate': 2.403738055087128e-05, 'epoch': 0.54}\n",
      "{'loss': 1.4519, 'grad_norm': 7.915665149688721, 'learning_rate': 2.4002248454187747e-05, 'epoch': 0.54}\n",
      "{'loss': 1.2909, 'grad_norm': 12.734124183654785, 'learning_rate': 2.3967116357504215e-05, 'epoch': 0.54}\n",
      "{'loss': 1.4326, 'grad_norm': 7.0315446853637695, 'learning_rate': 2.3931984260820686e-05, 'epoch': 0.54}\n",
      "{'loss': 2.0033, 'grad_norm': 17.03019905090332, 'learning_rate': 2.3896852164137157e-05, 'epoch': 0.54}\n",
      "{'loss': 1.4646, 'grad_norm': 9.708722114562988, 'learning_rate': 2.3861720067453628e-05, 'epoch': 0.54}\n",
      "{'loss': 1.6825, 'grad_norm': 8.983453750610352, 'learning_rate': 2.38265879707701e-05, 'epoch': 0.54}\n",
      "{'loss': 1.2253, 'grad_norm': 8.601085662841797, 'learning_rate': 2.3791455874086564e-05, 'epoch': 0.54}\n",
      "{'loss': 1.6218, 'grad_norm': 5.51402473449707, 'learning_rate': 2.3756323777403035e-05, 'epoch': 0.54}\n",
      "{'loss': 1.2802, 'grad_norm': 20.574831008911133, 'learning_rate': 2.3721191680719507e-05, 'epoch': 0.54}\n",
      "{'loss': 1.1015, 'grad_norm': 14.663370132446289, 'learning_rate': 2.3686059584035978e-05, 'epoch': 0.54}\n",
      "{'loss': 1.4405, 'grad_norm': 10.01175308227539, 'learning_rate': 2.3650927487352446e-05, 'epoch': 0.54}\n"
     ]
    },
    {
     "data": {
      "application/vnd.jupyter.widget-view+json": {
       "model_id": "15596ffcc42845738c0cc75e6feb3668",
       "version_major": 2,
       "version_minor": 0
      },
      "text/plain": [
       "  0%|          | 0/818 [00:00<?, ?it/s]"
      ]
     },
     "metadata": {},
     "output_type": "display_data"
    },
    {
     "name": "stdout",
     "output_type": "stream",
     "text": [
      "{'eval_loss': 1.3951985836029053, 'eval_runtime': 15.4159, 'eval_samples_per_second': 53.062, 'eval_steps_per_second': 53.062, 'epoch': 0.54}\n",
      "{'loss': 1.2908, 'grad_norm': 13.321028709411621, 'learning_rate': 2.3615795390668917e-05, 'epoch': 0.54}\n",
      "{'loss': 1.4951, 'grad_norm': 6.777870178222656, 'learning_rate': 2.3580663293985385e-05, 'epoch': 0.54}\n",
      "{'loss': 1.8511, 'grad_norm': 9.115062713623047, 'learning_rate': 2.3545531197301856e-05, 'epoch': 0.55}\n",
      "{'loss': 1.6219, 'grad_norm': 12.388946533203125, 'learning_rate': 2.3510399100618327e-05, 'epoch': 0.55}\n",
      "{'loss': 1.2529, 'grad_norm': 11.181861877441406, 'learning_rate': 2.3475267003934795e-05, 'epoch': 0.55}\n",
      "{'loss': 1.7096, 'grad_norm': 13.418147087097168, 'learning_rate': 2.3440134907251266e-05, 'epoch': 0.55}\n",
      "{'loss': 1.6473, 'grad_norm': 10.218009948730469, 'learning_rate': 2.3405002810567738e-05, 'epoch': 0.55}\n",
      "{'loss': 1.4403, 'grad_norm': 6.502320289611816, 'learning_rate': 2.3369870713884205e-05, 'epoch': 0.55}\n",
      "{'loss': 1.6328, 'grad_norm': 16.34406852722168, 'learning_rate': 2.3334738617200673e-05, 'epoch': 0.55}\n",
      "{'loss': 1.2773, 'grad_norm': 13.955666542053223, 'learning_rate': 2.3299606520517145e-05, 'epoch': 0.55}\n",
      "{'loss': 1.5415, 'grad_norm': 11.431514739990234, 'learning_rate': 2.3264474423833616e-05, 'epoch': 0.55}\n",
      "{'loss': 1.3329, 'grad_norm': 5.746546268463135, 'learning_rate': 2.3229342327150087e-05, 'epoch': 0.55}\n",
      "{'loss': 1.7097, 'grad_norm': 9.225852966308594, 'learning_rate': 2.3194210230466555e-05, 'epoch': 0.55}\n",
      "{'loss': 1.5012, 'grad_norm': 16.975173950195312, 'learning_rate': 2.3159078133783023e-05, 'epoch': 0.55}\n",
      "{'loss': 1.5002, 'grad_norm': 10.41538143157959, 'learning_rate': 2.3123946037099494e-05, 'epoch': 0.55}\n",
      "{'loss': 1.9505, 'grad_norm': 8.947426795959473, 'learning_rate': 2.3088813940415965e-05, 'epoch': 0.55}\n",
      "{'loss': 1.4485, 'grad_norm': 11.15148639678955, 'learning_rate': 2.3053681843732437e-05, 'epoch': 0.55}\n",
      "{'loss': 1.4802, 'grad_norm': 12.233952522277832, 'learning_rate': 2.3018549747048904e-05, 'epoch': 0.56}\n",
      "{'loss': 1.3941, 'grad_norm': 10.649165153503418, 'learning_rate': 2.2983417650365376e-05, 'epoch': 0.56}\n",
      "{'loss': 1.4501, 'grad_norm': 11.273295402526855, 'learning_rate': 2.2948285553681843e-05, 'epoch': 0.56}\n",
      "{'loss': 1.4375, 'grad_norm': 9.183680534362793, 'learning_rate': 2.2913153456998315e-05, 'epoch': 0.56}\n",
      "{'loss': 1.7058, 'grad_norm': 15.475503921508789, 'learning_rate': 2.2878021360314786e-05, 'epoch': 0.56}\n",
      "{'loss': 1.2944, 'grad_norm': 4.261962413787842, 'learning_rate': 2.2842889263631254e-05, 'epoch': 0.56}\n",
      "{'loss': 1.6695, 'grad_norm': 10.027118682861328, 'learning_rate': 2.2807757166947725e-05, 'epoch': 0.56}\n",
      "{'loss': 1.5549, 'grad_norm': 24.374631881713867, 'learning_rate': 2.2772625070264196e-05, 'epoch': 0.56}\n",
      "{'loss': 1.4739, 'grad_norm': 9.866065979003906, 'learning_rate': 2.2737492973580664e-05, 'epoch': 0.56}\n",
      "{'loss': 1.6538, 'grad_norm': 12.267704010009766, 'learning_rate': 2.2702360876897132e-05, 'epoch': 0.56}\n",
      "{'loss': 1.6042, 'grad_norm': 16.68114471435547, 'learning_rate': 2.2667228780213603e-05, 'epoch': 0.56}\n",
      "{'loss': 1.4317, 'grad_norm': 7.355149745941162, 'learning_rate': 2.2632096683530075e-05, 'epoch': 0.56}\n",
      "{'loss': 1.6495, 'grad_norm': 10.347180366516113, 'learning_rate': 2.2596964586846546e-05, 'epoch': 0.56}\n",
      "{'loss': 1.4512, 'grad_norm': 6.754605770111084, 'learning_rate': 2.2561832490163014e-05, 'epoch': 0.56}\n",
      "{'loss': 1.6427, 'grad_norm': 10.775924682617188, 'learning_rate': 2.252670039347948e-05, 'epoch': 0.56}\n",
      "{'loss': 1.6704, 'grad_norm': 10.790121078491211, 'learning_rate': 2.2491568296795953e-05, 'epoch': 0.57}\n",
      "{'loss': 1.724, 'grad_norm': 16.58931541442871, 'learning_rate': 2.2456436200112424e-05, 'epoch': 0.57}\n",
      "{'loss': 1.5643, 'grad_norm': 11.692792892456055, 'learning_rate': 2.2421304103428895e-05, 'epoch': 0.57}\n",
      "{'loss': 1.6047, 'grad_norm': 10.610788345336914, 'learning_rate': 2.2386172006745363e-05, 'epoch': 0.57}\n",
      "{'loss': 1.3863, 'grad_norm': 14.244356155395508, 'learning_rate': 2.2351039910061834e-05, 'epoch': 0.57}\n",
      "{'loss': 1.5803, 'grad_norm': 8.906801223754883, 'learning_rate': 2.2315907813378302e-05, 'epoch': 0.57}\n",
      "{'loss': 1.7347, 'grad_norm': 8.914632797241211, 'learning_rate': 2.2280775716694773e-05, 'epoch': 0.57}\n",
      "{'loss': 1.5851, 'grad_norm': 12.471110343933105, 'learning_rate': 2.2245643620011245e-05, 'epoch': 0.57}\n",
      "{'loss': 1.6052, 'grad_norm': 8.894133567810059, 'learning_rate': 2.2210511523327713e-05, 'epoch': 0.57}\n",
      "{'loss': 1.3288, 'grad_norm': 10.747086524963379, 'learning_rate': 2.2175379426644184e-05, 'epoch': 0.57}\n",
      "{'loss': 1.399, 'grad_norm': 10.567036628723145, 'learning_rate': 2.214024732996065e-05, 'epoch': 0.57}\n",
      "{'loss': 1.4765, 'grad_norm': 12.936142921447754, 'learning_rate': 2.2105115233277123e-05, 'epoch': 0.57}\n",
      "{'loss': 1.2879, 'grad_norm': 15.03048324584961, 'learning_rate': 2.206998313659359e-05, 'epoch': 0.57}\n",
      "{'loss': 1.54, 'grad_norm': 7.0086774826049805, 'learning_rate': 2.2034851039910062e-05, 'epoch': 0.57}\n",
      "{'loss': 1.5899, 'grad_norm': 7.737892150878906, 'learning_rate': 2.1999718943226533e-05, 'epoch': 0.57}\n",
      "{'loss': 1.5325, 'grad_norm': 7.0642218589782715, 'learning_rate': 2.1964586846543005e-05, 'epoch': 0.58}\n",
      "{'loss': 1.4825, 'grad_norm': 14.257227897644043, 'learning_rate': 2.1929454749859472e-05, 'epoch': 0.58}\n",
      "{'loss': 1.4175, 'grad_norm': 6.254822731018066, 'learning_rate': 2.189432265317594e-05, 'epoch': 0.58}\n"
     ]
    },
    {
     "data": {
      "application/vnd.jupyter.widget-view+json": {
       "model_id": "995a0c37fc474f2591e49060155aa99f",
       "version_major": 2,
       "version_minor": 0
      },
      "text/plain": [
       "  0%|          | 0/818 [00:00<?, ?it/s]"
      ]
     },
     "metadata": {},
     "output_type": "display_data"
    },
    {
     "name": "stdout",
     "output_type": "stream",
     "text": [
      "{'eval_loss': 1.3896371126174927, 'eval_runtime': 15.8417, 'eval_samples_per_second': 51.636, 'eval_steps_per_second': 51.636, 'epoch': 0.58}\n",
      "{'loss': 1.6686, 'grad_norm': 14.586851119995117, 'learning_rate': 2.185919055649241e-05, 'epoch': 0.58}\n",
      "{'loss': 1.637, 'grad_norm': 5.887360095977783, 'learning_rate': 2.1824058459808883e-05, 'epoch': 0.58}\n",
      "{'loss': 1.5333, 'grad_norm': 9.759623527526855, 'learning_rate': 2.1788926363125354e-05, 'epoch': 0.58}\n",
      "{'loss': 1.398, 'grad_norm': 11.893911361694336, 'learning_rate': 2.1753794266441822e-05, 'epoch': 0.58}\n",
      "{'loss': 1.3564, 'grad_norm': 7.299055099487305, 'learning_rate': 2.1718662169758293e-05, 'epoch': 0.58}\n",
      "{'loss': 1.3421, 'grad_norm': 6.03339147567749, 'learning_rate': 2.168353007307476e-05, 'epoch': 0.58}\n",
      "{'loss': 1.3519, 'grad_norm': 6.179615020751953, 'learning_rate': 2.1648397976391232e-05, 'epoch': 0.58}\n",
      "{'loss': 1.4261, 'grad_norm': 13.28081226348877, 'learning_rate': 2.1613265879707703e-05, 'epoch': 0.58}\n",
      "{'loss': 1.6164, 'grad_norm': 19.52134895324707, 'learning_rate': 2.157813378302417e-05, 'epoch': 0.58}\n",
      "{'loss': 1.2812, 'grad_norm': 15.279934883117676, 'learning_rate': 2.1543001686340643e-05, 'epoch': 0.58}\n",
      "{'loss': 1.6535, 'grad_norm': 8.418262481689453, 'learning_rate': 2.150786958965711e-05, 'epoch': 0.58}\n",
      "{'loss': 1.3666, 'grad_norm': 9.863606452941895, 'learning_rate': 2.147273749297358e-05, 'epoch': 0.59}\n",
      "{'loss': 1.2739, 'grad_norm': 9.691686630249023, 'learning_rate': 2.143760539629005e-05, 'epoch': 0.59}\n",
      "{'loss': 1.5645, 'grad_norm': 7.654869079589844, 'learning_rate': 2.140247329960652e-05, 'epoch': 0.59}\n",
      "{'loss': 1.5554, 'grad_norm': 4.292812824249268, 'learning_rate': 2.1367341202922992e-05, 'epoch': 0.59}\n",
      "{'loss': 1.6082, 'grad_norm': 12.422636985778809, 'learning_rate': 2.1332209106239463e-05, 'epoch': 0.59}\n",
      "{'loss': 1.3588, 'grad_norm': 18.836090087890625, 'learning_rate': 2.129707700955593e-05, 'epoch': 0.59}\n",
      "{'loss': 1.7169, 'grad_norm': 6.1126484870910645, 'learning_rate': 2.12619449128724e-05, 'epoch': 0.59}\n",
      "{'loss': 1.8274, 'grad_norm': 14.604902267456055, 'learning_rate': 2.122681281618887e-05, 'epoch': 0.59}\n",
      "{'loss': 1.5025, 'grad_norm': 19.57528305053711, 'learning_rate': 2.119168071950534e-05, 'epoch': 0.59}\n",
      "{'loss': 1.6376, 'grad_norm': 8.03466510772705, 'learning_rate': 2.1156548622821813e-05, 'epoch': 0.59}\n",
      "{'loss': 1.8472, 'grad_norm': 14.848550796508789, 'learning_rate': 2.112141652613828e-05, 'epoch': 0.59}\n",
      "{'loss': 1.4878, 'grad_norm': 10.465959548950195, 'learning_rate': 2.108628442945475e-05, 'epoch': 0.59}\n",
      "{'loss': 1.4434, 'grad_norm': 6.235969543457031, 'learning_rate': 2.105115233277122e-05, 'epoch': 0.59}\n",
      "{'loss': 1.5664, 'grad_norm': 13.513092041015625, 'learning_rate': 2.101602023608769e-05, 'epoch': 0.59}\n",
      "{'loss': 1.4079, 'grad_norm': 16.792644500732422, 'learning_rate': 2.0980888139404162e-05, 'epoch': 0.59}\n",
      "{'loss': 1.5318, 'grad_norm': 14.504847526550293, 'learning_rate': 2.094575604272063e-05, 'epoch': 0.6}\n",
      "{'loss': 1.7301, 'grad_norm': 6.278143882751465, 'learning_rate': 2.09106239460371e-05, 'epoch': 0.6}\n",
      "{'loss': 1.6511, 'grad_norm': 7.9406819343566895, 'learning_rate': 2.087549184935357e-05, 'epoch': 0.6}\n",
      "{'loss': 1.1688, 'grad_norm': 13.418313026428223, 'learning_rate': 2.084035975267004e-05, 'epoch': 0.6}\n",
      "{'loss': 1.5096, 'grad_norm': 13.328049659729004, 'learning_rate': 2.0805227655986508e-05, 'epoch': 0.6}\n",
      "{'loss': 1.2643, 'grad_norm': 18.314512252807617, 'learning_rate': 2.077009555930298e-05, 'epoch': 0.6}\n",
      "{'loss': 1.5966, 'grad_norm': 6.716622352600098, 'learning_rate': 2.073496346261945e-05, 'epoch': 0.6}\n",
      "{'loss': 1.5067, 'grad_norm': 24.751859664916992, 'learning_rate': 2.0699831365935922e-05, 'epoch': 0.6}\n",
      "{'loss': 1.5917, 'grad_norm': 11.993173599243164, 'learning_rate': 2.066469926925239e-05, 'epoch': 0.6}\n",
      "{'loss': 1.478, 'grad_norm': 12.17066764831543, 'learning_rate': 2.0629567172568858e-05, 'epoch': 0.6}\n",
      "{'loss': 1.7903, 'grad_norm': 9.104920387268066, 'learning_rate': 2.059443507588533e-05, 'epoch': 0.6}\n",
      "{'loss': 1.8975, 'grad_norm': 10.387324333190918, 'learning_rate': 2.05593029792018e-05, 'epoch': 0.6}\n",
      "{'loss': 1.264, 'grad_norm': 11.105887413024902, 'learning_rate': 2.052417088251827e-05, 'epoch': 0.6}\n",
      "{'loss': 1.9331, 'grad_norm': 7.978497505187988, 'learning_rate': 2.048903878583474e-05, 'epoch': 0.6}\n",
      "{'loss': 1.5707, 'grad_norm': 11.865087509155273, 'learning_rate': 2.0453906689151207e-05, 'epoch': 0.6}\n",
      "{'loss': 1.4624, 'grad_norm': 8.062851905822754, 'learning_rate': 2.041877459246768e-05, 'epoch': 0.61}\n",
      "{'loss': 1.4217, 'grad_norm': 7.8403730392456055, 'learning_rate': 2.038364249578415e-05, 'epoch': 0.61}\n",
      "{'loss': 1.4619, 'grad_norm': 9.141550064086914, 'learning_rate': 2.034851039910062e-05, 'epoch': 0.61}\n",
      "{'loss': 2.027, 'grad_norm': 12.038358688354492, 'learning_rate': 2.031337830241709e-05, 'epoch': 0.61}\n",
      "{'loss': 1.8263, 'grad_norm': 9.815441131591797, 'learning_rate': 2.027824620573356e-05, 'epoch': 0.61}\n",
      "{'loss': 1.6581, 'grad_norm': 16.4271183013916, 'learning_rate': 2.0243114109050028e-05, 'epoch': 0.61}\n",
      "{'loss': 1.7691, 'grad_norm': 6.543642044067383, 'learning_rate': 2.02079820123665e-05, 'epoch': 0.61}\n",
      "{'loss': 1.586, 'grad_norm': 10.381855010986328, 'learning_rate': 2.0172849915682967e-05, 'epoch': 0.61}\n",
      "{'loss': 1.5532, 'grad_norm': 9.589333534240723, 'learning_rate': 2.0137717818999438e-05, 'epoch': 0.61}\n"
     ]
    },
    {
     "data": {
      "application/vnd.jupyter.widget-view+json": {
       "model_id": "092f34ec0c8348bfa6937197762b11ef",
       "version_major": 2,
       "version_minor": 0
      },
      "text/plain": [
       "  0%|          | 0/818 [00:00<?, ?it/s]"
      ]
     },
     "metadata": {},
     "output_type": "display_data"
    },
    {
     "name": "stdout",
     "output_type": "stream",
     "text": [
      "{'eval_loss': 1.3832392692565918, 'eval_runtime': 15.1781, 'eval_samples_per_second': 53.893, 'eval_steps_per_second': 53.893, 'epoch': 0.61}\n",
      "{'loss': 1.5004, 'grad_norm': 9.523614883422852, 'learning_rate': 2.010258572231591e-05, 'epoch': 0.61}\n",
      "{'loss': 1.2461, 'grad_norm': 7.71245813369751, 'learning_rate': 2.006745362563238e-05, 'epoch': 0.61}\n",
      "{'loss': 1.6914, 'grad_norm': 7.660722255706787, 'learning_rate': 2.003232152894885e-05, 'epoch': 0.61}\n",
      "{'loss': 1.3514, 'grad_norm': 22.902362823486328, 'learning_rate': 1.9997189432265316e-05, 'epoch': 0.61}\n",
      "{'loss': 1.7477, 'grad_norm': 17.01056480407715, 'learning_rate': 1.9962057335581788e-05, 'epoch': 0.61}\n",
      "{'loss': 1.5219, 'grad_norm': 7.605755805969238, 'learning_rate': 1.992692523889826e-05, 'epoch': 0.61}\n",
      "{'loss': 1.7382, 'grad_norm': 5.770416736602783, 'learning_rate': 1.989179314221473e-05, 'epoch': 0.62}\n",
      "{'loss': 1.641, 'grad_norm': 8.951714515686035, 'learning_rate': 1.9856661045531198e-05, 'epoch': 0.62}\n",
      "{'loss': 1.8329, 'grad_norm': 15.086959838867188, 'learning_rate': 1.9821528948847666e-05, 'epoch': 0.62}\n",
      "{'loss': 1.7809, 'grad_norm': 7.709523677825928, 'learning_rate': 1.9786396852164137e-05, 'epoch': 0.62}\n",
      "{'loss': 1.3545, 'grad_norm': 15.04321575164795, 'learning_rate': 1.975126475548061e-05, 'epoch': 0.62}\n",
      "{'loss': 1.5628, 'grad_norm': 13.786652565002441, 'learning_rate': 1.971613265879708e-05, 'epoch': 0.62}\n",
      "{'loss': 1.7136, 'grad_norm': 10.859456062316895, 'learning_rate': 1.9681000562113548e-05, 'epoch': 0.62}\n",
      "{'loss': 1.4007, 'grad_norm': 12.607050895690918, 'learning_rate': 1.964586846543002e-05, 'epoch': 0.62}\n",
      "{'loss': 1.571, 'grad_norm': 9.830793380737305, 'learning_rate': 1.9610736368746487e-05, 'epoch': 0.62}\n",
      "{'loss': 2.0046, 'grad_norm': 6.498401641845703, 'learning_rate': 1.9575604272062958e-05, 'epoch': 0.62}\n",
      "{'loss': 1.5922, 'grad_norm': 14.759034156799316, 'learning_rate': 1.9540472175379426e-05, 'epoch': 0.62}\n",
      "{'loss': 1.8351, 'grad_norm': 6.503383636474609, 'learning_rate': 1.9505340078695897e-05, 'epoch': 0.62}\n",
      "{'loss': 1.376, 'grad_norm': 9.6805419921875, 'learning_rate': 1.9470207982012368e-05, 'epoch': 0.62}\n",
      "{'loss': 1.5932, 'grad_norm': 9.621258735656738, 'learning_rate': 1.943507588532884e-05, 'epoch': 0.62}\n",
      "{'loss': 1.5555, 'grad_norm': 4.830554008483887, 'learning_rate': 1.9399943788645307e-05, 'epoch': 0.63}\n",
      "{'loss': 1.3099, 'grad_norm': 17.632219314575195, 'learning_rate': 1.9364811691961775e-05, 'epoch': 0.63}\n",
      "{'loss': 1.4546, 'grad_norm': 6.328767776489258, 'learning_rate': 1.9329679595278246e-05, 'epoch': 0.63}\n",
      "{'loss': 1.4807, 'grad_norm': 5.931604385375977, 'learning_rate': 1.9294547498594718e-05, 'epoch': 0.63}\n",
      "{'loss': 1.2081, 'grad_norm': 4.7172980308532715, 'learning_rate': 1.925941540191119e-05, 'epoch': 0.63}\n",
      "{'loss': 1.3969, 'grad_norm': 7.807821273803711, 'learning_rate': 1.9224283305227657e-05, 'epoch': 0.63}\n",
      "{'loss': 1.4662, 'grad_norm': 13.87661075592041, 'learning_rate': 1.9189151208544125e-05, 'epoch': 0.63}\n",
      "{'loss': 1.4775, 'grad_norm': 11.141758918762207, 'learning_rate': 1.9154019111860596e-05, 'epoch': 0.63}\n",
      "{'loss': 1.5818, 'grad_norm': 11.343395233154297, 'learning_rate': 1.9118887015177067e-05, 'epoch': 0.63}\n",
      "{'loss': 1.8771, 'grad_norm': 21.88442039489746, 'learning_rate': 1.908375491849354e-05, 'epoch': 0.63}\n",
      "{'loss': 1.4293, 'grad_norm': 10.113276481628418, 'learning_rate': 1.9048622821810006e-05, 'epoch': 0.63}\n",
      "{'loss': 1.3167, 'grad_norm': 4.850888729095459, 'learning_rate': 1.9013490725126478e-05, 'epoch': 0.63}\n",
      "{'loss': 1.1945, 'grad_norm': 4.851083278656006, 'learning_rate': 1.8978358628442945e-05, 'epoch': 0.63}\n",
      "{'loss': 1.706, 'grad_norm': 7.925174236297607, 'learning_rate': 1.8943226531759417e-05, 'epoch': 0.63}\n",
      "{'loss': 1.5008, 'grad_norm': 7.095316410064697, 'learning_rate': 1.8908094435075885e-05, 'epoch': 0.63}\n",
      "{'loss': 1.2654, 'grad_norm': 12.912032127380371, 'learning_rate': 1.8872962338392356e-05, 'epoch': 0.64}\n",
      "{'loss': 1.1128, 'grad_norm': 8.3922700881958, 'learning_rate': 1.8837830241708827e-05, 'epoch': 0.64}\n",
      "{'loss': 1.0578, 'grad_norm': 10.656951904296875, 'learning_rate': 1.8802698145025295e-05, 'epoch': 0.64}\n",
      "{'loss': 1.5828, 'grad_norm': 12.463775634765625, 'learning_rate': 1.8767566048341766e-05, 'epoch': 0.64}\n",
      "{'loss': 1.4637, 'grad_norm': 12.571345329284668, 'learning_rate': 1.8732433951658234e-05, 'epoch': 0.64}\n",
      "{'loss': 1.5631, 'grad_norm': 13.490716934204102, 'learning_rate': 1.8697301854974705e-05, 'epoch': 0.64}\n",
      "{'loss': 1.667, 'grad_norm': 10.70033073425293, 'learning_rate': 1.8662169758291176e-05, 'epoch': 0.64}\n",
      "{'loss': 1.5599, 'grad_norm': 8.376081466674805, 'learning_rate': 1.8627037661607648e-05, 'epoch': 0.64}\n",
      "{'loss': 1.2906, 'grad_norm': 18.71967887878418, 'learning_rate': 1.8591905564924116e-05, 'epoch': 0.64}\n",
      "{'loss': 1.3933, 'grad_norm': 7.224227428436279, 'learning_rate': 1.8556773468240583e-05, 'epoch': 0.64}\n",
      "{'loss': 1.7436, 'grad_norm': 8.473564147949219, 'learning_rate': 1.8521641371557055e-05, 'epoch': 0.64}\n",
      "{'loss': 1.5758, 'grad_norm': 7.911171913146973, 'learning_rate': 1.8486509274873526e-05, 'epoch': 0.64}\n",
      "{'loss': 1.5336, 'grad_norm': 13.413335800170898, 'learning_rate': 1.8451377178189997e-05, 'epoch': 0.64}\n",
      "{'loss': 2.0446, 'grad_norm': 15.937199592590332, 'learning_rate': 1.8416245081506465e-05, 'epoch': 0.64}\n",
      "{'loss': 1.7512, 'grad_norm': 6.103623390197754, 'learning_rate': 1.8381112984822936e-05, 'epoch': 0.64}\n"
     ]
    },
    {
     "data": {
      "application/vnd.jupyter.widget-view+json": {
       "model_id": "dad9a13360c64980bb797576a4199b3d",
       "version_major": 2,
       "version_minor": 0
      },
      "text/plain": [
       "  0%|          | 0/818 [00:00<?, ?it/s]"
      ]
     },
     "metadata": {},
     "output_type": "display_data"
    },
    {
     "name": "stdout",
     "output_type": "stream",
     "text": [
      "{'eval_loss': 1.380301833152771, 'eval_runtime': 15.1678, 'eval_samples_per_second': 53.93, 'eval_steps_per_second': 53.93, 'epoch': 0.64}\n",
      "{'loss': 1.0, 'grad_norm': 12.246109008789062, 'learning_rate': 1.8345980888139404e-05, 'epoch': 0.65}\n",
      "{'loss': 1.5037, 'grad_norm': 6.652963161468506, 'learning_rate': 1.8310848791455875e-05, 'epoch': 0.65}\n",
      "{'loss': 1.6002, 'grad_norm': 7.800164222717285, 'learning_rate': 1.8275716694772347e-05, 'epoch': 0.65}\n",
      "{'loss': 1.6643, 'grad_norm': 9.64211368560791, 'learning_rate': 1.8240584598088815e-05, 'epoch': 0.65}\n",
      "{'loss': 1.5285, 'grad_norm': 5.527931213378906, 'learning_rate': 1.8205452501405286e-05, 'epoch': 0.65}\n",
      "{'loss': 1.5487, 'grad_norm': 6.533152103424072, 'learning_rate': 1.8170320404721754e-05, 'epoch': 0.65}\n",
      "{'loss': 1.294, 'grad_norm': 6.314151287078857, 'learning_rate': 1.8135188308038225e-05, 'epoch': 0.65}\n",
      "{'loss': 1.9409, 'grad_norm': 8.290525436401367, 'learning_rate': 1.8100056211354693e-05, 'epoch': 0.65}\n",
      "{'loss': 1.5698, 'grad_norm': 33.6759033203125, 'learning_rate': 1.8064924114671164e-05, 'epoch': 0.65}\n",
      "{'loss': 1.4845, 'grad_norm': 9.875161170959473, 'learning_rate': 1.8029792017987635e-05, 'epoch': 0.65}\n",
      "{'loss': 1.6316, 'grad_norm': 10.396303176879883, 'learning_rate': 1.7994659921304106e-05, 'epoch': 0.65}\n",
      "{'loss': 1.3447, 'grad_norm': 7.937373161315918, 'learning_rate': 1.7959527824620574e-05, 'epoch': 0.65}\n",
      "{'loss': 1.5492, 'grad_norm': 7.522249698638916, 'learning_rate': 1.7924395727937042e-05, 'epoch': 0.65}\n",
      "{'loss': 1.604, 'grad_norm': 3.8565309047698975, 'learning_rate': 1.7889263631253513e-05, 'epoch': 0.65}\n",
      "{'loss': 1.2735, 'grad_norm': 12.112258911132812, 'learning_rate': 1.7854131534569985e-05, 'epoch': 0.66}\n",
      "{'loss': 1.2255, 'grad_norm': 11.083184242248535, 'learning_rate': 1.7818999437886456e-05, 'epoch': 0.66}\n",
      "{'loss': 1.6984, 'grad_norm': 22.669279098510742, 'learning_rate': 1.7783867341202924e-05, 'epoch': 0.66}\n",
      "{'loss': 1.2061, 'grad_norm': 11.97472858428955, 'learning_rate': 1.774873524451939e-05, 'epoch': 0.66}\n",
      "{'loss': 1.2799, 'grad_norm': 24.634239196777344, 'learning_rate': 1.7713603147835863e-05, 'epoch': 0.66}\n",
      "{'loss': 1.381, 'grad_norm': 9.564129829406738, 'learning_rate': 1.7678471051152334e-05, 'epoch': 0.66}\n",
      "{'loss': 1.3102, 'grad_norm': 6.115206718444824, 'learning_rate': 1.7643338954468805e-05, 'epoch': 0.66}\n",
      "{'loss': 1.4989, 'grad_norm': 8.802613258361816, 'learning_rate': 1.7608206857785273e-05, 'epoch': 0.66}\n",
      "{'loss': 1.2866, 'grad_norm': 10.263067245483398, 'learning_rate': 1.7573074761101745e-05, 'epoch': 0.66}\n",
      "{'loss': 1.5919, 'grad_norm': 25.86771011352539, 'learning_rate': 1.7537942664418212e-05, 'epoch': 0.66}\n",
      "{'loss': 1.6433, 'grad_norm': 10.971234321594238, 'learning_rate': 1.7502810567734684e-05, 'epoch': 0.66}\n",
      "{'loss': 1.6516, 'grad_norm': 7.90808629989624, 'learning_rate': 1.746767847105115e-05, 'epoch': 0.66}\n",
      "{'loss': 1.459, 'grad_norm': 4.946053504943848, 'learning_rate': 1.7432546374367623e-05, 'epoch': 0.66}\n",
      "{'loss': 1.7908, 'grad_norm': 9.538252830505371, 'learning_rate': 1.7397414277684094e-05, 'epoch': 0.66}\n",
      "{'loss': 1.4871, 'grad_norm': 18.9853572845459, 'learning_rate': 1.7362282181000565e-05, 'epoch': 0.66}\n",
      "{'loss': 1.8672, 'grad_norm': 20.33271026611328, 'learning_rate': 1.7327150084317033e-05, 'epoch': 0.67}\n",
      "{'loss': 1.7922, 'grad_norm': 17.123992919921875, 'learning_rate': 1.72920179876335e-05, 'epoch': 0.67}\n",
      "{'loss': 1.8022, 'grad_norm': 7.065880298614502, 'learning_rate': 1.7256885890949972e-05, 'epoch': 0.67}\n",
      "{'loss': 1.8164, 'grad_norm': 16.374914169311523, 'learning_rate': 1.7221753794266443e-05, 'epoch': 0.67}\n",
      "{'loss': 1.6763, 'grad_norm': 20.235218048095703, 'learning_rate': 1.7186621697582915e-05, 'epoch': 0.67}\n",
      "{'loss': 1.2553, 'grad_norm': 12.246281623840332, 'learning_rate': 1.7151489600899383e-05, 'epoch': 0.67}\n",
      "{'loss': 1.4586, 'grad_norm': 8.091118812561035, 'learning_rate': 1.711635750421585e-05, 'epoch': 0.67}\n",
      "{'loss': 1.4212, 'grad_norm': 9.77101993560791, 'learning_rate': 1.708122540753232e-05, 'epoch': 0.67}\n",
      "{'loss': 1.2204, 'grad_norm': 13.316018104553223, 'learning_rate': 1.7046093310848793e-05, 'epoch': 0.67}\n",
      "{'loss': 1.5829, 'grad_norm': 8.575804710388184, 'learning_rate': 1.7010961214165264e-05, 'epoch': 0.67}\n",
      "{'loss': 1.5966, 'grad_norm': 25.289857864379883, 'learning_rate': 1.6975829117481732e-05, 'epoch': 0.67}\n",
      "{'loss': 1.4237, 'grad_norm': 8.668883323669434, 'learning_rate': 1.6940697020798203e-05, 'epoch': 0.67}\n",
      "{'loss': 1.1576, 'grad_norm': 12.682530403137207, 'learning_rate': 1.690556492411467e-05, 'epoch': 0.67}\n",
      "{'loss': 1.6077, 'grad_norm': 10.332061767578125, 'learning_rate': 1.6870432827431142e-05, 'epoch': 0.67}\n",
      "{'loss': 1.495, 'grad_norm': 8.521967887878418, 'learning_rate': 1.683530073074761e-05, 'epoch': 0.67}\n",
      "{'loss': 1.4332, 'grad_norm': 10.594449043273926, 'learning_rate': 1.680016863406408e-05, 'epoch': 0.68}\n",
      "{'loss': 1.5381, 'grad_norm': 8.600104331970215, 'learning_rate': 1.6765036537380553e-05, 'epoch': 0.68}\n",
      "{'loss': 1.2873, 'grad_norm': 12.861310958862305, 'learning_rate': 1.6729904440697024e-05, 'epoch': 0.68}\n",
      "{'loss': 1.8798, 'grad_norm': 13.469943046569824, 'learning_rate': 1.6694772344013492e-05, 'epoch': 0.68}\n",
      "{'loss': 1.7877, 'grad_norm': 10.640995025634766, 'learning_rate': 1.665964024732996e-05, 'epoch': 0.68}\n",
      "{'loss': 1.2266, 'grad_norm': 15.004541397094727, 'learning_rate': 1.662450815064643e-05, 'epoch': 0.68}\n"
     ]
    },
    {
     "data": {
      "application/vnd.jupyter.widget-view+json": {
       "model_id": "e962d742c6c94ac9b8e449b8b923504f",
       "version_major": 2,
       "version_minor": 0
      },
      "text/plain": [
       "  0%|          | 0/818 [00:00<?, ?it/s]"
      ]
     },
     "metadata": {},
     "output_type": "display_data"
    },
    {
     "name": "stdout",
     "output_type": "stream",
     "text": [
      "{'eval_loss': 1.3841122388839722, 'eval_runtime': 15.4768, 'eval_samples_per_second': 52.853, 'eval_steps_per_second': 52.853, 'epoch': 0.68}\n",
      "{'loss': 1.7244, 'grad_norm': 9.798770904541016, 'learning_rate': 1.6589376053962902e-05, 'epoch': 0.68}\n",
      "{'loss': 1.5023, 'grad_norm': 22.2455997467041, 'learning_rate': 1.6554243957279373e-05, 'epoch': 0.68}\n",
      "{'loss': 1.5113, 'grad_norm': 9.485636711120605, 'learning_rate': 1.651911186059584e-05, 'epoch': 0.68}\n",
      "{'loss': 1.6162, 'grad_norm': 8.35495376586914, 'learning_rate': 1.648397976391231e-05, 'epoch': 0.68}\n",
      "{'loss': 1.7951, 'grad_norm': 21.871557235717773, 'learning_rate': 1.644884766722878e-05, 'epoch': 0.68}\n",
      "{'loss': 1.4455, 'grad_norm': 7.533033847808838, 'learning_rate': 1.641371557054525e-05, 'epoch': 0.68}\n",
      "{'loss': 1.4413, 'grad_norm': 6.312171936035156, 'learning_rate': 1.6378583473861723e-05, 'epoch': 0.68}\n",
      "{'loss': 1.3749, 'grad_norm': 6.247389316558838, 'learning_rate': 1.634345137717819e-05, 'epoch': 0.68}\n",
      "{'loss': 1.4959, 'grad_norm': 6.3541340827941895, 'learning_rate': 1.6308319280494662e-05, 'epoch': 0.68}\n",
      "{'loss': 1.4052, 'grad_norm': 6.463438987731934, 'learning_rate': 1.627318718381113e-05, 'epoch': 0.69}\n",
      "{'loss': 1.7129, 'grad_norm': 26.11128044128418, 'learning_rate': 1.62380550871276e-05, 'epoch': 0.69}\n",
      "{'loss': 1.3058, 'grad_norm': 77.54798126220703, 'learning_rate': 1.620292299044407e-05, 'epoch': 0.69}\n",
      "{'loss': 2.0152, 'grad_norm': 10.230712890625, 'learning_rate': 1.616779089376054e-05, 'epoch': 0.69}\n",
      "{'loss': 1.4827, 'grad_norm': 11.009478569030762, 'learning_rate': 1.613265879707701e-05, 'epoch': 0.69}\n",
      "{'loss': 1.8943, 'grad_norm': 7.574460983276367, 'learning_rate': 1.609752670039348e-05, 'epoch': 0.69}\n",
      "{'loss': 1.4332, 'grad_norm': 47.594085693359375, 'learning_rate': 1.606239460370995e-05, 'epoch': 0.69}\n",
      "{'loss': 1.4831, 'grad_norm': 8.082139015197754, 'learning_rate': 1.602726250702642e-05, 'epoch': 0.69}\n",
      "{'loss': 1.3815, 'grad_norm': 20.670461654663086, 'learning_rate': 1.599213041034289e-05, 'epoch': 0.69}\n",
      "{'loss': 1.5856, 'grad_norm': 16.485204696655273, 'learning_rate': 1.595699831365936e-05, 'epoch': 0.69}\n",
      "{'loss': 1.5418, 'grad_norm': 11.485048294067383, 'learning_rate': 1.5921866216975832e-05, 'epoch': 0.69}\n",
      "{'loss': 1.4626, 'grad_norm': 7.549813747406006, 'learning_rate': 1.58867341202923e-05, 'epoch': 0.69}\n",
      "{'loss': 1.7224, 'grad_norm': 8.784070014953613, 'learning_rate': 1.5851602023608768e-05, 'epoch': 0.69}\n",
      "{'loss': 1.5801, 'grad_norm': 9.324273109436035, 'learning_rate': 1.581646992692524e-05, 'epoch': 0.69}\n",
      "{'loss': 1.4405, 'grad_norm': 15.094130516052246, 'learning_rate': 1.578133783024171e-05, 'epoch': 0.7}\n",
      "{'loss': 1.6213, 'grad_norm': 6.104762077331543, 'learning_rate': 1.574620573355818e-05, 'epoch': 0.7}\n",
      "{'loss': 1.5663, 'grad_norm': 9.579757690429688, 'learning_rate': 1.571107363687465e-05, 'epoch': 0.7}\n",
      "{'loss': 1.6275, 'grad_norm': 7.3975396156311035, 'learning_rate': 1.567594154019112e-05, 'epoch': 0.7}\n",
      "{'loss': 1.2874, 'grad_norm': 8.399284362792969, 'learning_rate': 1.564080944350759e-05, 'epoch': 0.7}\n",
      "{'loss': 1.5088, 'grad_norm': 13.096388816833496, 'learning_rate': 1.560567734682406e-05, 'epoch': 0.7}\n",
      "{'loss': 1.3454, 'grad_norm': 12.695479393005371, 'learning_rate': 1.5570545250140528e-05, 'epoch': 0.7}\n",
      "{'loss': 1.5895, 'grad_norm': 12.777700424194336, 'learning_rate': 1.5535413153457e-05, 'epoch': 0.7}\n",
      "{'loss': 1.3198, 'grad_norm': 3.1096901893615723, 'learning_rate': 1.550028105677347e-05, 'epoch': 0.7}\n",
      "{'loss': 1.1754, 'grad_norm': 7.4000115394592285, 'learning_rate': 1.5465148960089938e-05, 'epoch': 0.7}\n",
      "{'loss': 1.1622, 'grad_norm': 12.132805824279785, 'learning_rate': 1.543001686340641e-05, 'epoch': 0.7}\n",
      "{'loss': 1.4843, 'grad_norm': 32.99500274658203, 'learning_rate': 1.5394884766722877e-05, 'epoch': 0.7}\n",
      "{'loss': 1.2425, 'grad_norm': 12.81945514678955, 'learning_rate': 1.535975267003935e-05, 'epoch': 0.7}\n",
      "{'loss': 1.2309, 'grad_norm': 6.14855432510376, 'learning_rate': 1.532462057335582e-05, 'epoch': 0.7}\n",
      "{'loss': 1.4745, 'grad_norm': 5.793010711669922, 'learning_rate': 1.528948847667229e-05, 'epoch': 0.7}\n",
      "{'loss': 1.3607, 'grad_norm': 12.634547233581543, 'learning_rate': 1.5254356379988757e-05, 'epoch': 0.71}\n",
      "{'loss': 1.6671, 'grad_norm': 9.443072319030762, 'learning_rate': 1.5219224283305228e-05, 'epoch': 0.71}\n",
      "{'loss': 1.1936, 'grad_norm': 7.683691501617432, 'learning_rate': 1.5184092186621698e-05, 'epoch': 0.71}\n",
      "{'loss': 1.5662, 'grad_norm': 22.502655029296875, 'learning_rate': 1.5148960089938169e-05, 'epoch': 0.71}\n",
      "{'loss': 1.2927, 'grad_norm': 8.098760604858398, 'learning_rate': 1.5113827993254639e-05, 'epoch': 0.71}\n",
      "{'loss': 1.7662, 'grad_norm': 16.244834899902344, 'learning_rate': 1.5078695896571107e-05, 'epoch': 0.71}\n",
      "{'loss': 1.3106, 'grad_norm': 6.554473400115967, 'learning_rate': 1.5043563799887578e-05, 'epoch': 0.71}\n",
      "{'loss': 1.6698, 'grad_norm': 61.643802642822266, 'learning_rate': 1.5008431703204049e-05, 'epoch': 0.71}\n",
      "{'loss': 1.7074, 'grad_norm': 7.633857727050781, 'learning_rate': 1.4973299606520519e-05, 'epoch': 0.71}\n",
      "{'loss': 1.1768, 'grad_norm': 10.191329956054688, 'learning_rate': 1.4938167509836986e-05, 'epoch': 0.71}\n",
      "{'loss': 1.3211, 'grad_norm': 10.931305885314941, 'learning_rate': 1.4903035413153458e-05, 'epoch': 0.71}\n",
      "{'loss': 1.775, 'grad_norm': 16.44036865234375, 'learning_rate': 1.4867903316469927e-05, 'epoch': 0.71}\n"
     ]
    },
    {
     "data": {
      "application/vnd.jupyter.widget-view+json": {
       "model_id": "6ed192b3d88b40b092318f0e055538d2",
       "version_major": 2,
       "version_minor": 0
      },
      "text/plain": [
       "  0%|          | 0/818 [00:00<?, ?it/s]"
      ]
     },
     "metadata": {},
     "output_type": "display_data"
    },
    {
     "name": "stdout",
     "output_type": "stream",
     "text": [
      "{'eval_loss': 1.3749583959579468, 'eval_runtime': 15.3625, 'eval_samples_per_second': 53.246, 'eval_steps_per_second': 53.246, 'epoch': 0.71}\n",
      "{'loss': 1.2952, 'grad_norm': 7.142134666442871, 'learning_rate': 1.4832771219786399e-05, 'epoch': 0.71}\n",
      "{'loss': 1.4898, 'grad_norm': 65.28485870361328, 'learning_rate': 1.4797639123102868e-05, 'epoch': 0.71}\n",
      "{'loss': 1.5635, 'grad_norm': 9.714823722839355, 'learning_rate': 1.4762507026419336e-05, 'epoch': 0.71}\n",
      "{'loss': 1.6233, 'grad_norm': 7.347331523895264, 'learning_rate': 1.4727374929735807e-05, 'epoch': 0.72}\n",
      "{'loss': 1.1138, 'grad_norm': 10.278096199035645, 'learning_rate': 1.4692242833052278e-05, 'epoch': 0.72}\n",
      "{'loss': 1.3253, 'grad_norm': 7.031587600708008, 'learning_rate': 1.4657110736368748e-05, 'epoch': 0.72}\n",
      "{'loss': 1.4899, 'grad_norm': 11.173827171325684, 'learning_rate': 1.4621978639685216e-05, 'epoch': 0.72}\n",
      "{'loss': 1.4079, 'grad_norm': 9.022311210632324, 'learning_rate': 1.4586846543001687e-05, 'epoch': 0.72}\n",
      "{'loss': 1.392, 'grad_norm': 4.869711875915527, 'learning_rate': 1.4551714446318157e-05, 'epoch': 0.72}\n",
      "{'loss': 1.626, 'grad_norm': 11.760135650634766, 'learning_rate': 1.4516582349634628e-05, 'epoch': 0.72}\n",
      "{'loss': 1.7001, 'grad_norm': 11.53796100616455, 'learning_rate': 1.4481450252951097e-05, 'epoch': 0.72}\n",
      "{'loss': 1.3901, 'grad_norm': 9.107881546020508, 'learning_rate': 1.4446318156267565e-05, 'epoch': 0.72}\n",
      "{'loss': 1.1347, 'grad_norm': 8.917669296264648, 'learning_rate': 1.4411186059584037e-05, 'epoch': 0.72}\n",
      "{'loss': 1.2473, 'grad_norm': 13.17676830291748, 'learning_rate': 1.4376053962900508e-05, 'epoch': 0.72}\n",
      "{'loss': 1.7242, 'grad_norm': 7.9792070388793945, 'learning_rate': 1.4340921866216977e-05, 'epoch': 0.72}\n",
      "{'loss': 1.5253, 'grad_norm': 12.563661575317383, 'learning_rate': 1.4305789769533445e-05, 'epoch': 0.72}\n",
      "{'loss': 1.7678, 'grad_norm': 16.317354202270508, 'learning_rate': 1.4270657672849916e-05, 'epoch': 0.72}\n",
      "{'loss': 1.5659, 'grad_norm': 37.17824172973633, 'learning_rate': 1.4235525576166386e-05, 'epoch': 0.72}\n",
      "{'loss': 1.5321, 'grad_norm': 10.61420726776123, 'learning_rate': 1.4200393479482857e-05, 'epoch': 0.73}\n",
      "{'loss': 1.6911, 'grad_norm': 4.27403450012207, 'learning_rate': 1.4165261382799327e-05, 'epoch': 0.73}\n",
      "{'loss': 1.1819, 'grad_norm': 8.239001274108887, 'learning_rate': 1.4130129286115795e-05, 'epoch': 0.73}\n",
      "{'loss': 1.5354, 'grad_norm': 20.501317977905273, 'learning_rate': 1.4094997189432266e-05, 'epoch': 0.73}\n",
      "{'loss': 1.3565, 'grad_norm': 5.774161338806152, 'learning_rate': 1.4059865092748735e-05, 'epoch': 0.73}\n",
      "{'loss': 1.2615, 'grad_norm': 9.326281547546387, 'learning_rate': 1.4024732996065207e-05, 'epoch': 0.73}\n",
      "{'loss': 1.5052, 'grad_norm': 7.5944952964782715, 'learning_rate': 1.3989600899381675e-05, 'epoch': 0.73}\n",
      "{'loss': 1.2021, 'grad_norm': 7.667756080627441, 'learning_rate': 1.3954468802698146e-05, 'epoch': 0.73}\n",
      "{'loss': 1.4014, 'grad_norm': 8.71550464630127, 'learning_rate': 1.3919336706014615e-05, 'epoch': 0.73}\n",
      "{'loss': 1.6814, 'grad_norm': 20.543405532836914, 'learning_rate': 1.3884204609331087e-05, 'epoch': 0.73}\n",
      "{'loss': 1.4401, 'grad_norm': 11.857336044311523, 'learning_rate': 1.3849072512647556e-05, 'epoch': 0.73}\n",
      "{'loss': 1.507, 'grad_norm': 5.450162410736084, 'learning_rate': 1.3813940415964024e-05, 'epoch': 0.73}\n",
      "{'loss': 1.5001, 'grad_norm': 7.2793989181518555, 'learning_rate': 1.3778808319280495e-05, 'epoch': 0.73}\n",
      "{'loss': 1.8072, 'grad_norm': 7.045793533325195, 'learning_rate': 1.3743676222596965e-05, 'epoch': 0.73}\n",
      "{'loss': 1.4373, 'grad_norm': 22.0462646484375, 'learning_rate': 1.3708544125913436e-05, 'epoch': 0.74}\n",
      "{'loss': 1.365, 'grad_norm': 8.271815299987793, 'learning_rate': 1.3673412029229904e-05, 'epoch': 0.74}\n",
      "{'loss': 1.7171, 'grad_norm': 20.06121063232422, 'learning_rate': 1.3638279932546375e-05, 'epoch': 0.74}\n",
      "{'loss': 1.472, 'grad_norm': 18.391433715820312, 'learning_rate': 1.3603147835862845e-05, 'epoch': 0.74}\n",
      "{'loss': 1.747, 'grad_norm': 8.086291313171387, 'learning_rate': 1.3568015739179316e-05, 'epoch': 0.74}\n",
      "{'loss': 1.4469, 'grad_norm': 7.441526412963867, 'learning_rate': 1.3532883642495786e-05, 'epoch': 0.74}\n",
      "{'loss': 1.3073, 'grad_norm': 5.986814022064209, 'learning_rate': 1.3497751545812253e-05, 'epoch': 0.74}\n",
      "{'loss': 1.8291, 'grad_norm': 8.278586387634277, 'learning_rate': 1.3462619449128725e-05, 'epoch': 0.74}\n",
      "{'loss': 1.3179, 'grad_norm': 18.186689376831055, 'learning_rate': 1.3427487352445194e-05, 'epoch': 0.74}\n",
      "{'loss': 1.4992, 'grad_norm': 7.4302496910095215, 'learning_rate': 1.3392355255761665e-05, 'epoch': 0.74}\n",
      "{'loss': 1.2307, 'grad_norm': 12.300407409667969, 'learning_rate': 1.3357223159078133e-05, 'epoch': 0.74}\n",
      "{'loss': 1.4532, 'grad_norm': 18.376636505126953, 'learning_rate': 1.3322091062394605e-05, 'epoch': 0.74}\n",
      "{'loss': 1.7369, 'grad_norm': 7.303451061248779, 'learning_rate': 1.3286958965711074e-05, 'epoch': 0.74}\n",
      "{'loss': 1.4294, 'grad_norm': 5.293560028076172, 'learning_rate': 1.3251826869027545e-05, 'epoch': 0.74}\n",
      "{'loss': 1.4309, 'grad_norm': 12.895773887634277, 'learning_rate': 1.3216694772344015e-05, 'epoch': 0.74}\n",
      "{'loss': 1.2086, 'grad_norm': 7.893375396728516, 'learning_rate': 1.3181562675660483e-05, 'epoch': 0.75}\n",
      "{'loss': 1.5662, 'grad_norm': 7.023303031921387, 'learning_rate': 1.3146430578976954e-05, 'epoch': 0.75}\n",
      "{'loss': 1.386, 'grad_norm': 8.062257766723633, 'learning_rate': 1.3111298482293424e-05, 'epoch': 0.75}\n"
     ]
    },
    {
     "data": {
      "application/vnd.jupyter.widget-view+json": {
       "model_id": "02bd9d87a83d476d9101cf369a582fda",
       "version_major": 2,
       "version_minor": 0
      },
      "text/plain": [
       "  0%|          | 0/818 [00:00<?, ?it/s]"
      ]
     },
     "metadata": {},
     "output_type": "display_data"
    },
    {
     "name": "stdout",
     "output_type": "stream",
     "text": [
      "{'eval_loss': 1.369065761566162, 'eval_runtime': 15.3937, 'eval_samples_per_second': 53.139, 'eval_steps_per_second': 53.139, 'epoch': 0.75}\n",
      "{'loss': 1.463, 'grad_norm': 6.532029151916504, 'learning_rate': 1.3076166385609895e-05, 'epoch': 0.75}\n",
      "{'loss': 1.3793, 'grad_norm': 10.452590942382812, 'learning_rate': 1.3041034288926363e-05, 'epoch': 0.75}\n",
      "{'loss': 1.4757, 'grad_norm': 9.354741096496582, 'learning_rate': 1.3005902192242834e-05, 'epoch': 0.75}\n",
      "{'loss': 1.5164, 'grad_norm': 10.21220874786377, 'learning_rate': 1.2970770095559303e-05, 'epoch': 0.75}\n",
      "{'loss': 1.555, 'grad_norm': 10.814753532409668, 'learning_rate': 1.2935637998875775e-05, 'epoch': 0.75}\n",
      "{'loss': 1.5216, 'grad_norm': 8.117496490478516, 'learning_rate': 1.2900505902192244e-05, 'epoch': 0.75}\n",
      "{'loss': 1.6403, 'grad_norm': 15.324651718139648, 'learning_rate': 1.2865373805508712e-05, 'epoch': 0.75}\n",
      "{'loss': 1.2699, 'grad_norm': 6.610034465789795, 'learning_rate': 1.2830241708825183e-05, 'epoch': 0.75}\n",
      "{'loss': 1.4663, 'grad_norm': 4.851945400238037, 'learning_rate': 1.2795109612141653e-05, 'epoch': 0.75}\n",
      "{'loss': 1.2428, 'grad_norm': 11.498769760131836, 'learning_rate': 1.2759977515458124e-05, 'epoch': 0.75}\n",
      "{'loss': 1.9128, 'grad_norm': 11.757609367370605, 'learning_rate': 1.2724845418774592e-05, 'epoch': 0.75}\n",
      "{'loss': 1.368, 'grad_norm': 6.338367462158203, 'learning_rate': 1.2689713322091062e-05, 'epoch': 0.75}\n",
      "{'loss': 1.5143, 'grad_norm': 14.66162109375, 'learning_rate': 1.2654581225407533e-05, 'epoch': 0.76}\n",
      "{'loss': 1.7186, 'grad_norm': 11.164766311645508, 'learning_rate': 1.2619449128724004e-05, 'epoch': 0.76}\n",
      "{'loss': 1.3613, 'grad_norm': 6.994172096252441, 'learning_rate': 1.2584317032040474e-05, 'epoch': 0.76}\n",
      "{'loss': 1.6196, 'grad_norm': 14.279172897338867, 'learning_rate': 1.2549184935356942e-05, 'epoch': 0.76}\n",
      "{'loss': 1.6549, 'grad_norm': 6.775679588317871, 'learning_rate': 1.2514052838673413e-05, 'epoch': 0.76}\n",
      "{'loss': 1.4693, 'grad_norm': 16.746185302734375, 'learning_rate': 1.2478920741989882e-05, 'epoch': 0.76}\n",
      "{'loss': 1.5315, 'grad_norm': 6.796301364898682, 'learning_rate': 1.2443788645306352e-05, 'epoch': 0.76}\n",
      "{'loss': 1.3963, 'grad_norm': 10.144746780395508, 'learning_rate': 1.2408656548622823e-05, 'epoch': 0.76}\n",
      "{'loss': 1.5172, 'grad_norm': 7.184855937957764, 'learning_rate': 1.2373524451939291e-05, 'epoch': 0.76}\n",
      "{'loss': 1.4085, 'grad_norm': 6.576039791107178, 'learning_rate': 1.2338392355255762e-05, 'epoch': 0.76}\n",
      "{'loss': 1.1834, 'grad_norm': 7.422094821929932, 'learning_rate': 1.2303260258572233e-05, 'epoch': 0.76}\n",
      "{'loss': 1.4141, 'grad_norm': 8.172374725341797, 'learning_rate': 1.2268128161888701e-05, 'epoch': 0.76}\n",
      "{'loss': 1.4458, 'grad_norm': 11.031444549560547, 'learning_rate': 1.2232996065205173e-05, 'epoch': 0.76}\n",
      "{'loss': 1.4333, 'grad_norm': 6.80964994430542, 'learning_rate': 1.2197863968521642e-05, 'epoch': 0.76}\n",
      "{'loss': 1.5709, 'grad_norm': 6.887475490570068, 'learning_rate': 1.2162731871838112e-05, 'epoch': 0.77}\n",
      "{'loss': 1.9413, 'grad_norm': 9.176384925842285, 'learning_rate': 1.2127599775154581e-05, 'epoch': 0.77}\n",
      "{'loss': 1.5192, 'grad_norm': 9.413114547729492, 'learning_rate': 1.2092467678471053e-05, 'epoch': 0.77}\n",
      "{'loss': 1.5985, 'grad_norm': 8.711272239685059, 'learning_rate': 1.205733558178752e-05, 'epoch': 0.77}\n",
      "{'loss': 1.6771, 'grad_norm': 9.9888334274292, 'learning_rate': 1.2022203485103992e-05, 'epoch': 0.77}\n",
      "{'loss': 1.5171, 'grad_norm': 13.4483003616333, 'learning_rate': 1.1987071388420463e-05, 'epoch': 0.77}\n",
      "{'loss': 1.7611, 'grad_norm': 17.014108657836914, 'learning_rate': 1.195193929173693e-05, 'epoch': 0.77}\n",
      "{'loss': 1.1573, 'grad_norm': 10.60064697265625, 'learning_rate': 1.1916807195053402e-05, 'epoch': 0.77}\n",
      "{'loss': 1.3367, 'grad_norm': 30.01642608642578, 'learning_rate': 1.1881675098369872e-05, 'epoch': 0.77}\n",
      "{'loss': 1.5977, 'grad_norm': 8.311071395874023, 'learning_rate': 1.1846543001686341e-05, 'epoch': 0.77}\n",
      "{'loss': 1.6187, 'grad_norm': 8.456212997436523, 'learning_rate': 1.181141090500281e-05, 'epoch': 0.77}\n",
      "{'loss': 1.0108, 'grad_norm': 9.512211799621582, 'learning_rate': 1.1776278808319282e-05, 'epoch': 0.77}\n",
      "{'loss': 1.4491, 'grad_norm': 7.890158176422119, 'learning_rate': 1.174114671163575e-05, 'epoch': 0.77}\n",
      "{'loss': 1.4924, 'grad_norm': 32.411720275878906, 'learning_rate': 1.1706014614952221e-05, 'epoch': 0.77}\n",
      "{'loss': 1.7668, 'grad_norm': 11.904533386230469, 'learning_rate': 1.1670882518268692e-05, 'epoch': 0.77}\n",
      "{'loss': 1.5507, 'grad_norm': 14.202609062194824, 'learning_rate': 1.163575042158516e-05, 'epoch': 0.78}\n",
      "{'loss': 1.1652, 'grad_norm': 6.414056777954102, 'learning_rate': 1.1600618324901631e-05, 'epoch': 0.78}\n",
      "{'loss': 1.3163, 'grad_norm': 7.9821577072143555, 'learning_rate': 1.1565486228218101e-05, 'epoch': 0.78}\n",
      "{'loss': 1.6917, 'grad_norm': 41.43631362915039, 'learning_rate': 1.153035413153457e-05, 'epoch': 0.78}\n",
      "{'loss': 1.6397, 'grad_norm': 10.859709739685059, 'learning_rate': 1.149522203485104e-05, 'epoch': 0.78}\n",
      "{'loss': 1.6729, 'grad_norm': 11.43831729888916, 'learning_rate': 1.1460089938167511e-05, 'epoch': 0.78}\n",
      "{'loss': 1.7926, 'grad_norm': 121.57906341552734, 'learning_rate': 1.1424957841483979e-05, 'epoch': 0.78}\n",
      "{'loss': 1.3799, 'grad_norm': 12.826408386230469, 'learning_rate': 1.138982574480045e-05, 'epoch': 0.78}\n",
      "{'loss': 1.4659, 'grad_norm': 6.2659454345703125, 'learning_rate': 1.1354693648116922e-05, 'epoch': 0.78}\n"
     ]
    },
    {
     "data": {
      "application/vnd.jupyter.widget-view+json": {
       "model_id": "dcbf7b70612747c39aa9c79dd2d7edce",
       "version_major": 2,
       "version_minor": 0
      },
      "text/plain": [
       "  0%|          | 0/818 [00:00<?, ?it/s]"
      ]
     },
     "metadata": {},
     "output_type": "display_data"
    },
    {
     "name": "stdout",
     "output_type": "stream",
     "text": [
      "{'eval_loss': 1.3663820028305054, 'eval_runtime': 15.5509, 'eval_samples_per_second': 52.602, 'eval_steps_per_second': 52.602, 'epoch': 0.78}\n",
      "{'loss': 1.3347, 'grad_norm': 6.892908096313477, 'learning_rate': 1.131956155143339e-05, 'epoch': 0.78}\n",
      "{'loss': 1.1538, 'grad_norm': 16.446290969848633, 'learning_rate': 1.128442945474986e-05, 'epoch': 0.78}\n",
      "{'loss': 1.5946, 'grad_norm': 7.835308074951172, 'learning_rate': 1.124929735806633e-05, 'epoch': 0.78}\n",
      "{'loss': 1.4682, 'grad_norm': 8.650940895080566, 'learning_rate': 1.12141652613828e-05, 'epoch': 0.78}\n",
      "{'loss': 1.4421, 'grad_norm': 11.416398048400879, 'learning_rate': 1.117903316469927e-05, 'epoch': 0.78}\n",
      "{'loss': 1.3983, 'grad_norm': 7.179330348968506, 'learning_rate': 1.114390106801574e-05, 'epoch': 0.78}\n",
      "{'loss': 1.5032, 'grad_norm': 6.4817376136779785, 'learning_rate': 1.1108768971332208e-05, 'epoch': 0.79}\n",
      "{'loss': 1.6486, 'grad_norm': 13.420875549316406, 'learning_rate': 1.107363687464868e-05, 'epoch': 0.79}\n",
      "{'loss': 1.5851, 'grad_norm': 4.901786804199219, 'learning_rate': 1.1038504777965151e-05, 'epoch': 0.79}\n",
      "{'loss': 1.5031, 'grad_norm': 19.700424194335938, 'learning_rate': 1.1003372681281619e-05, 'epoch': 0.79}\n",
      "{'loss': 1.518, 'grad_norm': 13.964681625366211, 'learning_rate': 1.096824058459809e-05, 'epoch': 0.79}\n",
      "{'loss': 1.1161, 'grad_norm': 8.354070663452148, 'learning_rate': 1.093310848791456e-05, 'epoch': 0.79}\n",
      "{'loss': 1.1354, 'grad_norm': 7.450639247894287, 'learning_rate': 1.089797639123103e-05, 'epoch': 0.79}\n",
      "{'loss': 1.5382, 'grad_norm': 7.3380842208862305, 'learning_rate': 1.0862844294547499e-05, 'epoch': 0.79}\n",
      "{'loss': 1.8164, 'grad_norm': 11.427393913269043, 'learning_rate': 1.082771219786397e-05, 'epoch': 0.79}\n",
      "{'loss': 1.4947, 'grad_norm': 14.627008438110352, 'learning_rate': 1.0792580101180438e-05, 'epoch': 0.79}\n",
      "{'loss': 1.1171, 'grad_norm': 7.110990524291992, 'learning_rate': 1.0757448004496909e-05, 'epoch': 0.79}\n",
      "{'loss': 1.3097, 'grad_norm': 13.704657554626465, 'learning_rate': 1.0722315907813379e-05, 'epoch': 0.79}\n",
      "{'loss': 1.6096, 'grad_norm': 10.021809577941895, 'learning_rate': 1.0687183811129848e-05, 'epoch': 0.79}\n",
      "{'loss': 1.6119, 'grad_norm': 9.61766529083252, 'learning_rate': 1.065205171444632e-05, 'epoch': 0.79}\n",
      "{'loss': 1.3927, 'grad_norm': 9.108281135559082, 'learning_rate': 1.0616919617762789e-05, 'epoch': 0.79}\n",
      "{'loss': 1.2728, 'grad_norm': 8.404096603393555, 'learning_rate': 1.0581787521079259e-05, 'epoch': 0.8}\n",
      "{'loss': 1.5712, 'grad_norm': 11.416315078735352, 'learning_rate': 1.0546655424395728e-05, 'epoch': 0.8}\n",
      "{'loss': 1.4245, 'grad_norm': 8.449454307556152, 'learning_rate': 1.05115233277122e-05, 'epoch': 0.8}\n",
      "{'loss': 1.6685, 'grad_norm': 10.172455787658691, 'learning_rate': 1.0476391231028667e-05, 'epoch': 0.8}\n",
      "{'loss': 1.5338, 'grad_norm': 6.856877326965332, 'learning_rate': 1.0441259134345138e-05, 'epoch': 0.8}\n",
      "{'loss': 1.7087, 'grad_norm': 13.941061973571777, 'learning_rate': 1.0406127037661608e-05, 'epoch': 0.8}\n",
      "{'loss': 1.8289, 'grad_norm': 6.391075611114502, 'learning_rate': 1.0370994940978078e-05, 'epoch': 0.8}\n",
      "{'loss': 1.6745, 'grad_norm': 18.67487144470215, 'learning_rate': 1.0335862844294549e-05, 'epoch': 0.8}\n",
      "{'loss': 1.7586, 'grad_norm': 8.536981582641602, 'learning_rate': 1.0300730747611018e-05, 'epoch': 0.8}\n",
      "{'loss': 1.4561, 'grad_norm': 15.847152709960938, 'learning_rate': 1.0265598650927488e-05, 'epoch': 0.8}\n",
      "{'loss': 1.4804, 'grad_norm': 9.168839454650879, 'learning_rate': 1.0230466554243957e-05, 'epoch': 0.8}\n",
      "{'loss': 1.5957, 'grad_norm': 9.574617385864258, 'learning_rate': 1.0195334457560427e-05, 'epoch': 0.8}\n",
      "{'loss': 1.2366, 'grad_norm': 9.646124839782715, 'learning_rate': 1.0160202360876897e-05, 'epoch': 0.8}\n",
      "{'loss': 1.632, 'grad_norm': 10.653111457824707, 'learning_rate': 1.0125070264193368e-05, 'epoch': 0.8}\n",
      "{'loss': 1.5264, 'grad_norm': 7.23397159576416, 'learning_rate': 1.0089938167509837e-05, 'epoch': 0.81}\n",
      "{'loss': 1.7448, 'grad_norm': 17.686132431030273, 'learning_rate': 1.0054806070826307e-05, 'epoch': 0.81}\n",
      "{'loss': 1.8264, 'grad_norm': 11.827211380004883, 'learning_rate': 1.0019673974142778e-05, 'epoch': 0.81}\n",
      "{'loss': 1.1339, 'grad_norm': 9.314364433288574, 'learning_rate': 9.984541877459248e-06, 'epoch': 0.81}\n",
      "{'loss': 1.3657, 'grad_norm': 30.660917282104492, 'learning_rate': 9.949409780775717e-06, 'epoch': 0.81}\n",
      "{'loss': 1.4166, 'grad_norm': 5.677512168884277, 'learning_rate': 9.914277684092187e-06, 'epoch': 0.81}\n",
      "{'loss': 1.4207, 'grad_norm': 17.18669319152832, 'learning_rate': 9.879145587408656e-06, 'epoch': 0.81}\n",
      "{'loss': 1.3591, 'grad_norm': 11.27483081817627, 'learning_rate': 9.844013490725126e-06, 'epoch': 0.81}\n",
      "{'loss': 1.4113, 'grad_norm': 9.107965469360352, 'learning_rate': 9.808881394041597e-06, 'epoch': 0.81}\n",
      "{'loss': 2.0957, 'grad_norm': 10.159491539001465, 'learning_rate': 9.773749297358067e-06, 'epoch': 0.81}\n",
      "{'loss': 1.2661, 'grad_norm': 6.887401580810547, 'learning_rate': 9.738617200674536e-06, 'epoch': 0.81}\n",
      "{'loss': 1.4854, 'grad_norm': 6.58960485458374, 'learning_rate': 9.703485103991008e-06, 'epoch': 0.81}\n",
      "{'loss': 1.5433, 'grad_norm': 12.7262601852417, 'learning_rate': 9.668353007307475e-06, 'epoch': 0.81}\n",
      "{'loss': 1.348, 'grad_norm': 12.926135063171387, 'learning_rate': 9.633220910623947e-06, 'epoch': 0.81}\n",
      "{'loss': 1.2697, 'grad_norm': 6.106400489807129, 'learning_rate': 9.598088813940416e-06, 'epoch': 0.81}\n"
     ]
    },
    {
     "data": {
      "application/vnd.jupyter.widget-view+json": {
       "model_id": "0cc24c2b2e614fb1a9f3668204407204",
       "version_major": 2,
       "version_minor": 0
      },
      "text/plain": [
       "  0%|          | 0/818 [00:00<?, ?it/s]"
      ]
     },
     "metadata": {},
     "output_type": "display_data"
    },
    {
     "name": "stdout",
     "output_type": "stream",
     "text": [
      "{'eval_loss': 1.3639354705810547, 'eval_runtime': 15.3098, 'eval_samples_per_second': 53.43, 'eval_steps_per_second': 53.43, 'epoch': 0.81}\n",
      "{'loss': 1.9913, 'grad_norm': 23.69110870361328, 'learning_rate': 9.562956717256886e-06, 'epoch': 0.82}\n",
      "{'loss': 1.6271, 'grad_norm': 8.615445137023926, 'learning_rate': 9.527824620573355e-06, 'epoch': 0.82}\n",
      "{'loss': 1.6363, 'grad_norm': 9.655973434448242, 'learning_rate': 9.492692523889827e-06, 'epoch': 0.82}\n",
      "{'loss': 1.3573, 'grad_norm': 4.653561592102051, 'learning_rate': 9.457560427206296e-06, 'epoch': 0.82}\n",
      "{'loss': 1.6547, 'grad_norm': 8.896451950073242, 'learning_rate': 9.422428330522766e-06, 'epoch': 0.82}\n",
      "{'loss': 1.5475, 'grad_norm': 6.72760534286499, 'learning_rate': 9.387296233839237e-06, 'epoch': 0.82}\n",
      "{'loss': 1.3901, 'grad_norm': 15.256664276123047, 'learning_rate': 9.352164137155705e-06, 'epoch': 0.82}\n",
      "{'loss': 1.3045, 'grad_norm': 9.250490188598633, 'learning_rate': 9.317032040472176e-06, 'epoch': 0.82}\n",
      "{'loss': 1.4314, 'grad_norm': 11.026691436767578, 'learning_rate': 9.281899943788646e-06, 'epoch': 0.82}\n",
      "{'loss': 1.4695, 'grad_norm': 13.420730590820312, 'learning_rate': 9.246767847105115e-06, 'epoch': 0.82}\n",
      "{'loss': 1.2046, 'grad_norm': 12.36667537689209, 'learning_rate': 9.211635750421585e-06, 'epoch': 0.82}\n",
      "{'loss': 1.174, 'grad_norm': 6.4234466552734375, 'learning_rate': 9.176503653738056e-06, 'epoch': 0.82}\n",
      "{'loss': 1.7659, 'grad_norm': 7.862153053283691, 'learning_rate': 9.141371557054526e-06, 'epoch': 0.82}\n",
      "{'loss': 1.4745, 'grad_norm': 9.001686096191406, 'learning_rate': 9.106239460370995e-06, 'epoch': 0.82}\n",
      "{'loss': 1.5458, 'grad_norm': 17.501474380493164, 'learning_rate': 9.071107363687466e-06, 'epoch': 0.82}\n",
      "{'loss': 1.4357, 'grad_norm': 10.835704803466797, 'learning_rate': 9.035975267003934e-06, 'epoch': 0.83}\n",
      "{'loss': 1.3821, 'grad_norm': 7.38856840133667, 'learning_rate': 9.000843170320405e-06, 'epoch': 0.83}\n",
      "{'loss': 1.5961, 'grad_norm': 8.818058967590332, 'learning_rate': 8.965711073636875e-06, 'epoch': 0.83}\n",
      "{'loss': 1.2789, 'grad_norm': 10.483182907104492, 'learning_rate': 8.930578976953345e-06, 'epoch': 0.83}\n",
      "{'loss': 1.371, 'grad_norm': 21.869802474975586, 'learning_rate': 8.895446880269814e-06, 'epoch': 0.83}\n",
      "{'loss': 1.6078, 'grad_norm': 11.756162643432617, 'learning_rate': 8.860314783586285e-06, 'epoch': 0.83}\n",
      "{'loss': 1.2528, 'grad_norm': 6.490160942077637, 'learning_rate': 8.825182686902755e-06, 'epoch': 0.83}\n",
      "{'loss': 1.385, 'grad_norm': 9.124608993530273, 'learning_rate': 8.790050590219224e-06, 'epoch': 0.83}\n",
      "{'loss': 1.4222, 'grad_norm': 8.873497009277344, 'learning_rate': 8.754918493535696e-06, 'epoch': 0.83}\n",
      "{'loss': 1.2688, 'grad_norm': 8.703601837158203, 'learning_rate': 8.719786396852164e-06, 'epoch': 0.83}\n",
      "{'loss': 1.4128, 'grad_norm': 7.671041488647461, 'learning_rate': 8.684654300168635e-06, 'epoch': 0.83}\n",
      "{'loss': 1.6413, 'grad_norm': 8.08988094329834, 'learning_rate': 8.649522203485104e-06, 'epoch': 0.83}\n",
      "{'loss': 1.384, 'grad_norm': 16.383590698242188, 'learning_rate': 8.614390106801574e-06, 'epoch': 0.83}\n",
      "{'loss': 1.6393, 'grad_norm': 8.807601928710938, 'learning_rate': 8.579258010118043e-06, 'epoch': 0.83}\n",
      "{'loss': 1.6353, 'grad_norm': 13.203102111816406, 'learning_rate': 8.544125913434515e-06, 'epoch': 0.83}\n",
      "{'loss': 1.5964, 'grad_norm': 11.429616928100586, 'learning_rate': 8.508993816750984e-06, 'epoch': 0.84}\n",
      "{'loss': 1.7288, 'grad_norm': 8.322875022888184, 'learning_rate': 8.473861720067454e-06, 'epoch': 0.84}\n",
      "{'loss': 1.5148, 'grad_norm': 9.687599182128906, 'learning_rate': 8.438729623383925e-06, 'epoch': 0.84}\n",
      "{'loss': 1.3992, 'grad_norm': 8.379779815673828, 'learning_rate': 8.403597526700393e-06, 'epoch': 0.84}\n",
      "{'loss': 1.7821, 'grad_norm': 9.900073051452637, 'learning_rate': 8.368465430016864e-06, 'epoch': 0.84}\n",
      "{'loss': 1.6308, 'grad_norm': 7.180888652801514, 'learning_rate': 8.333333333333334e-06, 'epoch': 0.84}\n",
      "{'loss': 1.1147, 'grad_norm': 9.907550811767578, 'learning_rate': 8.298201236649803e-06, 'epoch': 0.84}\n",
      "{'loss': 1.4024, 'grad_norm': 10.249856948852539, 'learning_rate': 8.263069139966273e-06, 'epoch': 0.84}\n",
      "{'loss': 1.9355, 'grad_norm': 18.21037483215332, 'learning_rate': 8.227937043282744e-06, 'epoch': 0.84}\n",
      "{'loss': 1.3369, 'grad_norm': 7.881102561950684, 'learning_rate': 8.192804946599214e-06, 'epoch': 0.84}\n",
      "{'loss': 1.3964, 'grad_norm': 10.329179763793945, 'learning_rate': 8.157672849915683e-06, 'epoch': 0.84}\n",
      "{'loss': 1.2386, 'grad_norm': 14.080928802490234, 'learning_rate': 8.122540753232154e-06, 'epoch': 0.84}\n",
      "{'loss': 1.518, 'grad_norm': 6.613262176513672, 'learning_rate': 8.087408656548622e-06, 'epoch': 0.84}\n",
      "{'loss': 1.5875, 'grad_norm': 7.321651458740234, 'learning_rate': 8.052276559865094e-06, 'epoch': 0.84}\n",
      "{'loss': 1.2531, 'grad_norm': 6.066036701202393, 'learning_rate': 8.017144463181563e-06, 'epoch': 0.85}\n",
      "{'loss': 1.5147, 'grad_norm': 8.43066692352295, 'learning_rate': 7.982012366498033e-06, 'epoch': 0.85}\n",
      "{'loss': 1.5393, 'grad_norm': 12.35784912109375, 'learning_rate': 7.946880269814502e-06, 'epoch': 0.85}\n",
      "{'loss': 1.3732, 'grad_norm': 10.692940711975098, 'learning_rate': 7.911748173130973e-06, 'epoch': 0.85}\n",
      "{'loss': 1.4042, 'grad_norm': 8.381816864013672, 'learning_rate': 7.876616076447443e-06, 'epoch': 0.85}\n",
      "{'loss': 1.463, 'grad_norm': 37.296302795410156, 'learning_rate': 7.841483979763913e-06, 'epoch': 0.85}\n"
     ]
    },
    {
     "data": {
      "application/vnd.jupyter.widget-view+json": {
       "model_id": "13779ec2c5834f7090f04d77a2ba0c93",
       "version_major": 2,
       "version_minor": 0
      },
      "text/plain": [
       "  0%|          | 0/818 [00:00<?, ?it/s]"
      ]
     },
     "metadata": {},
     "output_type": "display_data"
    },
    {
     "name": "stdout",
     "output_type": "stream",
     "text": [
      "{'eval_loss': 1.3621128797531128, 'eval_runtime': 15.6165, 'eval_samples_per_second': 52.381, 'eval_steps_per_second': 52.381, 'epoch': 0.85}\n",
      "{'loss': 1.3338, 'grad_norm': 7.9323506355285645, 'learning_rate': 7.806351883080384e-06, 'epoch': 0.85}\n",
      "{'loss': 1.4512, 'grad_norm': 5.29426908493042, 'learning_rate': 7.771219786396852e-06, 'epoch': 0.85}\n",
      "{'loss': 1.8202, 'grad_norm': 8.626018524169922, 'learning_rate': 7.736087689713323e-06, 'epoch': 0.85}\n",
      "{'loss': 1.3858, 'grad_norm': 5.77044677734375, 'learning_rate': 7.700955593029792e-06, 'epoch': 0.85}\n",
      "{'loss': 0.998, 'grad_norm': 5.917463302612305, 'learning_rate': 7.665823496346262e-06, 'epoch': 0.85}\n",
      "{'loss': 1.516, 'grad_norm': 7.943124294281006, 'learning_rate': 7.630691399662732e-06, 'epoch': 0.85}\n",
      "{'loss': 1.5462, 'grad_norm': 6.454356670379639, 'learning_rate': 7.595559302979202e-06, 'epoch': 0.85}\n",
      "{'loss': 1.7468, 'grad_norm': 7.689917087554932, 'learning_rate': 7.560427206295672e-06, 'epoch': 0.85}\n",
      "{'loss': 1.2469, 'grad_norm': 8.966522216796875, 'learning_rate': 7.525295109612142e-06, 'epoch': 0.85}\n",
      "{'loss': 1.5086, 'grad_norm': 9.92933464050293, 'learning_rate': 7.490163012928612e-06, 'epoch': 0.86}\n",
      "{'loss': 1.5755, 'grad_norm': 14.625080108642578, 'learning_rate': 7.455030916245082e-06, 'epoch': 0.86}\n",
      "{'loss': 1.6987, 'grad_norm': 23.533294677734375, 'learning_rate': 7.419898819561552e-06, 'epoch': 0.86}\n",
      "{'loss': 1.4158, 'grad_norm': 11.336901664733887, 'learning_rate': 7.384766722878021e-06, 'epoch': 0.86}\n",
      "{'loss': 1.1649, 'grad_norm': 6.753088474273682, 'learning_rate': 7.349634626194491e-06, 'epoch': 0.86}\n",
      "{'loss': 1.5782, 'grad_norm': 10.748551368713379, 'learning_rate': 7.314502529510961e-06, 'epoch': 0.86}\n",
      "{'loss': 1.5293, 'grad_norm': 8.180068969726562, 'learning_rate': 7.279370432827431e-06, 'epoch': 0.86}\n",
      "{'loss': 1.5072, 'grad_norm': 8.132181167602539, 'learning_rate': 7.244238336143902e-06, 'epoch': 0.86}\n",
      "{'loss': 1.488, 'grad_norm': 13.741848945617676, 'learning_rate': 7.209106239460371e-06, 'epoch': 0.86}\n",
      "{'loss': 1.6396, 'grad_norm': 9.501392364501953, 'learning_rate': 7.173974142776842e-06, 'epoch': 0.86}\n",
      "{'loss': 1.6031, 'grad_norm': 22.302234649658203, 'learning_rate': 7.138842046093311e-06, 'epoch': 0.86}\n",
      "{'loss': 1.6144, 'grad_norm': 11.596054077148438, 'learning_rate': 7.103709949409782e-06, 'epoch': 0.86}\n",
      "{'loss': 1.6943, 'grad_norm': 8.710351943969727, 'learning_rate': 7.06857785272625e-06, 'epoch': 0.86}\n",
      "{'loss': 1.231, 'grad_norm': 5.021371364593506, 'learning_rate': 7.033445756042721e-06, 'epoch': 0.86}\n",
      "{'loss': 1.4381, 'grad_norm': 9.144381523132324, 'learning_rate': 6.99831365935919e-06, 'epoch': 0.86}\n",
      "{'loss': 1.3381, 'grad_norm': 9.475164413452148, 'learning_rate': 6.963181562675661e-06, 'epoch': 0.87}\n",
      "{'loss': 1.6224, 'grad_norm': 8.49732780456543, 'learning_rate': 6.928049465992131e-06, 'epoch': 0.87}\n",
      "{'loss': 1.6178, 'grad_norm': 9.314178466796875, 'learning_rate': 6.892917369308601e-06, 'epoch': 0.87}\n",
      "{'loss': 1.5977, 'grad_norm': 9.735715866088867, 'learning_rate': 6.857785272625071e-06, 'epoch': 0.87}\n",
      "{'loss': 1.6167, 'grad_norm': 7.131260395050049, 'learning_rate': 6.82265317594154e-06, 'epoch': 0.87}\n",
      "{'loss': 1.6761, 'grad_norm': 13.401895523071289, 'learning_rate': 6.787521079258011e-06, 'epoch': 0.87}\n",
      "{'loss': 1.5056, 'grad_norm': 10.19709587097168, 'learning_rate': 6.75238898257448e-06, 'epoch': 0.87}\n",
      "{'loss': 1.6371, 'grad_norm': 14.865178108215332, 'learning_rate': 6.71725688589095e-06, 'epoch': 0.87}\n",
      "{'loss': 1.0365, 'grad_norm': 8.184626579284668, 'learning_rate': 6.68212478920742e-06, 'epoch': 0.87}\n",
      "{'loss': 1.5926, 'grad_norm': 10.412725448608398, 'learning_rate': 6.64699269252389e-06, 'epoch': 0.87}\n",
      "{'loss': 1.4218, 'grad_norm': 10.241312980651855, 'learning_rate': 6.6118605958403605e-06, 'epoch': 0.87}\n",
      "{'loss': 1.6044, 'grad_norm': 11.214193344116211, 'learning_rate': 6.57672849915683e-06, 'epoch': 0.87}\n",
      "{'loss': 1.8148, 'grad_norm': 13.98032283782959, 'learning_rate': 6.5415964024733005e-06, 'epoch': 0.87}\n",
      "{'loss': 1.3422, 'grad_norm': 10.856057167053223, 'learning_rate': 6.506464305789769e-06, 'epoch': 0.87}\n",
      "{'loss': 1.5466, 'grad_norm': 8.59959602355957, 'learning_rate': 6.47133220910624e-06, 'epoch': 0.87}\n",
      "{'loss': 1.5318, 'grad_norm': 9.769678115844727, 'learning_rate': 6.436200112422709e-06, 'epoch': 0.88}\n",
      "{'loss': 1.3597, 'grad_norm': 11.31778621673584, 'learning_rate': 6.4010680157391795e-06, 'epoch': 0.88}\n",
      "{'loss': 1.5154, 'grad_norm': 9.867744445800781, 'learning_rate': 6.365935919055649e-06, 'epoch': 0.88}\n",
      "{'loss': 1.2641, 'grad_norm': 7.501675605773926, 'learning_rate': 6.3308038223721195e-06, 'epoch': 0.88}\n",
      "{'loss': 1.3582, 'grad_norm': 7.957638263702393, 'learning_rate': 6.29567172568859e-06, 'epoch': 0.88}\n",
      "{'loss': 1.3214, 'grad_norm': 7.041680812835693, 'learning_rate': 6.2605396290050594e-06, 'epoch': 0.88}\n",
      "{'loss': 1.4357, 'grad_norm': 15.5596923828125, 'learning_rate': 6.225407532321529e-06, 'epoch': 0.88}\n",
      "{'loss': 1.1453, 'grad_norm': 16.056758880615234, 'learning_rate': 6.1902754356379985e-06, 'epoch': 0.88}\n",
      "{'loss': 1.4146, 'grad_norm': 14.457907676696777, 'learning_rate': 6.15514333895447e-06, 'epoch': 0.88}\n",
      "{'loss': 1.4269, 'grad_norm': 8.432899475097656, 'learning_rate': 6.120011242270939e-06, 'epoch': 0.88}\n",
      "{'loss': 1.5452, 'grad_norm': 9.044878959655762, 'learning_rate': 6.084879145587409e-06, 'epoch': 0.88}\n"
     ]
    },
    {
     "data": {
      "application/vnd.jupyter.widget-view+json": {
       "model_id": "2b359bc49b784f76b03632dc579aa6c3",
       "version_major": 2,
       "version_minor": 0
      },
      "text/plain": [
       "  0%|          | 0/818 [00:00<?, ?it/s]"
      ]
     },
     "metadata": {},
     "output_type": "display_data"
    },
    {
     "name": "stdout",
     "output_type": "stream",
     "text": [
      "{'eval_loss': 1.3588777780532837, 'eval_runtime': 15.4386, 'eval_samples_per_second': 52.984, 'eval_steps_per_second': 52.984, 'epoch': 0.88}\n",
      "{'loss': 1.6254, 'grad_norm': 13.329899787902832, 'learning_rate': 6.049747048903879e-06, 'epoch': 0.88}\n",
      "{'loss': 1.3164, 'grad_norm': 8.940234184265137, 'learning_rate': 6.014614952220349e-06, 'epoch': 0.88}\n",
      "{'loss': 1.5619, 'grad_norm': 11.156977653503418, 'learning_rate': 5.979482855536818e-06, 'epoch': 0.88}\n",
      "{'loss': 1.6532, 'grad_norm': 12.36038589477539, 'learning_rate': 5.944350758853289e-06, 'epoch': 0.89}\n",
      "{'loss': 1.5165, 'grad_norm': 9.042210578918457, 'learning_rate': 5.909218662169758e-06, 'epoch': 0.89}\n",
      "{'loss': 1.3742, 'grad_norm': 5.04778528213501, 'learning_rate': 5.874086565486228e-06, 'epoch': 0.89}\n",
      "{'loss': 1.5173, 'grad_norm': 11.26514720916748, 'learning_rate': 5.838954468802698e-06, 'epoch': 0.89}\n",
      "{'loss': 1.2491, 'grad_norm': 5.373864650726318, 'learning_rate': 5.803822372119169e-06, 'epoch': 0.89}\n",
      "{'loss': 1.6585, 'grad_norm': 8.351180076599121, 'learning_rate': 5.768690275435638e-06, 'epoch': 0.89}\n",
      "{'loss': 1.7268, 'grad_norm': 7.1085896492004395, 'learning_rate': 5.733558178752108e-06, 'epoch': 0.89}\n",
      "{'loss': 1.5616, 'grad_norm': 7.523033142089844, 'learning_rate': 5.698426082068578e-06, 'epoch': 0.89}\n",
      "{'loss': 1.8895, 'grad_norm': 15.241408348083496, 'learning_rate': 5.663293985385048e-06, 'epoch': 0.89}\n",
      "{'loss': 1.5707, 'grad_norm': 7.722758769989014, 'learning_rate': 5.628161888701518e-06, 'epoch': 0.89}\n",
      "{'loss': 1.1685, 'grad_norm': 8.536736488342285, 'learning_rate': 5.593029792017988e-06, 'epoch': 0.89}\n",
      "{'loss': 1.5536, 'grad_norm': 7.760292053222656, 'learning_rate': 5.557897695334458e-06, 'epoch': 0.89}\n",
      "{'loss': 1.5318, 'grad_norm': 13.21938705444336, 'learning_rate': 5.522765598650928e-06, 'epoch': 0.89}\n",
      "{'loss': 1.577, 'grad_norm': 6.205202102661133, 'learning_rate': 5.487633501967398e-06, 'epoch': 0.89}\n",
      "{'loss': 1.9122, 'grad_norm': 18.62306022644043, 'learning_rate': 5.452501405283868e-06, 'epoch': 0.89}\n",
      "{'loss': 1.2815, 'grad_norm': 17.773292541503906, 'learning_rate': 5.417369308600337e-06, 'epoch': 0.9}\n",
      "{'loss': 1.5656, 'grad_norm': 8.43932056427002, 'learning_rate': 5.382237211916808e-06, 'epoch': 0.9}\n",
      "{'loss': 1.0793, 'grad_norm': 2.8977155685424805, 'learning_rate': 5.347105115233277e-06, 'epoch': 0.9}\n",
      "{'loss': 1.7108, 'grad_norm': 19.158212661743164, 'learning_rate': 5.311973018549747e-06, 'epoch': 0.9}\n",
      "{'loss': 1.5792, 'grad_norm': 7.3918938636779785, 'learning_rate': 5.276840921866217e-06, 'epoch': 0.9}\n",
      "{'loss': 1.7846, 'grad_norm': 10.179365158081055, 'learning_rate': 5.2417088251826875e-06, 'epoch': 0.9}\n",
      "{'loss': 1.7717, 'grad_norm': 5.482117652893066, 'learning_rate': 5.206576728499157e-06, 'epoch': 0.9}\n",
      "{'loss': 1.3906, 'grad_norm': 9.602580070495605, 'learning_rate': 5.1714446318156275e-06, 'epoch': 0.9}\n",
      "{'loss': 1.6291, 'grad_norm': 7.459580421447754, 'learning_rate': 5.136312535132097e-06, 'epoch': 0.9}\n",
      "{'loss': 1.4261, 'grad_norm': 6.389532089233398, 'learning_rate': 5.1011804384485666e-06, 'epoch': 0.9}\n",
      "{'loss': 1.1472, 'grad_norm': 9.275973320007324, 'learning_rate': 5.066048341765037e-06, 'epoch': 0.9}\n",
      "{'loss': 1.3201, 'grad_norm': 6.052337169647217, 'learning_rate': 5.0309162450815065e-06, 'epoch': 0.9}\n",
      "{'loss': 1.4669, 'grad_norm': 9.235527038574219, 'learning_rate': 4.995784148397976e-06, 'epoch': 0.9}\n",
      "{'loss': 1.2752, 'grad_norm': 11.665042877197266, 'learning_rate': 4.9606520517144465e-06, 'epoch': 0.9}\n",
      "{'loss': 1.3845, 'grad_norm': 12.262709617614746, 'learning_rate': 4.925519955030917e-06, 'epoch': 0.9}\n",
      "{'loss': 1.7679, 'grad_norm': 8.614500999450684, 'learning_rate': 4.8903878583473864e-06, 'epoch': 0.91}\n",
      "{'loss': 1.7842, 'grad_norm': 9.976045608520508, 'learning_rate': 4.855255761663857e-06, 'epoch': 0.91}\n",
      "{'loss': 1.2746, 'grad_norm': 8.549312591552734, 'learning_rate': 4.820123664980326e-06, 'epoch': 0.91}\n",
      "{'loss': 1.6633, 'grad_norm': 13.166535377502441, 'learning_rate': 4.784991568296796e-06, 'epoch': 0.91}\n",
      "{'loss': 1.4236, 'grad_norm': 8.627431869506836, 'learning_rate': 4.749859471613266e-06, 'epoch': 0.91}\n",
      "{'loss': 1.4715, 'grad_norm': 9.601940155029297, 'learning_rate': 4.714727374929736e-06, 'epoch': 0.91}\n",
      "{'loss': 1.4206, 'grad_norm': 7.69448184967041, 'learning_rate': 4.6795952782462055e-06, 'epoch': 0.91}\n",
      "{'loss': 1.52, 'grad_norm': 10.4767427444458, 'learning_rate': 4.644463181562676e-06, 'epoch': 0.91}\n",
      "{'loss': 1.5332, 'grad_norm': 19.239927291870117, 'learning_rate': 4.609331084879146e-06, 'epoch': 0.91}\n",
      "{'loss': 1.0946, 'grad_norm': 11.780692100524902, 'learning_rate': 4.574198988195616e-06, 'epoch': 0.91}\n",
      "{'loss': 1.3721, 'grad_norm': 9.174769401550293, 'learning_rate': 4.539066891512086e-06, 'epoch': 0.91}\n",
      "{'loss': 1.7462, 'grad_norm': 8.857912063598633, 'learning_rate': 4.503934794828556e-06, 'epoch': 0.91}\n",
      "{'loss': 1.3591, 'grad_norm': 5.493085861206055, 'learning_rate': 4.468802698145025e-06, 'epoch': 0.91}\n",
      "{'loss': 1.3538, 'grad_norm': 15.52258586883545, 'learning_rate': 4.433670601461496e-06, 'epoch': 0.91}\n",
      "{'loss': 1.7263, 'grad_norm': 7.393266677856445, 'learning_rate': 4.398538504777965e-06, 'epoch': 0.92}\n",
      "{'loss': 1.6922, 'grad_norm': 9.787992477416992, 'learning_rate': 4.363406408094435e-06, 'epoch': 0.92}\n",
      "{'loss': 1.6005, 'grad_norm': 21.211782455444336, 'learning_rate': 4.328274311410905e-06, 'epoch': 0.92}\n"
     ]
    },
    {
     "data": {
      "application/vnd.jupyter.widget-view+json": {
       "model_id": "e7ba5d4b16e34f3b9918ae82388d35b7",
       "version_major": 2,
       "version_minor": 0
      },
      "text/plain": [
       "  0%|          | 0/818 [00:00<?, ?it/s]"
      ]
     },
     "metadata": {},
     "output_type": "display_data"
    },
    {
     "name": "stdout",
     "output_type": "stream",
     "text": [
      "{'eval_loss': 1.3610390424728394, 'eval_runtime': 15.339, 'eval_samples_per_second': 53.328, 'eval_steps_per_second': 53.328, 'epoch': 0.92}\n",
      "{'loss': 1.5275, 'grad_norm': 10.283480644226074, 'learning_rate': 4.293142214727376e-06, 'epoch': 0.92}\n",
      "{'loss': 1.4462, 'grad_norm': 7.083884239196777, 'learning_rate': 4.258010118043845e-06, 'epoch': 0.92}\n",
      "{'loss': 1.1602, 'grad_norm': 10.217656135559082, 'learning_rate': 4.222878021360315e-06, 'epoch': 0.92}\n",
      "{'loss': 1.2193, 'grad_norm': 7.029883861541748, 'learning_rate': 4.187745924676785e-06, 'epoch': 0.92}\n",
      "{'loss': 1.513, 'grad_norm': 8.677861213684082, 'learning_rate': 4.152613827993255e-06, 'epoch': 0.92}\n",
      "{'loss': 1.2762, 'grad_norm': 12.497991561889648, 'learning_rate': 4.117481731309725e-06, 'epoch': 0.92}\n",
      "{'loss': 1.2764, 'grad_norm': 10.115565299987793, 'learning_rate': 4.082349634626195e-06, 'epoch': 0.92}\n",
      "{'loss': 1.5273, 'grad_norm': 42.6080207824707, 'learning_rate': 4.047217537942664e-06, 'epoch': 0.92}\n",
      "{'loss': 1.4426, 'grad_norm': 12.689236640930176, 'learning_rate': 4.012085441259135e-06, 'epoch': 0.92}\n",
      "{'loss': 1.4813, 'grad_norm': 7.497740268707275, 'learning_rate': 3.976953344575605e-06, 'epoch': 0.92}\n",
      "{'loss': 1.8342, 'grad_norm': 29.830183029174805, 'learning_rate': 3.9418212478920746e-06, 'epoch': 0.92}\n",
      "{'loss': 1.7672, 'grad_norm': 14.616952896118164, 'learning_rate': 3.906689151208544e-06, 'epoch': 0.92}\n",
      "{'loss': 1.6814, 'grad_norm': 8.840736389160156, 'learning_rate': 3.8715570545250145e-06, 'epoch': 0.93}\n",
      "{'loss': 1.2227, 'grad_norm': 13.141359329223633, 'learning_rate': 3.836424957841484e-06, 'epoch': 0.93}\n",
      "{'loss': 1.1599, 'grad_norm': 11.825494766235352, 'learning_rate': 3.801292861157954e-06, 'epoch': 0.93}\n",
      "{'loss': 1.3491, 'grad_norm': 7.8937201499938965, 'learning_rate': 3.766160764474424e-06, 'epoch': 0.93}\n",
      "{'loss': 1.5542, 'grad_norm': 15.976187705993652, 'learning_rate': 3.7310286677908936e-06, 'epoch': 0.93}\n",
      "{'loss': 1.1674, 'grad_norm': 10.392746925354004, 'learning_rate': 3.6958965711073635e-06, 'epoch': 0.93}\n",
      "{'loss': 1.3894, 'grad_norm': 34.08211135864258, 'learning_rate': 3.660764474423834e-06, 'epoch': 0.93}\n",
      "{'loss': 1.2943, 'grad_norm': 11.992466926574707, 'learning_rate': 3.625632377740304e-06, 'epoch': 0.93}\n",
      "{'loss': 1.2675, 'grad_norm': 11.922350883483887, 'learning_rate': 3.590500281056774e-06, 'epoch': 0.93}\n",
      "{'loss': 1.4097, 'grad_norm': 8.32349967956543, 'learning_rate': 3.5553681843732435e-06, 'epoch': 0.93}\n",
      "{'loss': 1.4109, 'grad_norm': 10.458084106445312, 'learning_rate': 3.5202360876897134e-06, 'epoch': 0.93}\n",
      "{'loss': 1.45, 'grad_norm': 6.81602144241333, 'learning_rate': 3.4851039910061834e-06, 'epoch': 0.93}\n",
      "{'loss': 1.3876, 'grad_norm': 12.490984916687012, 'learning_rate': 3.4499718943226534e-06, 'epoch': 0.93}\n",
      "{'loss': 1.7122, 'grad_norm': 7.7109198570251465, 'learning_rate': 3.414839797639123e-06, 'epoch': 0.93}\n",
      "{'loss': 1.7257, 'grad_norm': 13.784409523010254, 'learning_rate': 3.379707700955593e-06, 'epoch': 0.93}\n",
      "{'loss': 1.3422, 'grad_norm': 9.668204307556152, 'learning_rate': 3.3445756042720633e-06, 'epoch': 0.94}\n",
      "{'loss': 1.8297, 'grad_norm': 10.302923202514648, 'learning_rate': 3.3094435075885333e-06, 'epoch': 0.94}\n",
      "{'loss': 1.6127, 'grad_norm': 16.936264038085938, 'learning_rate': 3.2743114109050033e-06, 'epoch': 0.94}\n",
      "{'loss': 1.2857, 'grad_norm': 6.478300094604492, 'learning_rate': 3.239179314221473e-06, 'epoch': 0.94}\n",
      "{'loss': 1.2792, 'grad_norm': 7.058201789855957, 'learning_rate': 3.204047217537943e-06, 'epoch': 0.94}\n",
      "{'loss': 2.143, 'grad_norm': 7.249481678009033, 'learning_rate': 3.1689151208544128e-06, 'epoch': 0.94}\n",
      "{'loss': 1.4384, 'grad_norm': 9.867558479309082, 'learning_rate': 3.1337830241708823e-06, 'epoch': 0.94}\n",
      "{'loss': 1.3526, 'grad_norm': 7.164524078369141, 'learning_rate': 3.0986509274873527e-06, 'epoch': 0.94}\n",
      "{'loss': 1.3697, 'grad_norm': 8.562621116638184, 'learning_rate': 3.0635188308038227e-06, 'epoch': 0.94}\n",
      "{'loss': 1.5586, 'grad_norm': 10.736571311950684, 'learning_rate': 3.0283867341202923e-06, 'epoch': 0.94}\n",
      "{'loss': 1.289, 'grad_norm': 8.4317045211792, 'learning_rate': 2.9932546374367622e-06, 'epoch': 0.94}\n",
      "{'loss': 1.4943, 'grad_norm': 7.514418601989746, 'learning_rate': 2.9581225407532326e-06, 'epoch': 0.94}\n",
      "{'loss': 1.6999, 'grad_norm': 9.955753326416016, 'learning_rate': 2.922990444069702e-06, 'epoch': 0.94}\n",
      "{'loss': 1.2093, 'grad_norm': 7.200969696044922, 'learning_rate': 2.887858347386172e-06, 'epoch': 0.94}\n",
      "{'loss': 1.3729, 'grad_norm': 10.871040344238281, 'learning_rate': 2.852726250702642e-06, 'epoch': 0.94}\n",
      "{'loss': 1.3398, 'grad_norm': 7.754429817199707, 'learning_rate': 2.8175941540191117e-06, 'epoch': 0.95}\n",
      "{'loss': 1.4783, 'grad_norm': 11.110115051269531, 'learning_rate': 2.782462057335582e-06, 'epoch': 0.95}\n",
      "{'loss': 1.2289, 'grad_norm': 6.6242899894714355, 'learning_rate': 2.747329960652052e-06, 'epoch': 0.95}\n",
      "{'loss': 1.71, 'grad_norm': 9.407803535461426, 'learning_rate': 2.7121978639685216e-06, 'epoch': 0.95}\n",
      "{'loss': 1.4066, 'grad_norm': 16.478837966918945, 'learning_rate': 2.6770657672849916e-06, 'epoch': 0.95}\n",
      "{'loss': 1.2369, 'grad_norm': 10.766746520996094, 'learning_rate': 2.6419336706014616e-06, 'epoch': 0.95}\n",
      "{'loss': 1.1438, 'grad_norm': 8.299560546875, 'learning_rate': 2.6068015739179316e-06, 'epoch': 0.95}\n",
      "{'loss': 1.5546, 'grad_norm': 9.42232608795166, 'learning_rate': 2.5716694772344016e-06, 'epoch': 0.95}\n"
     ]
    },
    {
     "data": {
      "application/vnd.jupyter.widget-view+json": {
       "model_id": "8ab5561d28ed4b83be11825c55a1cebf",
       "version_major": 2,
       "version_minor": 0
      },
      "text/plain": [
       "  0%|          | 0/818 [00:00<?, ?it/s]"
      ]
     },
     "metadata": {},
     "output_type": "display_data"
    },
    {
     "name": "stdout",
     "output_type": "stream",
     "text": [
      "{'eval_loss': 1.3591893911361694, 'eval_runtime': 15.3806, 'eval_samples_per_second': 53.184, 'eval_steps_per_second': 53.184, 'epoch': 0.95}\n",
      "{'loss': 1.6792, 'grad_norm': 6.2728495597839355, 'learning_rate': 2.536537380550871e-06, 'epoch': 0.95}\n",
      "{'loss': 1.2141, 'grad_norm': 10.303190231323242, 'learning_rate': 2.501405283867341e-06, 'epoch': 0.95}\n",
      "{'loss': 1.6912, 'grad_norm': 8.646729469299316, 'learning_rate': 2.4662731871838115e-06, 'epoch': 0.95}\n",
      "{'loss': 1.6004, 'grad_norm': 9.933825492858887, 'learning_rate': 2.431141090500281e-06, 'epoch': 0.95}\n",
      "{'loss': 1.4376, 'grad_norm': 7.370118618011475, 'learning_rate': 2.396008993816751e-06, 'epoch': 0.95}\n",
      "{'loss': 1.4138, 'grad_norm': 5.42567253112793, 'learning_rate': 2.360876897133221e-06, 'epoch': 0.95}\n",
      "{'loss': 1.1861, 'grad_norm': 10.14351749420166, 'learning_rate': 2.325744800449691e-06, 'epoch': 0.96}\n",
      "{'loss': 1.2058, 'grad_norm': 15.259187698364258, 'learning_rate': 2.290612703766161e-06, 'epoch': 0.96}\n",
      "{'loss': 1.7817, 'grad_norm': 6.150397300720215, 'learning_rate': 2.255480607082631e-06, 'epoch': 0.96}\n",
      "{'loss': 1.3309, 'grad_norm': 7.511041641235352, 'learning_rate': 2.2203485103991005e-06, 'epoch': 0.96}\n",
      "{'loss': 1.4989, 'grad_norm': 12.425808906555176, 'learning_rate': 2.1852164137155705e-06, 'epoch': 0.96}\n",
      "{'loss': 1.5094, 'grad_norm': 7.298731327056885, 'learning_rate': 2.150084317032041e-06, 'epoch': 0.96}\n",
      "{'loss': 1.3254, 'grad_norm': 7.590391635894775, 'learning_rate': 2.1149522203485104e-06, 'epoch': 0.96}\n",
      "{'loss': 1.4177, 'grad_norm': 9.867586135864258, 'learning_rate': 2.0798201236649804e-06, 'epoch': 0.96}\n",
      "{'loss': 1.3018, 'grad_norm': 7.766035079956055, 'learning_rate': 2.0446880269814504e-06, 'epoch': 0.96}\n",
      "{'loss': 1.8368, 'grad_norm': 31.4826602935791, 'learning_rate': 2.0095559302979203e-06, 'epoch': 0.96}\n",
      "{'loss': 1.5046, 'grad_norm': 16.67140769958496, 'learning_rate': 1.9744238336143903e-06, 'epoch': 0.96}\n",
      "{'loss': 1.18, 'grad_norm': 12.795321464538574, 'learning_rate': 1.9392917369308603e-06, 'epoch': 0.96}\n",
      "{'loss': 1.4825, 'grad_norm': 8.400766372680664, 'learning_rate': 1.9041596402473299e-06, 'epoch': 0.96}\n",
      "{'loss': 1.4717, 'grad_norm': 11.92844009399414, 'learning_rate': 1.8690275435637998e-06, 'epoch': 0.96}\n",
      "{'loss': 1.6074, 'grad_norm': 7.021650314331055, 'learning_rate': 1.83389544688027e-06, 'epoch': 0.96}\n",
      "{'loss': 1.1022, 'grad_norm': 12.598278045654297, 'learning_rate': 1.7987633501967398e-06, 'epoch': 0.97}\n",
      "{'loss': 1.4424, 'grad_norm': 5.283102989196777, 'learning_rate': 1.7636312535132098e-06, 'epoch': 0.97}\n",
      "{'loss': 1.2999, 'grad_norm': 5.933911323547363, 'learning_rate': 1.7284991568296795e-06, 'epoch': 0.97}\n",
      "{'loss': 1.0865, 'grad_norm': 9.980911254882812, 'learning_rate': 1.6933670601461497e-06, 'epoch': 0.97}\n",
      "{'loss': 1.5749, 'grad_norm': 15.52421760559082, 'learning_rate': 1.6582349634626195e-06, 'epoch': 0.97}\n",
      "{'loss': 1.6106, 'grad_norm': 7.38153076171875, 'learning_rate': 1.6231028667790895e-06, 'epoch': 0.97}\n",
      "{'loss': 1.5543, 'grad_norm': 7.580742359161377, 'learning_rate': 1.5879707700955592e-06, 'epoch': 0.97}\n",
      "{'loss': 1.2539, 'grad_norm': 7.621029376983643, 'learning_rate': 1.5528386734120292e-06, 'epoch': 0.97}\n",
      "{'loss': 1.7998, 'grad_norm': 16.712614059448242, 'learning_rate': 1.5177065767284992e-06, 'epoch': 0.97}\n",
      "{'loss': 1.4321, 'grad_norm': 18.44162368774414, 'learning_rate': 1.4825744800449692e-06, 'epoch': 0.97}\n",
      "{'loss': 1.273, 'grad_norm': 26.27968406677246, 'learning_rate': 1.447442383361439e-06, 'epoch': 0.97}\n",
      "{'loss': 1.3959, 'grad_norm': 7.220139980316162, 'learning_rate': 1.4123102866779091e-06, 'epoch': 0.97}\n",
      "{'loss': 1.4701, 'grad_norm': 23.664140701293945, 'learning_rate': 1.3771781899943789e-06, 'epoch': 0.97}\n",
      "{'loss': 1.7428, 'grad_norm': 22.194984436035156, 'learning_rate': 1.3420460933108489e-06, 'epoch': 0.97}\n",
      "{'loss': 1.4071, 'grad_norm': 8.638710975646973, 'learning_rate': 1.3069139966273188e-06, 'epoch': 0.97}\n",
      "{'loss': 1.5822, 'grad_norm': 11.746840476989746, 'learning_rate': 1.2717818999437888e-06, 'epoch': 0.98}\n",
      "{'loss': 1.5897, 'grad_norm': 16.829933166503906, 'learning_rate': 1.2366498032602586e-06, 'epoch': 0.98}\n",
      "{'loss': 1.2429, 'grad_norm': 13.999309539794922, 'learning_rate': 1.2015177065767286e-06, 'epoch': 0.98}\n",
      "{'loss': 1.311, 'grad_norm': 10.393973350524902, 'learning_rate': 1.1663856098931985e-06, 'epoch': 0.98}\n",
      "{'loss': 1.4713, 'grad_norm': 10.540849685668945, 'learning_rate': 1.1312535132096683e-06, 'epoch': 0.98}\n",
      "{'loss': 1.4019, 'grad_norm': 5.5009965896606445, 'learning_rate': 1.0961214165261383e-06, 'epoch': 0.98}\n",
      "{'loss': 1.259, 'grad_norm': 8.89295768737793, 'learning_rate': 1.0609893198426083e-06, 'epoch': 0.98}\n",
      "{'loss': 1.5395, 'grad_norm': 4.44636869430542, 'learning_rate': 1.0258572231590782e-06, 'epoch': 0.98}\n",
      "{'loss': 1.7244, 'grad_norm': 13.834576606750488, 'learning_rate': 9.90725126475548e-07, 'epoch': 0.98}\n",
      "{'loss': 1.3733, 'grad_norm': 7.175990581512451, 'learning_rate': 9.555930297920182e-07, 'epoch': 0.98}\n",
      "{'loss': 1.3148, 'grad_norm': 6.501805782318115, 'learning_rate': 9.20460933108488e-07, 'epoch': 0.98}\n",
      "{'loss': 1.3289, 'grad_norm': 7.3342604637146, 'learning_rate': 8.853288364249579e-07, 'epoch': 0.98}\n",
      "{'loss': 1.2618, 'grad_norm': 11.941089630126953, 'learning_rate': 8.501967397414278e-07, 'epoch': 0.98}\n",
      "{'loss': 1.4808, 'grad_norm': 13.737287521362305, 'learning_rate': 8.150646430578977e-07, 'epoch': 0.98}\n"
     ]
    },
    {
     "data": {
      "application/vnd.jupyter.widget-view+json": {
       "model_id": "80b8fb64fb574ad0a097c5996d33f816",
       "version_major": 2,
       "version_minor": 0
      },
      "text/plain": [
       "  0%|          | 0/818 [00:00<?, ?it/s]"
      ]
     },
     "metadata": {},
     "output_type": "display_data"
    },
    {
     "name": "stdout",
     "output_type": "stream",
     "text": [
      "{'eval_loss': 1.3590444326400757, 'eval_runtime': 15.3177, 'eval_samples_per_second': 53.402, 'eval_steps_per_second': 53.402, 'epoch': 0.98}\n",
      "{'loss': 1.0758, 'grad_norm': 6.68756628036499, 'learning_rate': 7.799325463743676e-07, 'epoch': 0.98}\n",
      "{'loss': 1.4114, 'grad_norm': 9.218562126159668, 'learning_rate': 7.448004496908376e-07, 'epoch': 0.99}\n",
      "{'loss': 1.6049, 'grad_norm': 8.420698165893555, 'learning_rate': 7.096683530073076e-07, 'epoch': 0.99}\n",
      "{'loss': 1.7119, 'grad_norm': 7.854781150817871, 'learning_rate': 6.745362563237774e-07, 'epoch': 0.99}\n",
      "{'loss': 1.2695, 'grad_norm': 10.833246231079102, 'learning_rate': 6.394041596402473e-07, 'epoch': 0.99}\n",
      "{'loss': 1.4639, 'grad_norm': 8.286672592163086, 'learning_rate': 6.042720629567172e-07, 'epoch': 0.99}\n",
      "{'loss': 1.4571, 'grad_norm': 27.17167854309082, 'learning_rate': 5.691399662731872e-07, 'epoch': 0.99}\n",
      "{'loss': 1.3025, 'grad_norm': 9.149006843566895, 'learning_rate': 5.340078695896572e-07, 'epoch': 0.99}\n",
      "{'loss': 1.3942, 'grad_norm': 545.5225219726562, 'learning_rate': 4.98875772906127e-07, 'epoch': 0.99}\n",
      "{'loss': 1.5708, 'grad_norm': 11.785932540893555, 'learning_rate': 4.63743676222597e-07, 'epoch': 0.99}\n",
      "{'loss': 1.871, 'grad_norm': 31.02802848815918, 'learning_rate': 4.2861157953906694e-07, 'epoch': 0.99}\n",
      "{'loss': 1.6008, 'grad_norm': 7.910550117492676, 'learning_rate': 3.9347948285553687e-07, 'epoch': 0.99}\n",
      "{'loss': 1.5215, 'grad_norm': 71.53836822509766, 'learning_rate': 3.5834738617200674e-07, 'epoch': 0.99}\n",
      "{'loss': 1.3821, 'grad_norm': 6.999543190002441, 'learning_rate': 3.232152894884767e-07, 'epoch': 0.99}\n",
      "{'loss': 1.2176, 'grad_norm': 6.100790977478027, 'learning_rate': 2.8808319280494664e-07, 'epoch': 0.99}\n",
      "{'loss': 1.32, 'grad_norm': 8.424992561340332, 'learning_rate': 2.529510961214165e-07, 'epoch': 1.0}\n",
      "{'loss': 1.7894, 'grad_norm': 17.20270347595215, 'learning_rate': 2.1781899943788646e-07, 'epoch': 1.0}\n",
      "{'loss': 1.6036, 'grad_norm': 8.552157402038574, 'learning_rate': 1.826869027543564e-07, 'epoch': 1.0}\n",
      "{'loss': 1.3597, 'grad_norm': 9.281967163085938, 'learning_rate': 1.475548060708263e-07, 'epoch': 1.0}\n",
      "{'loss': 1.5154, 'grad_norm': 8.013258934020996, 'learning_rate': 1.1242270938729624e-07, 'epoch': 1.0}\n",
      "{'loss': 1.3796, 'grad_norm': 8.047334671020508, 'learning_rate': 7.729061270376616e-08, 'epoch': 1.0}\n",
      "{'loss': 1.285, 'grad_norm': 16.058427810668945, 'learning_rate': 4.2158516020236085e-08, 'epoch': 1.0}\n",
      "{'loss': 1.517, 'grad_norm': 9.680572509765625, 'learning_rate': 7.026419336706015e-09, 'epoch': 1.0}\n"
     ]
    },
    {
     "name": "stderr",
     "output_type": "stream",
     "text": [
      "Some non-default generation parameters are set in the model config. These should go into a GenerationConfig file (https://huggingface.co/docs/transformers/generation_strategies#save-a-custom-decoding-strategy-with-your-model) instead. This warning will be raised to an exception in v4.41.\n",
      "Non-default generation parameters: {'max_length': 128, 'min_length': 32, 'num_beams': 8, 'length_penalty': 0.8, 'forced_eos_token_id': 1}\n"
     ]
    },
    {
     "name": "stdout",
     "output_type": "stream",
     "text": [
      "{'train_runtime': 2516.3417, 'train_samples_per_second': 5.855, 'train_steps_per_second': 5.855, 'train_loss': 1.5790535163659296, 'epoch': 1.0}\n"
     ]
    },
    {
     "data": {
      "text/plain": [
       "TrainOutput(global_step=14732, training_loss=1.5790535163659296, metrics={'train_runtime': 2516.3417, 'train_samples_per_second': 5.855, 'train_steps_per_second': 5.855, 'total_flos': 5531718781673472.0, 'train_loss': 1.5790535163659296, 'epoch': 1.0})"
      ]
     },
     "execution_count": 15,
     "metadata": {},
     "output_type": "execute_result"
    }
   ],
   "source": [
    "trainer.train()"
   ]
  },
  {
   "cell_type": "markdown",
   "metadata": {},
   "source": [
    "## **Evaluation**"
   ]
  },
  {
   "cell_type": "code",
   "execution_count": 25,
   "metadata": {},
   "outputs": [],
   "source": [
    "# load model and tokenizer\n",
    "model_path = \"pegasus-samsum/checkpoint-14732\"\n",
    "trained_model = AutoModelForSeq2SeqLM.from_pretrained(model_path).to(\"cuda\")\n",
    "tokenizer = AutoTokenizer.from_pretrained(model_path)"
   ]
  },
  {
   "cell_type": "code",
   "execution_count": 23,
   "metadata": {},
   "outputs": [],
   "source": [
    "def generate_batch_sized_chuncks(list_of_elements: list, batch_size: int):\n",
    "    \"\"\"Split dataset into smaller batches that can be processed simultaneously\n",
    "    Yield successive batch-sized chunks from list of elements.\n",
    "\n",
    "    Args:\n",
    "        list_of_elements (list): List with elements to be split on batches\n",
    "        batch_size (int): Number of elements per batch\n",
    "\n",
    "    Yield:\n",
    "        list: Batches\n",
    "    \"\"\"\n",
    "    for i in range(0, len(list_of_elements), batch_size):\n",
    "        yield list_of_elements[i : i + batch_size]\n",
    "\n",
    "\n",
    "def calculate_test_metric(\n",
    "    dataset: datasets.arrow_dataset.Dataset,\n",
    "    metric,\n",
    "    model: transformers.models.pegasus.modeling_pegasus.PegasusForConditionalGeneration,\n",
    "    tokenizer: transformers.models.pegasus.tokenization_pegasus_fast.PegasusTokenizerFast,\n",
    "    batch_size: int = 16,\n",
    "    device: str = \"cuda\",\n",
    "    column_text: str = \"article\",\n",
    "    column_summary: str = \"highlights\",\n",
    ") -> float:\n",
    "    \"\"\"_summary_\n",
    "\n",
    "    Args:\n",
    "        dataset (datasets.arrow_dataset.Dataset): _description_\n",
    "        metric (str): _description_\n",
    "        model (transformers.models.pegasus.modeling_pegasus.PegasusForConditionalGeneration): _description_\n",
    "        tokenizer (transformers.models.pegasus.tokenization_pegasus_fast.PegasusTokenizerFast): _description_\n",
    "        batch_size (int): _description_\n",
    "        column_text (str, optional): _description_. Defaults to \"article\".\n",
    "        column_summary (str, optional): _description_. Defaults to \"highlights\".\n",
    "\n",
    "    Returns:\n",
    "        float: _description_\n",
    "    \"\"\"\n",
    "    article_batches = list(\n",
    "        generate_batch_sized_chuncks(dataset[column_text], batch_size)\n",
    "    )\n",
    "    target_batches = list(\n",
    "        generate_batch_sized_chuncks(dataset[column_summary], batch_size)\n",
    "    )\n",
    "\n",
    "    for article_batch, target_batch in tqdm(\n",
    "        zip(article_batches, target_batches), total=len(article_batches)\n",
    "    ):\n",
    "\n",
    "        inputs = tokenizer(\n",
    "            article_batch,\n",
    "            max_length=1024,\n",
    "            truncation=True,\n",
    "            padding=\"max_length\",\n",
    "            return_tensors=\"pt\",\n",
    "        )\n",
    "        summaries = model.generate(\n",
    "            input_ids=inputs[\"input_ids\"].to(device),\n",
    "            attention_mask=inputs[\"attention_mask\"].to(device),\n",
    "            length_penalty=0.8,\n",
    "            num_beams=8,\n",
    "            max_length=128,  # avoid long sequences\n",
    "        )\n",
    "\n",
    "        decoded_summaries = [\n",
    "            tokenizer.decode(\n",
    "                s,\n",
    "                skip_special_tokens=True,\n",
    "                clean_up_tokenization_spaces=True,\n",
    "            )\n",
    "            for s in summaries\n",
    "        ]\n",
    "\n",
    "        decoded_summaries = [d.replace(\"\", \" \") for d in decoded_summaries]\n",
    "\n",
    "        metric.add_batch(predictions=decoded_summaries, references=target_batch)\n",
    "\n",
    "    return metric.compute()"
   ]
  },
  {
   "cell_type": "code",
   "execution_count": 11,
   "metadata": {},
   "outputs": [],
   "source": [
    "rouge_names = [\"rouge1\", \"rouge2\", \"rougeL\", \"rougeLsum\"]\n",
    "rouge_metric = load_metric(\"rouge\")"
   ]
  },
  {
   "cell_type": "code",
   "execution_count": 26,
   "metadata": {},
   "outputs": [
    {
     "name": "stderr",
     "output_type": "stream",
     "text": [
      "100%|██████████| 410/410 [04:25<00:00,  1.55it/s]\n"
     ]
    },
    {
     "data": {
      "text/html": [
       "<div>\n",
       "<style scoped>\n",
       "    .dataframe tbody tr th:only-of-type {\n",
       "        vertical-align: middle;\n",
       "    }\n",
       "\n",
       "    .dataframe tbody tr th {\n",
       "        vertical-align: top;\n",
       "    }\n",
       "\n",
       "    .dataframe thead th {\n",
       "        text-align: right;\n",
       "    }\n",
       "</style>\n",
       "<table border=\"1\" class=\"dataframe\">\n",
       "  <thead>\n",
       "    <tr style=\"text-align: right;\">\n",
       "      <th></th>\n",
       "      <th>rouge1</th>\n",
       "      <th>rouge2</th>\n",
       "      <th>rougeL</th>\n",
       "      <th>rougeLsum</th>\n",
       "    </tr>\n",
       "  </thead>\n",
       "  <tbody>\n",
       "    <tr>\n",
       "      <th>pegasus</th>\n",
       "      <td>0.01829</td>\n",
       "      <td>0.000369</td>\n",
       "      <td>0.018192</td>\n",
       "      <td>0.018176</td>\n",
       "    </tr>\n",
       "  </tbody>\n",
       "</table>\n",
       "</div>"
      ],
      "text/plain": [
       "          rouge1    rouge2    rougeL  rougeLsum\n",
       "pegasus  0.01829  0.000369  0.018192   0.018176"
      ]
     },
     "execution_count": 26,
     "metadata": {},
     "output_type": "execute_result"
    }
   ],
   "source": [
    "score = calculate_test_metric(\n",
    "    dataset[\"test\"],\n",
    "    rouge_metric,\n",
    "    trained_model,\n",
    "    tokenizer,\n",
    "    batch_size=2,\n",
    "    device=\"cuda\",\n",
    "    column_text=\"dialogue\",\n",
    "    column_summary=\"summary\",\n",
    ")\n",
    "\n",
    "rouge_dict = dict((rn, score[rn].mid.fmeasure) for rn in rouge_names)\n",
    "\n",
    "pd.DataFrame(rouge_dict, index=[\"pegasus\"])"
   ]
  },
  {
   "cell_type": "code",
   "execution_count": 27,
   "metadata": {},
   "outputs": [
    {
     "name": "stderr",
     "output_type": "stream",
     "text": [
      "Some non-default generation parameters are set in the model config. These should go into a GenerationConfig file (https://huggingface.co/docs/transformers/generation_strategies#save-a-custom-decoding-strategy-with-your-model) instead. This warning will be raised to an exception in v4.41.\n",
      "Non-default generation parameters: {'max_length': 128, 'min_length': 32, 'num_beams': 8, 'length_penalty': 0.8, 'forced_eos_token_id': 1}\n"
     ]
    },
    {
     "data": {
      "text/plain": [
       "('pegasus-samsum-model/tokenizer_config.json',\n",
       " 'pegasus-samsum-model/special_tokens_map.json',\n",
       " 'pegasus-samsum-model/spiece.model',\n",
       " 'pegasus-samsum-model/added_tokens.json',\n",
       " 'pegasus-samsum-model/tokenizer.json')"
      ]
     },
     "execution_count": 27,
     "metadata": {},
     "output_type": "execute_result"
    }
   ],
   "source": [
    "trained_model.save_pretrained(\"pegasus-samsum-model\")\n",
    "tokenizer.save_pretrained(\"pegasus-samsum-model\")"
   ]
  },
  {
   "cell_type": "markdown",
   "metadata": {},
   "source": [
    "## **Prediction**"
   ]
  },
  {
   "cell_type": "code",
   "execution_count": 30,
   "metadata": {},
   "outputs": [
    {
     "name": "stderr",
     "output_type": "stream",
     "text": [
      "Hardware accelerator e.g. GPU is available in the environment, but no `device` argument is passed to the `Pipeline` object. Model will be on CPU.\n"
     ]
    },
    {
     "name": "stdout",
     "output_type": "stream",
     "text": [
      "Dialogue:\n",
      "Benjamin: Hey guys, what are we doing with the keys today?\n",
      "Hilary: I've got them. Whoever wants them can meet me at lunchtime or after\n",
      "Elliot: I'm ok. We're meeting for the drinks in the evening anyway and I guess we'll be going back to the apartment together?\n",
      "Hilary: Yeah, I guess so\n",
      "Daniel: I'm with Hilary atm and won't let go of her for the rest of the day, so any option you guys choose is good for me\n",
      "Benjamin: Hmm I might actually pass by at lunchtime, take the keys and go take a nap. I'm sooo tired after yesterday\n",
      "Hilary: Sounds good. We'll be having lunch with some French people (the ones who work on the history of food in colonial Mexico - I already see you yawning your head off)\n",
      "Benjamin: YAAAAWN 🙊 Where and where are you meeting?\n",
      "Hilary: So I'm meeting them at the entrance to the conference hall at 2 pm and then we'll head to this place called La Cantina. Italian cuisine, which is quite funny, but that's what they've chosen\n",
      "Benjamin: Interesting 😱 To be honest, Hilary, I almost feel like changing my mind. Wanting to take this nap might end up costing me to dear\n",
      "Hilary: Oh come on 😂\n",
      "Benjamin: All these terrible obstacles on mu way to bed might just prove to much to take\n",
      "Hilary: We'll try to avoid talking about their subject of research. Oh wait, no, I'm actually meeting them because I wanted to chat about their research lol\n",
      "Elliot: 🙉\n",
      "Hilary: Do join us, we're going to have fun. And then you'll take the keys and take this most deserved of naps\n",
      "Elliot: Sounds like a plan 😂\n",
      "Hilary: 😎\n",
      "Elliot: See you at 2 then xx\n",
      "\n",
      "Reference Summary:\n",
      "Hilary has the keys to the apartment. Benjamin wants to get them and go take a nap. Hilary is having lunch with some French people at La Cantina. Hilary is meeting them at the entrance to the conference hall at 2 pm. Benjamin and Elliot might join them. They're meeting for the drinks in the evening.\n",
      "\n",
      "Model Summary:\n",
      "Hilary has the keys. Elliot and Daniel are meeting for drinks in the evening. Hilary is meeting French people at the entrance to the conference hall at 2 pm and they will go to La Cantina.\n"
     ]
    }
   ],
   "source": [
    "gen_kwargs = {\"length_penalty\": 0.8, \"num_beams\": 8, \"max_length\": 128}\n",
    "\n",
    "\n",
    "sample_text = dataset[\"test\"][5][\"dialogue\"]\n",
    "\n",
    "reference = dataset[\"test\"][5][\"summary\"]\n",
    "\n",
    "pipe = pipeline(\"summarization\", model=\"pegasus-samsum-model\", tokenizer=tokenizer)\n",
    "\n",
    "##\n",
    "print(\"Dialogue:\")\n",
    "print(sample_text)\n",
    "\n",
    "\n",
    "print(\"\\nReference Summary:\")\n",
    "print(reference)\n",
    "\n",
    "\n",
    "print(\"\\nModel Summary:\")\n",
    "print(pipe(sample_text, **gen_kwargs)[5][\"summary_text\"])"
   ]
  }
 ],
 "metadata": {
  "kernelspec": {
   "display_name": "pytorch",
   "language": "python",
   "name": "python3"
  },
  "language_info": {
   "codemirror_mode": {
    "name": "ipython",
    "version": 3
   },
   "file_extension": ".py",
   "mimetype": "text/x-python",
   "name": "python",
   "nbconvert_exporter": "python",
   "pygments_lexer": "ipython3",
   "version": "3.12.4"
  }
 },
 "nbformat": 4,
 "nbformat_minor": 2
}
